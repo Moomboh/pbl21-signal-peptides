{
 "cells": [
  {
   "cell_type": "code",
   "execution_count": 2,
   "metadata": {
    "collapsed": true
   },
   "outputs": [],
   "source": [
    "from typing import Tuple\n",
    "\n",
    "import numpy as np\n",
    "import pandas as pd\n",
    "import seaborn as sns\n",
    "\n",
    "sns.set_theme()\n",
    "from tensorflow import keras\n",
    "\n",
    "from constants import TRAINING_PARTITIONS, ALL_PARTITIONS, annotation_mapping, amino_acid_mapping, reverse_annotation_mapping\n",
    "from constants import TYPES, KINGDOMS, METRIC_KINGDOMS, METRIC_TYPES\n",
    "from metrics.metrics import *\n",
    "from utils.Dataset import Dataset\n",
    "from utils.helpers import getDatasetPath\n",
    "from utils.encoding import categoricalToSequence, oneHotToCategorical, sequenceToCategorical, categoricalToOneHot\n",
    "from serialization import Serializer"
   ]
  },
  {
   "cell_type": "markdown",
   "source": [
    "# Load"
   ],
   "metadata": {
    "collapsed": false,
    "pycharm": {
     "name": "#%% md\n"
    }
   }
  },
  {
   "cell_type": "code",
   "execution_count": 3,
   "outputs": [],
   "source": [
    "# Load model\n",
    "run_timestamp = \"20211113-1438\"\n",
    "base_path = f\"../results/{run_timestamp}/\"\n",
    "final_model = keras.models.load_model(base_path + f\"models/final_model.h5\")\n",
    "\n",
    "# Load logged metrics\n",
    "final_training_metrics = pd.read_csv(\n",
    "        base_path + f\"metrics/final_model.csv\",\n",
    "        index_col=\"epoch\"\n",
    ")\n",
    "\n",
    "# 1-based indexing for epochs\n",
    "final_training_metrics.reset_index(inplace=True)\n",
    "final_training_metrics[\"epoch\"] = final_training_metrics[\"epoch\"] + 1\n",
    "final_training_metrics.set_index([\"epoch\"], inplace=True)"
   ],
   "metadata": {
    "collapsed": false,
    "pycharm": {
     "name": "#%%\n"
    }
   }
  },
  {
   "cell_type": "markdown",
   "source": [
    "# Evaluation on Test Set"
   ],
   "metadata": {
    "collapsed": false,
    "pycharm": {
     "name": "#%% md\n"
    }
   }
  },
  {
   "cell_type": "markdown",
   "source": [
    "## Load test set"
   ],
   "metadata": {
    "collapsed": false,
    "pycharm": {
     "name": "#%% md\n"
    }
   }
  },
  {
   "cell_type": "code",
   "execution_count": 4,
   "outputs": [],
   "source": [
    "test_data = Dataset(getDatasetPath()).getFolds([0])"
   ],
   "metadata": {
    "collapsed": false,
    "pycharm": {
     "name": "#%%\n"
    }
   }
  },
  {
   "cell_type": "markdown",
   "source": [
    "## Make predictions"
   ],
   "metadata": {
    "collapsed": false,
    "pycharm": {
     "name": "#%% md\n"
    }
   }
  },
  {
   "cell_type": "code",
   "execution_count": 5,
   "outputs": [],
   "source": [
    "test_x = np.array([categoricalToOneHot(sequenceToCategorical(seq, amino_acid_mapping), amino_acid_mapping) for seq in test_data[\"sequence\"]])\n",
    "predictions = final_model.predict(test_x)\n",
    "\n",
    "test_data[\"prediction\"] = np.array([categoricalToSequence(oneHotToCategorical(pred), reverse_annotation_mapping) for pred in predictions])"
   ],
   "metadata": {
    "collapsed": false,
    "pycharm": {
     "name": "#%%\n"
    }
   }
  },
  {
   "cell_type": "code",
   "execution_count": 19,
   "outputs": [
    {
     "data": {
      "text/plain": "                                                                          sequence  \\\npartition type  kingdom  number                                                      \n0         SP    EUKARYA  0       MKAVITLLFLACILVVTYGDLICGTNYCKDHPCTSPIARASCRSPA...   \n                         1       MVRPKHQPGGLCLLLLLLCQFMEDRSAQAGNCWLRQAKNGRCQVLY...   \n                         2       MNSVLFLTLAVCSSLAYGKEFVATVRQNYKENINQLLEQQIQKELA...   \n                         3       MVRARHQPGGLCLLLLLLCQFMEDRSAQAGNCWLRQAKNGRCQVLY...   \n                         4       MRLLLALLGVLLSVPGPPVLSLEASEEVELEPCLAPSLEQQEQELT...   \n...                                                                            ...   \n          NO_SP NEGATIVE 79      MLNQKIQNPNPDELMIEVDLCYELDPYELKLDEMIEAEPEPEMIEG...   \n                         80      MKKISRKEYVSMYGPTTGDKVRLGDTDLIAEVEHDYTIYGEELKFG...   \n                         81      MTPLVKDIIMSSTRMPALFLGHGSPMNVLEDNLYTRSWQKLGMTLP...   \n                         82      MRIKPDDNWRWYYDEEHDRMMLDLANGMLFRSRFARKMLTPDAFSP...   \n                         83      MQSVTPTSQYLKALNEGSHQPDDVQKEAVSRLEIIYQELINSTPPA...   \n\n                                                                        annotation  \\\npartition type  kingdom  number                                                      \n0         SP    EUKARYA  0       SSSSSSSSSSSSSSSSSSSOOOOOOOOOOOOOOOOOOOOOOOOOOO...   \n                         1       SSSSSSSSSSSSSSSSSSSSSSSSSSSSSOOOOOOOOOOOOOOOOO...   \n                         2       SSSSSSSSSSSSSSSSSSOOOOOOOOOOOOOOOOOOOOOOOOOOOO...   \n                         3       SSSSSSSSSSSSSSSSSSSSSSSSSSSSSOOOOOOOOOOOOOOOOO...   \n                         4       SSSSSSSSSSSSSSSSSSSSSOOOOOOOOOOOOOOOOOOOOOOOOO...   \n...                                                                            ...   \n          NO_SP NEGATIVE 79      IIIIIIIIIIIIIIIIIIIIIIIIIIIIIIIIIIIIIIIIIIIIII...   \n                         80      IIIIIIIIIIIIIIIIIIIIIIIIIIIIIIIIIIIIIIIIIIIIII...   \n                         81      IIIIIIIIIIIIIIIIIIIIIIIIIIIIIIIIIIIIIIIIIIIIII...   \n                         82      IIIIIIIIIIIIIIIIIIIIIIIIIIIIIIIIIIIIIIIIIIIIII...   \n                         83      IIIIIIIIIIIIIIIIIIIIIIIIIIIIIIIIIIIIIIIIIIIIII...   \n\n                                                                        prediction  \npartition type  kingdom  number                                                     \n0         SP    EUKARYA  0       SSSSSSSSSSSSSSSSSSSSSSOOOOOOOOOOOOOOOOOOOOOOOO...  \n                         1       SSSSSSSSSSSSSSSSSSSSSSSSSSOOOOOOOOOOOOOOOOOOOO...  \n                         2       SSSSSSSSSSSSSSSSOOOOOOOOOOOOOOOOOOOOOOOOOOOOOO...  \n                         3       SSSSSSSSSSSSSSSSSSSSSSSSSOOOOOOOOOOOOOOOOOOOOO...  \n                         4       SSSSSSSSSSSSSSSSSSSSOOOOOOOOOOOOOOOOOOOOOOOOOO...  \n...                                                                            ...  \n          NO_SP NEGATIVE 79      IIIIIIIIIIIIIIIIIIIIIIIIIIIIIIIIIIIIIIIIIIIIII...  \n                         80      IIIIIIIIIIIIIIIIIIIIIIIIIIIIIIIIIIIIIIIIIIIIII...  \n                         81      IIIIIIIIIIIIIIIIIIIIIIIIIIIIIIIIIIIIIIIIIIIIII...  \n                         82      IIIIIIIIIIIIIIIIIIIIIIIIIIIIIIIIIIIIIIIIIIIIII...  \n                         83      IIIIIIIIIIIIIIIIIIIIIIIIIIIIIIIIIIIIIIIIIIIIII...  \n\n[4104 rows x 3 columns]",
      "text/html": "<div>\n<style scoped>\n    .dataframe tbody tr th:only-of-type {\n        vertical-align: middle;\n    }\n\n    .dataframe tbody tr th {\n        vertical-align: top;\n    }\n\n    .dataframe thead th {\n        text-align: right;\n    }\n</style>\n<table border=\"1\" class=\"dataframe\">\n  <thead>\n    <tr style=\"text-align: right;\">\n      <th></th>\n      <th></th>\n      <th></th>\n      <th></th>\n      <th>sequence</th>\n      <th>annotation</th>\n      <th>prediction</th>\n    </tr>\n    <tr>\n      <th>partition</th>\n      <th>type</th>\n      <th>kingdom</th>\n      <th>number</th>\n      <th></th>\n      <th></th>\n      <th></th>\n    </tr>\n  </thead>\n  <tbody>\n    <tr>\n      <th rowspan=\"11\" valign=\"top\">0</th>\n      <th rowspan=\"5\" valign=\"top\">SP</th>\n      <th rowspan=\"5\" valign=\"top\">EUKARYA</th>\n      <th>0</th>\n      <td>MKAVITLLFLACILVVTYGDLICGTNYCKDHPCTSPIARASCRSPA...</td>\n      <td>SSSSSSSSSSSSSSSSSSSOOOOOOOOOOOOOOOOOOOOOOOOOOO...</td>\n      <td>SSSSSSSSSSSSSSSSSSSSSSOOOOOOOOOOOOOOOOOOOOOOOO...</td>\n    </tr>\n    <tr>\n      <th>1</th>\n      <td>MVRPKHQPGGLCLLLLLLCQFMEDRSAQAGNCWLRQAKNGRCQVLY...</td>\n      <td>SSSSSSSSSSSSSSSSSSSSSSSSSSSSSOOOOOOOOOOOOOOOOO...</td>\n      <td>SSSSSSSSSSSSSSSSSSSSSSSSSSOOOOOOOOOOOOOOOOOOOO...</td>\n    </tr>\n    <tr>\n      <th>2</th>\n      <td>MNSVLFLTLAVCSSLAYGKEFVATVRQNYKENINQLLEQQIQKELA...</td>\n      <td>SSSSSSSSSSSSSSSSSSOOOOOOOOOOOOOOOOOOOOOOOOOOOO...</td>\n      <td>SSSSSSSSSSSSSSSSOOOOOOOOOOOOOOOOOOOOOOOOOOOOOO...</td>\n    </tr>\n    <tr>\n      <th>3</th>\n      <td>MVRARHQPGGLCLLLLLLCQFMEDRSAQAGNCWLRQAKNGRCQVLY...</td>\n      <td>SSSSSSSSSSSSSSSSSSSSSSSSSSSSSOOOOOOOOOOOOOOOOO...</td>\n      <td>SSSSSSSSSSSSSSSSSSSSSSSSSOOOOOOOOOOOOOOOOOOOOO...</td>\n    </tr>\n    <tr>\n      <th>4</th>\n      <td>MRLLLALLGVLLSVPGPPVLSLEASEEVELEPCLAPSLEQQEQELT...</td>\n      <td>SSSSSSSSSSSSSSSSSSSSSOOOOOOOOOOOOOOOOOOOOOOOOO...</td>\n      <td>SSSSSSSSSSSSSSSSSSSSOOOOOOOOOOOOOOOOOOOOOOOOOO...</td>\n    </tr>\n    <tr>\n      <th>...</th>\n      <th>...</th>\n      <th>...</th>\n      <td>...</td>\n      <td>...</td>\n      <td>...</td>\n    </tr>\n    <tr>\n      <th rowspan=\"5\" valign=\"top\">NO_SP</th>\n      <th rowspan=\"5\" valign=\"top\">NEGATIVE</th>\n      <th>79</th>\n      <td>MLNQKIQNPNPDELMIEVDLCYELDPYELKLDEMIEAEPEPEMIEG...</td>\n      <td>IIIIIIIIIIIIIIIIIIIIIIIIIIIIIIIIIIIIIIIIIIIIII...</td>\n      <td>IIIIIIIIIIIIIIIIIIIIIIIIIIIIIIIIIIIIIIIIIIIIII...</td>\n    </tr>\n    <tr>\n      <th>80</th>\n      <td>MKKISRKEYVSMYGPTTGDKVRLGDTDLIAEVEHDYTIYGEELKFG...</td>\n      <td>IIIIIIIIIIIIIIIIIIIIIIIIIIIIIIIIIIIIIIIIIIIIII...</td>\n      <td>IIIIIIIIIIIIIIIIIIIIIIIIIIIIIIIIIIIIIIIIIIIIII...</td>\n    </tr>\n    <tr>\n      <th>81</th>\n      <td>MTPLVKDIIMSSTRMPALFLGHGSPMNVLEDNLYTRSWQKLGMTLP...</td>\n      <td>IIIIIIIIIIIIIIIIIIIIIIIIIIIIIIIIIIIIIIIIIIIIII...</td>\n      <td>IIIIIIIIIIIIIIIIIIIIIIIIIIIIIIIIIIIIIIIIIIIIII...</td>\n    </tr>\n    <tr>\n      <th>82</th>\n      <td>MRIKPDDNWRWYYDEEHDRMMLDLANGMLFRSRFARKMLTPDAFSP...</td>\n      <td>IIIIIIIIIIIIIIIIIIIIIIIIIIIIIIIIIIIIIIIIIIIIII...</td>\n      <td>IIIIIIIIIIIIIIIIIIIIIIIIIIIIIIIIIIIIIIIIIIIIII...</td>\n    </tr>\n    <tr>\n      <th>83</th>\n      <td>MQSVTPTSQYLKALNEGSHQPDDVQKEAVSRLEIIYQELINSTPPA...</td>\n      <td>IIIIIIIIIIIIIIIIIIIIIIIIIIIIIIIIIIIIIIIIIIIIII...</td>\n      <td>IIIIIIIIIIIIIIIIIIIIIIIIIIIIIIIIIIIIIIIIIIIIII...</td>\n    </tr>\n  </tbody>\n</table>\n<p>4104 rows × 3 columns</p>\n</div>"
     },
     "execution_count": 19,
     "metadata": {},
     "output_type": "execute_result"
    }
   ],
   "source": [
    "test_data"
   ],
   "metadata": {
    "collapsed": false,
    "pycharm": {
     "name": "#%%\n"
    }
   }
  },
  {
   "cell_type": "code",
   "execution_count": 9,
   "outputs": [],
   "source": [
    "test_data.to_csv(\"G:\\\\My Drive\\\\Files\\\\Projects\\\\University\\\\2021S\\\\PBL\\\\Code\\\\evaluation\\\\data\\\\test_split_predictions_julius.tsv\", sep=\"\\t\")"
   ],
   "metadata": {
    "collapsed": false,
    "pycharm": {
     "name": "#%%\n"
    }
   }
  },
  {
   "cell_type": "markdown",
   "source": [
    "## Compute stratified metrics"
   ],
   "metadata": {
    "collapsed": false,
    "pycharm": {
     "name": "#%% md\n"
    }
   }
  },
  {
   "cell_type": "code",
   "execution_count": 15,
   "outputs": [],
   "source": [
    "def getRelevantData(query: str) -> Tuple[np.ndarray, np.ndarray]:\n",
    "    relevant_data = test_data.query(query)\n",
    "    y_pred = np.array([sequenceToCategorical(seq, annotation_mapping) for seq in relevant_data[\"prediction\"]])\n",
    "    y_true = np.array([sequenceToCategorical(seq, annotation_mapping) for seq in relevant_data[\"annotation\"]])\n",
    "\n",
    "    return (y_pred, y_true)\n"
   ],
   "metadata": {
    "collapsed": false,
    "pycharm": {
     "name": "#%%\n"
    }
   }
  },
  {
   "cell_type": "code",
   "execution_count": 26,
   "outputs": [
    {
     "name": "stderr",
     "output_type": "stream",
     "text": [
      "C:\\Users\\juliu\\AppData\\Local\\Programs\\Python\\Python39\\lib\\site-packages\\sklearn\\metrics\\_classification.py:1308: UndefinedMetricWarning: Recall is ill-defined and being set to 0.0 in labels with no true samples. Use `zero_division` parameter to control this behavior.\n",
      "  _warn_prf(average, modifier, msg_start, len(result))\n",
      "C:\\Users\\juliu\\AppData\\Local\\Programs\\Python\\Python39\\lib\\site-packages\\sklearn\\metrics\\_classification.py:1308: UndefinedMetricWarning: Recall is ill-defined and being set to 0.0 in labels with no true samples. Use `zero_division` parameter to control this behavior.\n",
      "  _warn_prf(average, modifier, msg_start, len(result))\n",
      "C:\\Users\\juliu\\AppData\\Local\\Programs\\Python\\Python39\\lib\\site-packages\\sklearn\\metrics\\_classification.py:1308: UndefinedMetricWarning: Recall is ill-defined and being set to 0.0 in labels with no true samples. Use `zero_division` parameter to control this behavior.\n",
      "  _warn_prf(average, modifier, msg_start, len(result))\n",
      "C:\\Users\\juliu\\AppData\\Local\\Programs\\Python\\Python39\\lib\\site-packages\\sklearn\\metrics\\_classification.py:1308: UndefinedMetricWarning: Recall is ill-defined and being set to 0.0 in labels with no true samples. Use `zero_division` parameter to control this behavior.\n",
      "  _warn_prf(average, modifier, msg_start, len(result))\n",
      "C:\\Users\\juliu\\AppData\\Local\\Programs\\Python\\Python39\\lib\\site-packages\\sklearn\\metrics\\_classification.py:1308: UndefinedMetricWarning: Recall is ill-defined and being set to 0.0 in labels with no true samples. Use `zero_division` parameter to control this behavior.\n",
      "  _warn_prf(average, modifier, msg_start, len(result))\n",
      "C:\\Users\\juliu\\AppData\\Local\\Programs\\Python\\Python39\\lib\\site-packages\\numpy\\lib\\function_base.py:380: RuntimeWarning: Mean of empty slice.\n",
      "  avg = a.mean(axis)\n",
      "C:\\Users\\juliu\\AppData\\Local\\Programs\\Python\\Python39\\lib\\site-packages\\numpy\\core\\_methods.py:170: RuntimeWarning: invalid value encountered in double_scalars\n",
      "  ret = ret.dtype.type(ret / rcount)\n",
      "C:\\Users\\juliu\\AppData\\Local\\Programs\\Python\\Python39\\lib\\site-packages\\sklearn\\metrics\\_classification.py:1308: UndefinedMetricWarning: Recall is ill-defined and being set to 0.0 in labels with no true samples. Use `zero_division` parameter to control this behavior.\n",
      "  _warn_prf(average, modifier, msg_start, len(result))\n",
      "C:\\Users\\juliu\\AppData\\Local\\Programs\\Python\\Python39\\lib\\site-packages\\sklearn\\metrics\\_classification.py:1308: UndefinedMetricWarning: Recall is ill-defined and being set to 0.0 in labels with no true samples. Use `zero_division` parameter to control this behavior.\n",
      "  _warn_prf(average, modifier, msg_start, len(result))\n",
      "C:\\Users\\juliu\\AppData\\Local\\Programs\\Python\\Python39\\lib\\site-packages\\sklearn\\metrics\\_classification.py:1308: UndefinedMetricWarning: Recall is ill-defined and being set to 0.0 in labels with no true samples. Use `zero_division` parameter to control this behavior.\n",
      "  _warn_prf(average, modifier, msg_start, len(result))\n",
      "C:\\Users\\juliu\\AppData\\Local\\Programs\\Python\\Python39\\lib\\site-packages\\numpy\\lib\\function_base.py:380: RuntimeWarning: Mean of empty slice.\n",
      "  avg = a.mean(axis)\n",
      "C:\\Users\\juliu\\AppData\\Local\\Programs\\Python\\Python39\\lib\\site-packages\\numpy\\core\\_methods.py:170: RuntimeWarning: invalid value encountered in double_scalars\n",
      "  ret = ret.dtype.type(ret / rcount)\n",
      "C:\\Users\\juliu\\AppData\\Local\\Programs\\Python\\Python39\\lib\\site-packages\\sklearn\\metrics\\_classification.py:1308: UndefinedMetricWarning: Recall is ill-defined and being set to 0.0 in labels with no true samples. Use `zero_division` parameter to control this behavior.\n",
      "  _warn_prf(average, modifier, msg_start, len(result))\n",
      "C:\\Users\\juliu\\AppData\\Local\\Programs\\Python\\Python39\\lib\\site-packages\\sklearn\\metrics\\_classification.py:1308: UndefinedMetricWarning: Recall is ill-defined and being set to 0.0 in labels with no true samples. Use `zero_division` parameter to control this behavior.\n",
      "  _warn_prf(average, modifier, msg_start, len(result))\n",
      "C:\\Users\\juliu\\AppData\\Local\\Programs\\Python\\Python39\\lib\\site-packages\\sklearn\\metrics\\_classification.py:1308: UndefinedMetricWarning: Recall is ill-defined and being set to 0.0 in labels with no true samples. Use `zero_division` parameter to control this behavior.\n",
      "  _warn_prf(average, modifier, msg_start, len(result))\n",
      "C:\\Users\\juliu\\AppData\\Local\\Programs\\Python\\Python39\\lib\\site-packages\\sklearn\\metrics\\_classification.py:1308: UndefinedMetricWarning: Recall is ill-defined and being set to 0.0 in labels with no true samples. Use `zero_division` parameter to control this behavior.\n",
      "  _warn_prf(average, modifier, msg_start, len(result))\n",
      "C:\\Users\\juliu\\AppData\\Local\\Programs\\Python\\Python39\\lib\\site-packages\\sklearn\\metrics\\_classification.py:1308: UndefinedMetricWarning: Recall is ill-defined and being set to 0.0 in labels with no true samples. Use `zero_division` parameter to control this behavior.\n",
      "  _warn_prf(average, modifier, msg_start, len(result))\n",
      "C:\\Users\\juliu\\AppData\\Local\\Programs\\Python\\Python39\\lib\\site-packages\\sklearn\\metrics\\_classification.py:1308: UndefinedMetricWarning: Recall is ill-defined and being set to 0.0 in labels with no true samples. Use `zero_division` parameter to control this behavior.\n",
      "  _warn_prf(average, modifier, msg_start, len(result))\n",
      "C:\\Users\\juliu\\AppData\\Local\\Programs\\Python\\Python39\\lib\\site-packages\\sklearn\\metrics\\_classification.py:1308: UndefinedMetricWarning: Recall is ill-defined and being set to 0.0 in labels with no true samples. Use `zero_division` parameter to control this behavior.\n",
      "  _warn_prf(average, modifier, msg_start, len(result))\n",
      "C:\\Users\\juliu\\AppData\\Local\\Programs\\Python\\Python39\\lib\\site-packages\\sklearn\\metrics\\_classification.py:1308: UndefinedMetricWarning: Recall is ill-defined and being set to 0.0 in labels with no true samples. Use `zero_division` parameter to control this behavior.\n",
      "  _warn_prf(average, modifier, msg_start, len(result))\n",
      "C:\\Users\\juliu\\AppData\\Local\\Programs\\Python\\Python39\\lib\\site-packages\\sklearn\\metrics\\_classification.py:1308: UndefinedMetricWarning: Recall is ill-defined and being set to 0.0 in labels with no true samples. Use `zero_division` parameter to control this behavior.\n",
      "  _warn_prf(average, modifier, msg_start, len(result))\n",
      "C:\\Users\\juliu\\AppData\\Local\\Programs\\Python\\Python39\\lib\\site-packages\\sklearn\\metrics\\_classification.py:1308: UndefinedMetricWarning: Recall is ill-defined and being set to 0.0 in labels with no true samples. Use `zero_division` parameter to control this behavior.\n",
      "  _warn_prf(average, modifier, msg_start, len(result))\n",
      "C:\\Users\\juliu\\AppData\\Local\\Programs\\Python\\Python39\\lib\\site-packages\\sklearn\\metrics\\_classification.py:1308: UndefinedMetricWarning: Recall is ill-defined and being set to 0.0 in labels with no true samples. Use `zero_division` parameter to control this behavior.\n",
      "  _warn_prf(average, modifier, msg_start, len(result))\n",
      "C:\\Users\\juliu\\AppData\\Local\\Programs\\Python\\Python39\\lib\\site-packages\\numpy\\lib\\function_base.py:380: RuntimeWarning: Mean of empty slice.\n",
      "  avg = a.mean(axis)\n",
      "C:\\Users\\juliu\\AppData\\Local\\Programs\\Python\\Python39\\lib\\site-packages\\numpy\\core\\_methods.py:170: RuntimeWarning: invalid value encountered in double_scalars\n",
      "  ret = ret.dtype.type(ret / rcount)\n",
      "C:\\Users\\juliu\\AppData\\Local\\Programs\\Python\\Python39\\lib\\site-packages\\numpy\\lib\\function_base.py:380: RuntimeWarning: Mean of empty slice.\n",
      "  avg = a.mean(axis)\n",
      "C:\\Users\\juliu\\AppData\\Local\\Programs\\Python\\Python39\\lib\\site-packages\\numpy\\core\\_methods.py:170: RuntimeWarning: invalid value encountered in double_scalars\n",
      "  ret = ret.dtype.type(ret / rcount)\n",
      "C:\\Users\\juliu\\AppData\\Local\\Programs\\Python\\Python39\\lib\\site-packages\\numpy\\lib\\function_base.py:380: RuntimeWarning: Mean of empty slice.\n",
      "  avg = a.mean(axis)\n",
      "C:\\Users\\juliu\\AppData\\Local\\Programs\\Python\\Python39\\lib\\site-packages\\numpy\\core\\_methods.py:170: RuntimeWarning: invalid value encountered in double_scalars\n",
      "  ret = ret.dtype.type(ret / rcount)\n",
      "C:\\Users\\juliu\\AppData\\Local\\Programs\\Python\\Python39\\lib\\site-packages\\numpy\\lib\\function_base.py:380: RuntimeWarning: Mean of empty slice.\n",
      "  avg = a.mean(axis)\n",
      "C:\\Users\\juliu\\AppData\\Local\\Programs\\Python\\Python39\\lib\\site-packages\\numpy\\core\\_methods.py:170: RuntimeWarning: invalid value encountered in double_scalars\n",
      "  ret = ret.dtype.type(ret / rcount)\n"
     ]
    },
    {
     "data": {
      "text/plain": "                           value\nmetric   type kingdom           \nmcc      LIPO EUKARYA   0.000000\n              ARCHAEA   0.795843\n              POSITIVE  0.892144\n              NEGATIVE  0.898425\n              overall   0.894370\n...                          ...\naccuracy SP   EUKARYA   0.939193\n              ARCHAEA   0.833333\n              POSITIVE  0.831274\n              NEGATIVE  0.875248\n              overall   0.921243\n\n[100 rows x 1 columns]",
      "text/html": "<div>\n<style scoped>\n    .dataframe tbody tr th:only-of-type {\n        vertical-align: middle;\n    }\n\n    .dataframe tbody tr th {\n        vertical-align: top;\n    }\n\n    .dataframe thead th {\n        text-align: right;\n    }\n</style>\n<table border=\"1\" class=\"dataframe\">\n  <thead>\n    <tr style=\"text-align: right;\">\n      <th></th>\n      <th></th>\n      <th></th>\n      <th>value</th>\n    </tr>\n    <tr>\n      <th>metric</th>\n      <th>type</th>\n      <th>kingdom</th>\n      <th></th>\n    </tr>\n  </thead>\n  <tbody>\n    <tr>\n      <th rowspan=\"5\" valign=\"top\">mcc</th>\n      <th rowspan=\"5\" valign=\"top\">LIPO</th>\n      <th>EUKARYA</th>\n      <td>0.000000</td>\n    </tr>\n    <tr>\n      <th>ARCHAEA</th>\n      <td>0.795843</td>\n    </tr>\n    <tr>\n      <th>POSITIVE</th>\n      <td>0.892144</td>\n    </tr>\n    <tr>\n      <th>NEGATIVE</th>\n      <td>0.898425</td>\n    </tr>\n    <tr>\n      <th>overall</th>\n      <td>0.894370</td>\n    </tr>\n    <tr>\n      <th>...</th>\n      <th>...</th>\n      <th>...</th>\n      <td>...</td>\n    </tr>\n    <tr>\n      <th rowspan=\"5\" valign=\"top\">accuracy</th>\n      <th rowspan=\"5\" valign=\"top\">SP</th>\n      <th>EUKARYA</th>\n      <td>0.939193</td>\n    </tr>\n    <tr>\n      <th>ARCHAEA</th>\n      <td>0.833333</td>\n    </tr>\n    <tr>\n      <th>POSITIVE</th>\n      <td>0.831274</td>\n    </tr>\n    <tr>\n      <th>NEGATIVE</th>\n      <td>0.875248</td>\n    </tr>\n    <tr>\n      <th>overall</th>\n      <td>0.921243</td>\n    </tr>\n  </tbody>\n</table>\n<p>100 rows × 1 columns</p>\n</div>"
     },
     "execution_count": 26,
     "metadata": {},
     "output_type": "execute_result"
    }
   ],
   "source": [
    "metrics = [MCC(), Recall(\"macro\"), Precision(\"macro\"), Accuracy()]\n",
    "final_metrics_dict = {}\n",
    "for metric in metrics:\n",
    "    # All sequences\n",
    "    y_pred, y_true = getRelevantData(\"index == index\")\n",
    "    final_metrics_dict[metric.name] = {\n",
    "        \"overall\": {\n",
    "            \"overall\": metric(y_true, y_pred)\n",
    "        }\n",
    "    }\n",
    "\n",
    "    # By kingdom\n",
    "    for kingdom in KINGDOMS:\n",
    "        y_pred, y_true = getRelevantData(f\"kingdom == '{kingdom}'\")\n",
    "        final_metrics_dict[metric.name][\"overall\"][kingdom] = metric(y_true, y_pred)\n",
    "\n",
    "    # By pathway\n",
    "    for type in TYPES:\n",
    "        y_pred, y_true = getRelevantData(f\"type == '{type}'\")\n",
    "        final_metrics_dict[metric.name][type] = {\"overall\": metric(y_true, y_pred)}\n",
    "\n",
    "    # By pathway & type\n",
    "    for type in TYPES:\n",
    "        for kingdom in KINGDOMS:\n",
    "            y_pred, y_true = getRelevantData(f\"kingdom == '{kingdom}' and type == '{type}'\")\n",
    "            final_metrics_dict[metric.name][type][kingdom] = metric(y_true, y_pred)\n",
    "\n",
    "# Manually exclude non-existing labels (L & T) from eukarya\n",
    "y_pred, y_true = getRelevantData(\"kingdom == 'EUKARYA'\")\n",
    "final_metrics_dict[\"precision\"][\"overall\"][\"EUKARYA\"] = precision_score(y_true.flatten(), y_pred.flatten(), average=\"macro\", labels=[0,3,4,5])\n",
    "final_metrics_dict[\"recall\"][\"overall\"][\"EUKARYA\"] = recall_score(y_true.flatten(), y_pred.flatten(), average=\"macro\", labels=[0,3,4,5])\n",
    "\n",
    "# Convert to dataframe\n",
    "final_metrics = pd.DataFrame([\n",
    "    (metric.name, type, kingdom, final_metrics_dict[metric.name][type][kingdom])\n",
    "    for metric in metrics\n",
    "    for type in METRIC_TYPES\n",
    "    for kingdom in METRIC_KINGDOMS\n",
    "])\n",
    "\n",
    "final_metrics.columns = [\"metric\", \"type\", \"kingdom\", \"value\"]\n",
    "final_metrics.set_index([\"metric\", \"type\", \"kingdom\"])"
   ],
   "metadata": {
    "collapsed": false,
    "pycharm": {
     "name": "#%%\n"
    }
   }
  },
  {
   "cell_type": "markdown",
   "source": [
    "# Store results"
   ],
   "metadata": {
    "collapsed": false,
    "pycharm": {
     "name": "#%% md\n"
    }
   }
  },
  {
   "cell_type": "code",
   "execution_count": 27,
   "outputs": [],
   "source": [
    "Serializer.save(final_metrics, \"final_metrics\")\n",
    "Serializer.save(final_training_metrics, \"final_training_metrics\")"
   ],
   "metadata": {
    "collapsed": false,
    "pycharm": {
     "name": "#%%\n"
    }
   }
  }
 ],
 "metadata": {
  "kernelspec": {
   "display_name": "Python 3",
   "language": "python",
   "name": "python3"
  },
  "language_info": {
   "codemirror_mode": {
    "name": "ipython",
    "version": 2
   },
   "file_extension": ".py",
   "mimetype": "text/x-python",
   "name": "python",
   "nbconvert_exporter": "python",
   "pygments_lexer": "ipython2",
   "version": "2.7.6"
  }
 },
 "nbformat": 4,
 "nbformat_minor": 0
}