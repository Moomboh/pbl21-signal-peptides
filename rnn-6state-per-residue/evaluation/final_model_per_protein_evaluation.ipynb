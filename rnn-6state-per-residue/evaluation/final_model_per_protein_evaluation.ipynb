{
 "cells": [
  {
   "cell_type": "code",
   "execution_count": 5,
   "outputs": [],
   "source": [
    "from typing import Tuple, List\n",
    "\n",
    "import numpy as np\n",
    "import pandas as pd\n",
    "import seaborn as sns\n",
    "from sklearn.metrics import matthews_corrcoef, recall_score, precision_score\n",
    "from tqdm import tqdm\n",
    "import warnings\n",
    "warnings.filterwarnings(\"ignore\")\n",
    "\n",
    "sns.set_theme()\n",
    "from tensorflow import keras\n",
    "\n",
    "from constants import TRAINING_PARTITIONS, ALL_PARTITIONS, annotation_mapping, amino_acid_mapping, reverse_annotation_mapping\n",
    "from constants import TYPES, KINGDOMS, METRIC_KINGDOMS, METRIC_TYPES\n",
    "from metrics.metrics import *\n",
    "from utils.Dataset import Dataset\n",
    "from utils.helpers import getDatasetPath\n",
    "from utils.encoding import categoricalToSequence, oneHotToCategorical, sequenceToCategorical, categoricalToOneHot\n",
    "from serialization import Serializer"
   ],
   "metadata": {
    "collapsed": false,
    "pycharm": {
     "name": "#%%\n"
    }
   }
  },
  {
   "cell_type": "markdown",
   "source": [
    "# Load model & data"
   ],
   "metadata": {
    "collapsed": false
   }
  },
  {
   "cell_type": "code",
   "execution_count": 6,
   "outputs": [],
   "source": [
    "run_timestamp = \"20211113-1438\"\n",
    "base_path = f\"../results/{run_timestamp}/\"\n",
    "final_model = keras.models.load_model(base_path + f\"models/final_model.h5\")\n",
    "\n",
    "test_data = Dataset(getDatasetPath()).getFolds([0])"
   ],
   "metadata": {
    "collapsed": false,
    "pycharm": {
     "name": "#%%\n"
    }
   }
  },
  {
   "cell_type": "markdown",
   "source": [
    "# Make predictions"
   ],
   "metadata": {
    "collapsed": false
   }
  },
  {
   "cell_type": "code",
   "execution_count": 83,
   "outputs": [],
   "source": [
    "test_x = np.array([categoricalToOneHot(sequenceToCategorical(seq, amino_acid_mapping), amino_acid_mapping) for seq in test_data[\"sequence\"]])\n",
    "predictions = final_model.predict(test_x)\n",
    "y_true = np.array([sequenceToCategorical(seq, annotation_mapping) for seq in test_data[\"annotation\"]])\n",
    "y_pred = np.array([oneHotToCategorical(pred) for pred in predictions])"
   ],
   "metadata": {
    "collapsed": false,
    "pycharm": {
     "name": "#%%\n"
    }
   }
  },
  {
   "cell_type": "code",
   "execution_count": 93,
   "outputs": [],
   "source": [],
   "metadata": {
    "collapsed": false,
    "pycharm": {
     "name": "#%%\n"
    }
   }
  },
  {
   "cell_type": "markdown",
   "source": [
    "# Convert predictions to per-protein ones"
   ],
   "metadata": {
    "collapsed": false,
    "pycharm": {
     "name": "#%% md\n"
    }
   }
  },
  {
   "cell_type": "code",
   "execution_count": 92,
   "outputs": [],
   "source": [
    "def convertToPerProteinPrediction(prediction: str) -> str:\n",
    "    if sum([prediction.count(label) for label in \"STL\"]) > 5:\n",
    "        type_number = np.argmax([prediction.count('S'), prediction.count('T'), prediction.count('L')])\n",
    "    else:\n",
    "        type_number = 3\n",
    "\n",
    "    return {0: \"SP\", 1: \"TAT\", 2: \"LIPO\", 3: \"NO_SP\"}[type_number]\n",
    "\n",
    "test_data[\"prediction\"] = np.array([convertToPerProteinPrediction(categoricalToSequence(pred, reverse_annotation_mapping)) for pred in y_pred])\n",
    "test_data[\"label\"] = list(test_data.index.get_level_values(\"type\"))"
   ],
   "metadata": {
    "collapsed": false,
    "pycharm": {
     "name": "#%%\n"
    }
   }
  },
  {
   "cell_type": "code",
   "execution_count": 91,
   "outputs": [
    {
     "data": {
      "text/plain": "                                                                         sequence  \\\npartition type kingdom  number                                                      \n0         TAT  POSITIVE 10      MHKRRRLLAFATVGAVICTAGFTPSVSQAASSGDGEEKGSYAETHG...   \n                        12      MRNRGFGRRELLVAMAMLVSVTGCARHASGARPASTTLPAGADLAD...   \n                        15      MRRPVSRRAIFATSVLVAGVSIMSPSANAAEAPASEWVNTTAIVDQ...   \n          SP   EUKARYA  13      MKVLIIFACLVVMASAVCNRLEQILVKTQWAQSYGEAENRAAFSRD...   \n                        30      MKHPLCTLLSLITFMCIGSKGLAEQLTNENLTTSFLPANFHKENTV...   \n...                                                                           ...   \n          LIPO NEGATIVE 163     MKIKKIKLLKALALTGAFGIVATVPVIVYSCSSTDNNGGTGDNNTG...   \n                        174     MLGRSLTSVLIVPTGIGCAVGGYAGDALPLARAIASVSDRLITHPN...   \n                        196     MKRVSQMTALAMALGLACASSWAAELAKPLTLDQLQQQNGKAIDTR...   \n                        197     MKALSPIAVLISALLLQGCVAAAVVGTAAVGTKAATDPRSVGTQVD...   \n                        202     MKVKYALLSAGALQLLVVGCGSSHHETHYGYATLSYADYWAGELGQ...   \n\n                                                                       annotation  \\\npartition type kingdom  number                                                      \n0         TAT  POSITIVE 10      TTTTTTTTTTTTTTTTTTTTTTTTTTTTTOOOOOOOOOOOOOOOOO...   \n                        12      TTTTTTTTTTTTTTTTTTTTTTTTTTTTTTTTTTOOOOOOOOOOOO...   \n                        15      TTTTTTTTTTTTTTTTTTTTTTTTTTTTTTTTTTOOOOOOOOOOOO...   \n          SP   EUKARYA  13      SSSSSSSSSSSSSSSSOOOOOOOOOOOOOOOOOOOOOOOOOOOOOO...   \n                        30      SSSSSSSSSSSSSSSSSSSSSSSOOOOOOOOOOOOOOOOOOOOOOO...   \n...                                                                           ...   \n          LIPO NEGATIVE 163     LLLLLLLLLLLLLLLLLLLLLLLLLLLLLLOOOOOOOOOOOOOOOO...   \n                        174     LLLLLLLLLLLLLLLLLOOOOOOOOOOOOOOOOOOOOOOOOOOOOO...   \n                        196     LLLLLLLLLLLLLLLLLOOOOOOOOOOOOOOOOOOOOOOOOOOOOO...   \n                        197     LLLLLLLLLLLLLLLLLLOOOOOOOOOOOOOOOOOOOOOOOOOOOO...   \n                        202     LLLLLLLLLLLLLLLLLLLOOOOOOOOOOOOOOOOOOOOOOOOOOO...   \n\n                               prediction label  \npartition type kingdom  number                   \n0         TAT  POSITIVE 10             SP   TAT  \n                        12           LIPO   TAT  \n                        15             SP   TAT  \n          SP   EUKARYA  13           LIPO    SP  \n                        30           LIPO    SP  \n...                                   ...   ...  \n          LIPO NEGATIVE 163            SP  LIPO  \n                        174            SP  LIPO  \n                        196            SP  LIPO  \n                        197            SP  LIPO  \n                        202            SP  LIPO  \n\n[119 rows x 4 columns]",
      "text/html": "<div>\n<style scoped>\n    .dataframe tbody tr th:only-of-type {\n        vertical-align: middle;\n    }\n\n    .dataframe tbody tr th {\n        vertical-align: top;\n    }\n\n    .dataframe thead th {\n        text-align: right;\n    }\n</style>\n<table border=\"1\" class=\"dataframe\">\n  <thead>\n    <tr style=\"text-align: right;\">\n      <th></th>\n      <th></th>\n      <th></th>\n      <th></th>\n      <th>sequence</th>\n      <th>annotation</th>\n      <th>prediction</th>\n      <th>label</th>\n    </tr>\n    <tr>\n      <th>partition</th>\n      <th>type</th>\n      <th>kingdom</th>\n      <th>number</th>\n      <th></th>\n      <th></th>\n      <th></th>\n      <th></th>\n    </tr>\n  </thead>\n  <tbody>\n    <tr>\n      <th rowspan=\"11\" valign=\"top\">0</th>\n      <th rowspan=\"3\" valign=\"top\">TAT</th>\n      <th rowspan=\"3\" valign=\"top\">POSITIVE</th>\n      <th>10</th>\n      <td>MHKRRRLLAFATVGAVICTAGFTPSVSQAASSGDGEEKGSYAETHG...</td>\n      <td>TTTTTTTTTTTTTTTTTTTTTTTTTTTTTOOOOOOOOOOOOOOOOO...</td>\n      <td>SP</td>\n      <td>TAT</td>\n    </tr>\n    <tr>\n      <th>12</th>\n      <td>MRNRGFGRRELLVAMAMLVSVTGCARHASGARPASTTLPAGADLAD...</td>\n      <td>TTTTTTTTTTTTTTTTTTTTTTTTTTTTTTTTTTOOOOOOOOOOOO...</td>\n      <td>LIPO</td>\n      <td>TAT</td>\n    </tr>\n    <tr>\n      <th>15</th>\n      <td>MRRPVSRRAIFATSVLVAGVSIMSPSANAAEAPASEWVNTTAIVDQ...</td>\n      <td>TTTTTTTTTTTTTTTTTTTTTTTTTTTTTTTTTTOOOOOOOOOOOO...</td>\n      <td>SP</td>\n      <td>TAT</td>\n    </tr>\n    <tr>\n      <th rowspan=\"2\" valign=\"top\">SP</th>\n      <th rowspan=\"2\" valign=\"top\">EUKARYA</th>\n      <th>13</th>\n      <td>MKVLIIFACLVVMASAVCNRLEQILVKTQWAQSYGEAENRAAFSRD...</td>\n      <td>SSSSSSSSSSSSSSSSOOOOOOOOOOOOOOOOOOOOOOOOOOOOOO...</td>\n      <td>LIPO</td>\n      <td>SP</td>\n    </tr>\n    <tr>\n      <th>30</th>\n      <td>MKHPLCTLLSLITFMCIGSKGLAEQLTNENLTTSFLPANFHKENTV...</td>\n      <td>SSSSSSSSSSSSSSSSSSSSSSSOOOOOOOOOOOOOOOOOOOOOOO...</td>\n      <td>LIPO</td>\n      <td>SP</td>\n    </tr>\n    <tr>\n      <th>...</th>\n      <th>...</th>\n      <th>...</th>\n      <td>...</td>\n      <td>...</td>\n      <td>...</td>\n      <td>...</td>\n    </tr>\n    <tr>\n      <th rowspan=\"5\" valign=\"top\">LIPO</th>\n      <th rowspan=\"5\" valign=\"top\">NEGATIVE</th>\n      <th>163</th>\n      <td>MKIKKIKLLKALALTGAFGIVATVPVIVYSCSSTDNNGGTGDNNTG...</td>\n      <td>LLLLLLLLLLLLLLLLLLLLLLLLLLLLLLOOOOOOOOOOOOOOOO...</td>\n      <td>SP</td>\n      <td>LIPO</td>\n    </tr>\n    <tr>\n      <th>174</th>\n      <td>MLGRSLTSVLIVPTGIGCAVGGYAGDALPLARAIASVSDRLITHPN...</td>\n      <td>LLLLLLLLLLLLLLLLLOOOOOOOOOOOOOOOOOOOOOOOOOOOOO...</td>\n      <td>SP</td>\n      <td>LIPO</td>\n    </tr>\n    <tr>\n      <th>196</th>\n      <td>MKRVSQMTALAMALGLACASSWAAELAKPLTLDQLQQQNGKAIDTR...</td>\n      <td>LLLLLLLLLLLLLLLLLOOOOOOOOOOOOOOOOOOOOOOOOOOOOO...</td>\n      <td>SP</td>\n      <td>LIPO</td>\n    </tr>\n    <tr>\n      <th>197</th>\n      <td>MKALSPIAVLISALLLQGCVAAAVVGTAAVGTKAATDPRSVGTQVD...</td>\n      <td>LLLLLLLLLLLLLLLLLLOOOOOOOOOOOOOOOOOOOOOOOOOOOO...</td>\n      <td>SP</td>\n      <td>LIPO</td>\n    </tr>\n    <tr>\n      <th>202</th>\n      <td>MKVKYALLSAGALQLLVVGCGSSHHETHYGYATLSYADYWAGELGQ...</td>\n      <td>LLLLLLLLLLLLLLLLLLLOOOOOOOOOOOOOOOOOOOOOOOOOOO...</td>\n      <td>SP</td>\n      <td>LIPO</td>\n    </tr>\n  </tbody>\n</table>\n<p>119 rows × 4 columns</p>\n</div>"
     },
     "execution_count": 91,
     "metadata": {},
     "output_type": "execute_result"
    }
   ],
   "source": [
    "test_data[test_data[\"prediction\"] != test_data[\"label\"]]"
   ],
   "metadata": {
    "collapsed": false,
    "pycharm": {
     "name": "#%%\n"
    }
   }
  },
  {
   "cell_type": "code",
   "execution_count": 53,
   "outputs": [
    {
     "data": {
      "text/plain": "                                                                         sequence  \\\npartition type kingdom  number                                                      \n0         TAT  ARCHAEA  0       MSKDRDGRRTSRRGTLKKIGGFSLGALSFGAVGRTQAATGSSVTTA...   \n                        1       MNRPRITGSKQASRRTVLKGIGVLGAAVFGTAASVGSSAAVGDSAV...   \n                        2       MPSRRDVLRLGAGVLAAGTAGCTDTAPNRVAAAETAATTTRETTTD...   \n                        3       MKRREFLRTAGGATAAATAAAGTAAAQEGGGGAQVQPDFGGYLDGV...   \n                        4       MTDGNVDMSRRAFLGAAAGGAAVAATSGTAAAQTEEPDFGGHLDGI...   \n...                                                                           ...   \n          LIPO NEGATIVE 202     MKVKYALLSAGALQLLVVGCGSSHHETHYGYATLSYADYWAGELGQ...   \n                        203     MKLKATLTLAAATLVLAACDQSSSANKSTAQTEAKSSSNNTFVYCT...   \n                        204     MKLKTLALSLLAAGVLAGCSSHSSNMANTQMKSDKIIIAHRGASGY...   \n                        205     MKRFWAMVCALFLSVSLLLTSCANVPTGLTGNFREDTLALISSLRE...   \n                        206     MNRTNQLILGAVVLGSTLLAGCSSNAKIDQLSSDVQTLSAKVEQLS...   \n\n                                                                       annotation  \\\npartition type kingdom  number                                                      \n0         TAT  ARCHAEA  0       TTTTTTTTTTTTTTTTTTTTTTTTTTTTTTTTTTTTTTTTTTTTTT...   \n                        1       TTTTTTTTTTTTTTTTTTTTTTTTTTTTTTTTTTTTTTTOOOOOOO...   \n                        2       TTTTTTTTTTTTTTTTTTTTTTTTTTTTTTTTTOOOOOOOOOOOOO...   \n                        3       TTTTTTTTTTTTTTTTTTTTTTTTTTOOOOOOOOOOOOOOOOOOOO...   \n                        4       TTTTTTTTTTTTTTTTTTTTTTTTTTTTTTTTOOOOOOOOOOOOOO...   \n...                                                                           ...   \n          LIPO NEGATIVE 202     LLLLLLLLLLLLLLLLLLLOOOOOOOOOOOOOOOOOOOOOOOOOOO...   \n                        203     LLLLLLLLLLLLLLLLLLOOOOOOOOOOOOOOOOOOOOOOOOOOOO...   \n                        204     LLLLLLLLLLLLLLLLLLOOOOOOOOOOOOOOOOOOOOOOOOOOOO...   \n                        205     LLLLLLLLLLLLLLLLLLLLLOOOOOOOOOOOOOOOOOOOOOOOOO...   \n                        206     LLLLLLLLLLLLLLLLLLLLLOOOOOOOOOOOOOOOOOOOOOOOOO...   \n\n                               prediction label  \npartition type kingdom  number                   \n0         TAT  ARCHAEA  0             TAT   TAT  \n                        1             TAT   TAT  \n                        2             TAT   TAT  \n                        3             TAT   TAT  \n                        4             TAT   TAT  \n...                                   ...   ...  \n          LIPO NEGATIVE 202            SP  LIPO  \n                        203          LIPO  LIPO  \n                        204          LIPO  LIPO  \n                        205          LIPO  LIPO  \n                        206          LIPO  LIPO  \n\n[4104 rows x 4 columns]",
      "text/html": "<div>\n<style scoped>\n    .dataframe tbody tr th:only-of-type {\n        vertical-align: middle;\n    }\n\n    .dataframe tbody tr th {\n        vertical-align: top;\n    }\n\n    .dataframe thead th {\n        text-align: right;\n    }\n</style>\n<table border=\"1\" class=\"dataframe\">\n  <thead>\n    <tr style=\"text-align: right;\">\n      <th></th>\n      <th></th>\n      <th></th>\n      <th></th>\n      <th>sequence</th>\n      <th>annotation</th>\n      <th>prediction</th>\n      <th>label</th>\n    </tr>\n    <tr>\n      <th>partition</th>\n      <th>type</th>\n      <th>kingdom</th>\n      <th>number</th>\n      <th></th>\n      <th></th>\n      <th></th>\n      <th></th>\n    </tr>\n  </thead>\n  <tbody>\n    <tr>\n      <th rowspan=\"11\" valign=\"top\">0</th>\n      <th rowspan=\"5\" valign=\"top\">TAT</th>\n      <th rowspan=\"5\" valign=\"top\">ARCHAEA</th>\n      <th>0</th>\n      <td>MSKDRDGRRTSRRGTLKKIGGFSLGALSFGAVGRTQAATGSSVTTA...</td>\n      <td>TTTTTTTTTTTTTTTTTTTTTTTTTTTTTTTTTTTTTTTTTTTTTT...</td>\n      <td>TAT</td>\n      <td>TAT</td>\n    </tr>\n    <tr>\n      <th>1</th>\n      <td>MNRPRITGSKQASRRTVLKGIGVLGAAVFGTAASVGSSAAVGDSAV...</td>\n      <td>TTTTTTTTTTTTTTTTTTTTTTTTTTTTTTTTTTTTTTTOOOOOOO...</td>\n      <td>TAT</td>\n      <td>TAT</td>\n    </tr>\n    <tr>\n      <th>2</th>\n      <td>MPSRRDVLRLGAGVLAAGTAGCTDTAPNRVAAAETAATTTRETTTD...</td>\n      <td>TTTTTTTTTTTTTTTTTTTTTTTTTTTTTTTTTOOOOOOOOOOOOO...</td>\n      <td>TAT</td>\n      <td>TAT</td>\n    </tr>\n    <tr>\n      <th>3</th>\n      <td>MKRREFLRTAGGATAAATAAAGTAAAQEGGGGAQVQPDFGGYLDGV...</td>\n      <td>TTTTTTTTTTTTTTTTTTTTTTTTTTOOOOOOOOOOOOOOOOOOOO...</td>\n      <td>TAT</td>\n      <td>TAT</td>\n    </tr>\n    <tr>\n      <th>4</th>\n      <td>MTDGNVDMSRRAFLGAAAGGAAVAATSGTAAAQTEEPDFGGHLDGI...</td>\n      <td>TTTTTTTTTTTTTTTTTTTTTTTTTTTTTTTTOOOOOOOOOOOOOO...</td>\n      <td>TAT</td>\n      <td>TAT</td>\n    </tr>\n    <tr>\n      <th>...</th>\n      <th>...</th>\n      <th>...</th>\n      <td>...</td>\n      <td>...</td>\n      <td>...</td>\n      <td>...</td>\n    </tr>\n    <tr>\n      <th rowspan=\"5\" valign=\"top\">LIPO</th>\n      <th rowspan=\"5\" valign=\"top\">NEGATIVE</th>\n      <th>202</th>\n      <td>MKVKYALLSAGALQLLVVGCGSSHHETHYGYATLSYADYWAGELGQ...</td>\n      <td>LLLLLLLLLLLLLLLLLLLOOOOOOOOOOOOOOOOOOOOOOOOOOO...</td>\n      <td>SP</td>\n      <td>LIPO</td>\n    </tr>\n    <tr>\n      <th>203</th>\n      <td>MKLKATLTLAAATLVLAACDQSSSANKSTAQTEAKSSSNNTFVYCT...</td>\n      <td>LLLLLLLLLLLLLLLLLLOOOOOOOOOOOOOOOOOOOOOOOOOOOO...</td>\n      <td>LIPO</td>\n      <td>LIPO</td>\n    </tr>\n    <tr>\n      <th>204</th>\n      <td>MKLKTLALSLLAAGVLAGCSSHSSNMANTQMKSDKIIIAHRGASGY...</td>\n      <td>LLLLLLLLLLLLLLLLLLOOOOOOOOOOOOOOOOOOOOOOOOOOOO...</td>\n      <td>LIPO</td>\n      <td>LIPO</td>\n    </tr>\n    <tr>\n      <th>205</th>\n      <td>MKRFWAMVCALFLSVSLLLTSCANVPTGLTGNFREDTLALISSLRE...</td>\n      <td>LLLLLLLLLLLLLLLLLLLLLOOOOOOOOOOOOOOOOOOOOOOOOO...</td>\n      <td>LIPO</td>\n      <td>LIPO</td>\n    </tr>\n    <tr>\n      <th>206</th>\n      <td>MNRTNQLILGAVVLGSTLLAGCSSNAKIDQLSSDVQTLSAKVEQLS...</td>\n      <td>LLLLLLLLLLLLLLLLLLLLLOOOOOOOOOOOOOOOOOOOOOOOOO...</td>\n      <td>LIPO</td>\n      <td>LIPO</td>\n    </tr>\n  </tbody>\n</table>\n<p>4104 rows × 4 columns</p>\n</div>"
     },
     "execution_count": 53,
     "metadata": {},
     "output_type": "execute_result"
    }
   ],
   "source": [
    "test_data"
   ],
   "metadata": {
    "collapsed": false,
    "pycharm": {
     "name": "#%%\n"
    }
   }
  },
  {
   "cell_type": "markdown",
   "source": [
    "# Bootstrap & evaluate"
   ],
   "metadata": {
    "collapsed": false,
    "pycharm": {
     "name": "#%% md\n"
    }
   }
  },
  {
   "cell_type": "code",
   "execution_count": 108,
   "outputs": [],
   "source": [
    "num_bootstraps = 1024\n",
    "warnings.filterwarnings(\"ignore\")\n",
    "bootstraps = {i: test_data.sample(frac=1, replace=True, axis=0) for i in range(num_bootstraps)}"
   ],
   "metadata": {
    "collapsed": false,
    "pycharm": {
     "name": "#%%\n"
    }
   }
  },
  {
   "cell_type": "code",
   "execution_count": 110,
   "outputs": [],
   "source": [
    "def getRelevantData(df: pd.DataFrame, query: str) -> Tuple[np.ndarray, np.ndarray]:\n",
    "    relevant_data = df.query(query)\n",
    "    return (list(relevant_data[\"prediction\"]), list(relevant_data[\"label\"]))"
   ],
   "metadata": {
    "collapsed": false,
    "pycharm": {
     "name": "#%%\n"
    }
   }
  },
  {
   "cell_type": "code",
   "execution_count": 112,
   "outputs": [
    {
     "name": "stderr",
     "output_type": "stream",
     "text": [
      "Computing metrics: 100%|██████████| 1024/1024 [01:17<00:00, 13.14it/s]\n",
      "Excluding non-existent pathways: 100%|██████████| 1024/1024 [00:16<00:00, 60.25it/s]\n",
      "Computing metrics: 100%|██████████| 1024/1024 [01:14<00:00, 13.77it/s]\n",
      "Excluding non-existent pathways: 100%|██████████| 1024/1024 [00:16<00:00, 61.01it/s]\n"
     ]
    }
   ],
   "source": [
    "metrics = {\"mcc\": matthews_corrcoef, \"precision\": precision_score, \"recall\": recall_score}\n",
    "final_metrics_dict = {}\n",
    "for i in tqdm(range(num_bootstraps), desc=\"Computing metrics\"):\n",
    "    final_metrics_dict[i] = {}\n",
    "    for metric_name, metric in metrics.items():\n",
    "        # All sequences\n",
    "        y_pred, y_true = getRelevantData(bootstraps[i], \"index == index\")\n",
    "        if metric_name != \"mcc\":\n",
    "            value = metric(y_true, y_pred, average=\"macro\")\n",
    "        else:\n",
    "            value = metric(y_true, y_pred)\n",
    "        final_metrics_dict[i][metric_name] = {\n",
    "            \"overall\": {\n",
    "                \"overall\": value\n",
    "            }\n",
    "        }\n",
    "\n",
    "        # By kingdom\n",
    "        for kingdom in KINGDOMS:\n",
    "            y_pred, y_true = getRelevantData(bootstraps[i], f\"kingdom == '{kingdom}'\")\n",
    "            if metric_name != \"mcc\":\n",
    "                final_metrics_dict[i][metric_name][\"overall\"][kingdom] = metric(y_true, y_pred, average=\"macro\")\n",
    "            else:\n",
    "                final_metrics_dict[i][metric_name][\"overall\"][kingdom] = metric(y_true, y_pred)\n",
    "\n",
    "# Manually exclude non-existing labels (L & T) from eukarya\n",
    "for i in tqdm(range(num_bootstraps), desc=\"Excluding non-existent pathways\"):\n",
    "    y_pred, y_true = getRelevantData(bootstraps[i], \"kingdom == 'EUKARYA'\")\n",
    "    final_metrics_dict[i][\"precision\"][\"overall\"][\"EUKARYA\"] = precision_score(y_true, y_pred, average=\"macro\", labels=[\"NO_SP\", \"SP\"])\n",
    "    final_metrics_dict[i][\"recall\"][\"overall\"][\"EUKARYA\"] = recall_score(y_true, y_pred, average=\"macro\", labels=[\"NO_SP\", \"SP\"])"
   ],
   "metadata": {
    "collapsed": false,
    "pycharm": {
     "name": "#%%\n"
    }
   }
  },
  {
   "cell_type": "code",
   "execution_count": 114,
   "outputs": [],
   "source": [
    "def binarize(labels: List[str], label: str) -> np.ndarray:\n",
    "    array = np.array(labels)\n",
    "    binarized = array.copy()\n",
    "    binarized[array == label] = 1\n",
    "    binarized[array != label] = 0\n",
    "\n",
    "    return binarized.astype(\"int\")"
   ],
   "metadata": {
    "collapsed": false,
    "pycharm": {
     "name": "#%%\n"
    }
   }
  },
  {
   "cell_type": "code",
   "execution_count": 116,
   "outputs": [
    {
     "name": "stderr",
     "output_type": "stream",
     "text": [
      "Computing metrics by label: 100%|██████████| 1024/1024 [00:33<00:00, 30.64it/s]\n",
      "Computing metrics by label & kingdom: 100%|██████████| 1024/1024 [01:00<00:00, 17.06it/s]\n",
      "Computing metrics by label: 100%|██████████| 1024/1024 [00:34<00:00, 30.06it/s]\n",
      "Computing metrics by label & kingdom: 100%|██████████| 1024/1024 [01:00<00:00, 16.88it/s]\n"
     ]
    }
   ],
   "source": [
    "# By label\n",
    "for i in tqdm(range(num_bootstraps), desc=\"Computing metrics by label\"):\n",
    "    for label in [\"SP\", \"NO_SP\", \"TAT\", \"LIPO\"]:\n",
    "        y_true, y_pred = getRelevantData(bootstraps[i], f\"index == index\")\n",
    "        y_true = binarize(y_true, label)\n",
    "        y_pred = binarize(y_pred, label)\n",
    "\n",
    "        final_metrics_dict[i][\"mcc\"][label] = {\"overall\": matthews_corrcoef(y_true, y_pred)}\n",
    "        final_metrics_dict[i][\"precision\"][label] = {\"overall\": precision_score(y_true, y_pred)}\n",
    "        final_metrics_dict[i][\"recall\"][label] = {\"overall\": recall_score(y_true, y_pred)}\n",
    "\n",
    "# By label x kingdom\n",
    "for i in tqdm(range(num_bootstraps), desc=\"Computing metrics by label & kingdom\"):\n",
    "    for label in [\"SP\", \"NO_SP\", \"TAT\", \"LIPO\"]:\n",
    "        for kingdom in KINGDOMS:\n",
    "            y_true, y_pred = getRelevantData(bootstraps[i], f\"kingdom == '{kingdom}'\")\n",
    "            y_true = binarize(y_true, label)\n",
    "            y_pred = binarize(y_pred, label)\n",
    "\n",
    "            final_metrics_dict[i][\"mcc\"][label][kingdom] = matthews_corrcoef(y_true, y_pred)\n",
    "            final_metrics_dict[i][\"precision\"][label][kingdom] = precision_score(y_true, y_pred)\n",
    "            final_metrics_dict[i][\"recall\"][label][kingdom] = recall_score(y_true, y_pred)"
   ],
   "metadata": {
    "collapsed": false,
    "pycharm": {
     "name": "#%%\n"
    }
   }
  },
  {
   "cell_type": "code",
   "execution_count": 117,
   "outputs": [
    {
     "data": {
      "text/plain": "                                      value\nmetric bootstrap label   kingdom           \nmcc    0         overall EUKARYA   0.930228\n                         ARCHAEA   0.968494\n                         POSITIVE  0.856489\n                         NEGATIVE  0.925832\n                         overall   0.938625\n...                                     ...\nrecall 1023      LIPO    EUKARYA   0.000000\n                         ARCHAEA   0.833333\n                         POSITIVE  0.963855\n                         NEGATIVE  0.958549\n                         overall   0.894040\n\n[76800 rows x 1 columns]",
      "text/html": "<div>\n<style scoped>\n    .dataframe tbody tr th:only-of-type {\n        vertical-align: middle;\n    }\n\n    .dataframe tbody tr th {\n        vertical-align: top;\n    }\n\n    .dataframe thead th {\n        text-align: right;\n    }\n</style>\n<table border=\"1\" class=\"dataframe\">\n  <thead>\n    <tr style=\"text-align: right;\">\n      <th></th>\n      <th></th>\n      <th></th>\n      <th></th>\n      <th>value</th>\n    </tr>\n    <tr>\n      <th>metric</th>\n      <th>bootstrap</th>\n      <th>label</th>\n      <th>kingdom</th>\n      <th></th>\n    </tr>\n  </thead>\n  <tbody>\n    <tr>\n      <th rowspan=\"5\" valign=\"top\">mcc</th>\n      <th rowspan=\"5\" valign=\"top\">0</th>\n      <th rowspan=\"5\" valign=\"top\">overall</th>\n      <th>EUKARYA</th>\n      <td>0.930228</td>\n    </tr>\n    <tr>\n      <th>ARCHAEA</th>\n      <td>0.968494</td>\n    </tr>\n    <tr>\n      <th>POSITIVE</th>\n      <td>0.856489</td>\n    </tr>\n    <tr>\n      <th>NEGATIVE</th>\n      <td>0.925832</td>\n    </tr>\n    <tr>\n      <th>overall</th>\n      <td>0.938625</td>\n    </tr>\n    <tr>\n      <th>...</th>\n      <th>...</th>\n      <th>...</th>\n      <th>...</th>\n      <td>...</td>\n    </tr>\n    <tr>\n      <th rowspan=\"5\" valign=\"top\">recall</th>\n      <th rowspan=\"5\" valign=\"top\">1023</th>\n      <th rowspan=\"5\" valign=\"top\">LIPO</th>\n      <th>EUKARYA</th>\n      <td>0.000000</td>\n    </tr>\n    <tr>\n      <th>ARCHAEA</th>\n      <td>0.833333</td>\n    </tr>\n    <tr>\n      <th>POSITIVE</th>\n      <td>0.963855</td>\n    </tr>\n    <tr>\n      <th>NEGATIVE</th>\n      <td>0.958549</td>\n    </tr>\n    <tr>\n      <th>overall</th>\n      <td>0.894040</td>\n    </tr>\n  </tbody>\n</table>\n<p>76800 rows × 1 columns</p>\n</div>"
     },
     "execution_count": 117,
     "metadata": {},
     "output_type": "execute_result"
    }
   ],
   "source": [
    "labels = [\"NO_SP\", \"SP\", \"TAT\", \"LIPO\"]\n",
    "final_metrics = pd.DataFrame([\n",
    "    (metric, bootstrap, label, kingdom, final_metrics_dict[bootstrap][metric][label][kingdom])\n",
    "    for metric in metrics.keys()\n",
    "    for bootstrap in range(num_bootstraps)\n",
    "    for label in METRIC_TYPES\n",
    "    for kingdom in METRIC_KINGDOMS\n",
    "])\n",
    "\n",
    "final_metrics.columns = [\"metric\", \"bootstrap\", \"label\", \"kingdom\", \"value\"]\n",
    "final_metrics.set_index([\"metric\", \"bootstrap\", \"label\", \"kingdom\"])"
   ],
   "metadata": {
    "collapsed": false,
    "pycharm": {
     "name": "#%%\n"
    }
   }
  },
  {
   "cell_type": "code",
   "execution_count": 105,
   "outputs": [
    {
     "data": {
      "text/plain": "<AxesSubplot:>"
     },
     "execution_count": 105,
     "metadata": {},
     "output_type": "execute_result"
    },
    {
     "data": {
      "text/plain": "<Figure size 432x288 with 1 Axes>",
      "image/png": "[encoded data removed]"
     },
     "metadata": {},
     "output_type": "display_data"
    }
   ],
   "source": [
    "final_metrics[\"value\"].hist(bins=50)"
   ],
   "metadata": {
    "collapsed": false,
    "pycharm": {
     "name": "#%%\n"
    }
   }
  },
  {
   "cell_type": "code",
   "execution_count": 104,
   "outputs": [
    {
     "data": {
      "text/plain": "   metric  bootstrap    label   kingdom     value\n0     mcc          0  overall   EUKARYA  0.937731\n1     mcc          0  overall   ARCHAEA  0.827396\n2     mcc          0  overall  POSITIVE  0.847592\n3     mcc          0  overall  NEGATIVE  0.920454\n4     mcc          0  overall   overall  0.938732\n5     mcc          0       SP   EUKARYA  0.948369\n6     mcc          0       SP   ARCHAEA  0.826977\n7     mcc          0       SP  POSITIVE  0.656461\n8     mcc          0       SP  NEGATIVE  0.845570\n9     mcc          0       SP   overall  0.919429\n10    mcc          0    NO_SP   EUKARYA  0.944692\n11    mcc          0    NO_SP   ARCHAEA  0.962140\n12    mcc          0    NO_SP  POSITIVE  0.906977\n13    mcc          0    NO_SP  NEGATIVE  0.964020\n14    mcc          0    NO_SP   overall  0.961509\n15    mcc          0      TAT   EUKARYA  0.000000\n16    mcc          0      TAT   ARCHAEA  0.803902\n17    mcc          0      TAT  POSITIVE  0.807307\n18    mcc          0      TAT  NEGATIVE  1.000000\n19    mcc          0      TAT   overall  0.905870\n20    mcc          0     LIPO   EUKARYA  0.000000\n21    mcc          0     LIPO   ARCHAEA  0.584123\n22    mcc          0     LIPO  POSITIVE  0.919778\n23    mcc          0     LIPO  NEGATIVE  0.912037\n24    mcc          0     LIPO   overall  0.924302\n25    mcc          1  overall   EUKARYA  0.928307\n26    mcc          1  overall   ARCHAEA  0.871771\n27    mcc          1  overall  POSITIVE  0.817295\n28    mcc          1  overall  NEGATIVE  0.909644\n29    mcc          1  overall   overall  0.930903\n30    mcc          1       SP   EUKARYA  0.941649\n31    mcc          1       SP   ARCHAEA  0.847976\n32    mcc          1       SP  POSITIVE  0.726198\n33    mcc          1       SP  NEGATIVE  0.822730\n34    mcc          1       SP   overall  0.910395\n35    mcc          1    NO_SP   EUKARYA  0.936102\n36    mcc          1    NO_SP   ARCHAEA  0.964635\n37    mcc          1    NO_SP  POSITIVE  0.904449\n38    mcc          1    NO_SP  NEGATIVE  0.937282\n39    mcc          1    NO_SP   overall  0.955424\n40    mcc          1      TAT   EUKARYA  0.000000\n41    mcc          1      TAT   ARCHAEA  0.800641\n42    mcc          1      TAT  POSITIVE  0.746292\n43    mcc          1      TAT  NEGATIVE  0.990928\n44    mcc          1      TAT   overall  0.896221\n45    mcc          1     LIPO   EUKARYA  0.000000\n46    mcc          1     LIPO   ARCHAEA  0.809524\n47    mcc          1     LIPO  POSITIVE  0.891205\n48    mcc          1     LIPO  NEGATIVE  0.915783\n49    mcc          1     LIPO   overall  0.914761",
      "text/html": "<div>\n<style scoped>\n    .dataframe tbody tr th:only-of-type {\n        vertical-align: middle;\n    }\n\n    .dataframe tbody tr th {\n        vertical-align: top;\n    }\n\n    .dataframe thead th {\n        text-align: right;\n    }\n</style>\n<table border=\"1\" class=\"dataframe\">\n  <thead>\n    <tr style=\"text-align: right;\">\n      <th></th>\n      <th>metric</th>\n      <th>bootstrap</th>\n      <th>label</th>\n      <th>kingdom</th>\n      <th>value</th>\n    </tr>\n  </thead>\n  <tbody>\n    <tr>\n      <th>0</th>\n      <td>mcc</td>\n      <td>0</td>\n      <td>overall</td>\n      <td>EUKARYA</td>\n      <td>0.937731</td>\n    </tr>\n    <tr>\n      <th>1</th>\n      <td>mcc</td>\n      <td>0</td>\n      <td>overall</td>\n      <td>ARCHAEA</td>\n      <td>0.827396</td>\n    </tr>\n    <tr>\n      <th>2</th>\n      <td>mcc</td>\n      <td>0</td>\n      <td>overall</td>\n      <td>POSITIVE</td>\n      <td>0.847592</td>\n    </tr>\n    <tr>\n      <th>3</th>\n      <td>mcc</td>\n      <td>0</td>\n      <td>overall</td>\n      <td>NEGATIVE</td>\n      <td>0.920454</td>\n    </tr>\n    <tr>\n      <th>4</th>\n      <td>mcc</td>\n      <td>0</td>\n      <td>overall</td>\n      <td>overall</td>\n      <td>0.938732</td>\n    </tr>\n    <tr>\n      <th>5</th>\n      <td>mcc</td>\n      <td>0</td>\n      <td>SP</td>\n      <td>EUKARYA</td>\n      <td>0.948369</td>\n    </tr>\n    <tr>\n      <th>6</th>\n      <td>mcc</td>\n      <td>0</td>\n      <td>SP</td>\n      <td>ARCHAEA</td>\n      <td>0.826977</td>\n    </tr>\n    <tr>\n      <th>7</th>\n      <td>mcc</td>\n      <td>0</td>\n      <td>SP</td>\n      <td>POSITIVE</td>\n      <td>0.656461</td>\n    </tr>\n    <tr>\n      <th>8</th>\n      <td>mcc</td>\n      <td>0</td>\n      <td>SP</td>\n      <td>NEGATIVE</td>\n      <td>0.845570</td>\n    </tr>\n    <tr>\n      <th>9</th>\n      <td>mcc</td>\n      <td>0</td>\n      <td>SP</td>\n      <td>overall</td>\n      <td>0.919429</td>\n    </tr>\n    <tr>\n      <th>10</th>\n      <td>mcc</td>\n      <td>0</td>\n      <td>NO_SP</td>\n      <td>EUKARYA</td>\n      <td>0.944692</td>\n    </tr>\n    <tr>\n      <th>11</th>\n      <td>mcc</td>\n      <td>0</td>\n      <td>NO_SP</td>\n      <td>ARCHAEA</td>\n      <td>0.962140</td>\n    </tr>\n    <tr>\n      <th>12</th>\n      <td>mcc</td>\n      <td>0</td>\n      <td>NO_SP</td>\n      <td>POSITIVE</td>\n      <td>0.906977</td>\n    </tr>\n    <tr>\n      <th>13</th>\n      <td>mcc</td>\n      <td>0</td>\n      <td>NO_SP</td>\n      <td>NEGATIVE</td>\n      <td>0.964020</td>\n    </tr>\n    <tr>\n      <th>14</th>\n      <td>mcc</td>\n      <td>0</td>\n      <td>NO_SP</td>\n      <td>overall</td>\n      <td>0.961509</td>\n    </tr>\n    <tr>\n      <th>15</th>\n      <td>mcc</td>\n      <td>0</td>\n      <td>TAT</td>\n      <td>EUKARYA</td>\n      <td>0.000000</td>\n    </tr>\n    <tr>\n      <th>16</th>\n      <td>mcc</td>\n      <td>0</td>\n      <td>TAT</td>\n      <td>ARCHAEA</td>\n      <td>0.803902</td>\n    </tr>\n    <tr>\n      <th>17</th>\n      <td>mcc</td>\n      <td>0</td>\n      <td>TAT</td>\n      <td>POSITIVE</td>\n      <td>0.807307</td>\n    </tr>\n    <tr>\n      <th>18</th>\n      <td>mcc</td>\n      <td>0</td>\n      <td>TAT</td>\n      <td>NEGATIVE</td>\n      <td>1.000000</td>\n    </tr>\n    <tr>\n      <th>19</th>\n      <td>mcc</td>\n      <td>0</td>\n      <td>TAT</td>\n      <td>overall</td>\n      <td>0.905870</td>\n    </tr>\n    <tr>\n      <th>20</th>\n      <td>mcc</td>\n      <td>0</td>\n      <td>LIPO</td>\n      <td>EUKARYA</td>\n      <td>0.000000</td>\n    </tr>\n    <tr>\n      <th>21</th>\n      <td>mcc</td>\n      <td>0</td>\n      <td>LIPO</td>\n      <td>ARCHAEA</td>\n      <td>0.584123</td>\n    </tr>\n    <tr>\n      <th>22</th>\n      <td>mcc</td>\n      <td>0</td>\n      <td>LIPO</td>\n      <td>POSITIVE</td>\n      <td>0.919778</td>\n    </tr>\n    <tr>\n      <th>23</th>\n      <td>mcc</td>\n      <td>0</td>\n      <td>LIPO</td>\n      <td>NEGATIVE</td>\n      <td>0.912037</td>\n    </tr>\n    <tr>\n      <th>24</th>\n      <td>mcc</td>\n      <td>0</td>\n      <td>LIPO</td>\n      <td>overall</td>\n      <td>0.924302</td>\n    </tr>\n    <tr>\n      <th>25</th>\n      <td>mcc</td>\n      <td>1</td>\n      <td>overall</td>\n      <td>EUKARYA</td>\n      <td>0.928307</td>\n    </tr>\n    <tr>\n      <th>26</th>\n      <td>mcc</td>\n      <td>1</td>\n      <td>overall</td>\n      <td>ARCHAEA</td>\n      <td>0.871771</td>\n    </tr>\n    <tr>\n      <th>27</th>\n      <td>mcc</td>\n      <td>1</td>\n      <td>overall</td>\n      <td>POSITIVE</td>\n      <td>0.817295</td>\n    </tr>\n    <tr>\n      <th>28</th>\n      <td>mcc</td>\n      <td>1</td>\n      <td>overall</td>\n      <td>NEGATIVE</td>\n      <td>0.909644</td>\n    </tr>\n    <tr>\n      <th>29</th>\n      <td>mcc</td>\n      <td>1</td>\n      <td>overall</td>\n      <td>overall</td>\n      <td>0.930903</td>\n    </tr>\n    <tr>\n      <th>30</th>\n      <td>mcc</td>\n      <td>1</td>\n      <td>SP</td>\n      <td>EUKARYA</td>\n      <td>0.941649</td>\n    </tr>\n    <tr>\n      <th>31</th>\n      <td>mcc</td>\n      <td>1</td>\n      <td>SP</td>\n      <td>ARCHAEA</td>\n      <td>0.847976</td>\n    </tr>\n    <tr>\n      <th>32</th>\n      <td>mcc</td>\n      <td>1</td>\n      <td>SP</td>\n      <td>POSITIVE</td>\n      <td>0.726198</td>\n    </tr>\n    <tr>\n      <th>33</th>\n      <td>mcc</td>\n      <td>1</td>\n      <td>SP</td>\n      <td>NEGATIVE</td>\n      <td>0.822730</td>\n    </tr>\n    <tr>\n      <th>34</th>\n      <td>mcc</td>\n      <td>1</td>\n      <td>SP</td>\n      <td>overall</td>\n      <td>0.910395</td>\n    </tr>\n    <tr>\n      <th>35</th>\n      <td>mcc</td>\n      <td>1</td>\n      <td>NO_SP</td>\n      <td>EUKARYA</td>\n      <td>0.936102</td>\n    </tr>\n    <tr>\n      <th>36</th>\n      <td>mcc</td>\n      <td>1</td>\n      <td>NO_SP</td>\n      <td>ARCHAEA</td>\n      <td>0.964635</td>\n    </tr>\n    <tr>\n      <th>37</th>\n      <td>mcc</td>\n      <td>1</td>\n      <td>NO_SP</td>\n      <td>POSITIVE</td>\n      <td>0.904449</td>\n    </tr>\n    <tr>\n      <th>38</th>\n      <td>mcc</td>\n      <td>1</td>\n      <td>NO_SP</td>\n      <td>NEGATIVE</td>\n      <td>0.937282</td>\n    </tr>\n    <tr>\n      <th>39</th>\n      <td>mcc</td>\n      <td>1</td>\n      <td>NO_SP</td>\n      <td>overall</td>\n      <td>0.955424</td>\n    </tr>\n    <tr>\n      <th>40</th>\n      <td>mcc</td>\n      <td>1</td>\n      <td>TAT</td>\n      <td>EUKARYA</td>\n      <td>0.000000</td>\n    </tr>\n    <tr>\n      <th>41</th>\n      <td>mcc</td>\n      <td>1</td>\n      <td>TAT</td>\n      <td>ARCHAEA</td>\n      <td>0.800641</td>\n    </tr>\n    <tr>\n      <th>42</th>\n      <td>mcc</td>\n      <td>1</td>\n      <td>TAT</td>\n      <td>POSITIVE</td>\n      <td>0.746292</td>\n    </tr>\n    <tr>\n      <th>43</th>\n      <td>mcc</td>\n      <td>1</td>\n      <td>TAT</td>\n      <td>NEGATIVE</td>\n      <td>0.990928</td>\n    </tr>\n    <tr>\n      <th>44</th>\n      <td>mcc</td>\n      <td>1</td>\n      <td>TAT</td>\n      <td>overall</td>\n      <td>0.896221</td>\n    </tr>\n    <tr>\n      <th>45</th>\n      <td>mcc</td>\n      <td>1</td>\n      <td>LIPO</td>\n      <td>EUKARYA</td>\n      <td>0.000000</td>\n    </tr>\n    <tr>\n      <th>46</th>\n      <td>mcc</td>\n      <td>1</td>\n      <td>LIPO</td>\n      <td>ARCHAEA</td>\n      <td>0.809524</td>\n    </tr>\n    <tr>\n      <th>47</th>\n      <td>mcc</td>\n      <td>1</td>\n      <td>LIPO</td>\n      <td>POSITIVE</td>\n      <td>0.891205</td>\n    </tr>\n    <tr>\n      <th>48</th>\n      <td>mcc</td>\n      <td>1</td>\n      <td>LIPO</td>\n      <td>NEGATIVE</td>\n      <td>0.915783</td>\n    </tr>\n    <tr>\n      <th>49</th>\n      <td>mcc</td>\n      <td>1</td>\n      <td>LIPO</td>\n      <td>overall</td>\n      <td>0.914761</td>\n    </tr>\n  </tbody>\n</table>\n</div>"
     },
     "execution_count": 104,
     "metadata": {},
     "output_type": "execute_result"
    }
   ],
   "source": [
    "final_metrics.query(\"metric == 'mcc'\")"
   ],
   "metadata": {
    "collapsed": false,
    "pycharm": {
     "name": "#%%\n"
    }
   }
  },
  {
   "cell_type": "code",
   "execution_count": 34,
   "outputs": [
    {
     "data": {
      "text/plain": "                     mean       std\nmetric    label                    \nmcc       LIPO   0.913881  0.013487\n          NO_SP  0.000000  0.000000\n          SP     0.092215  0.010593\n          TAT    0.904392  0.020700\nprecision LIPO   0.925207  0.016680\n          NO_SP  0.000000  0.000000\n          SP     0.964784  0.007379\n          TAT    0.967965  0.019248\nrecall    LIPO   0.915105  0.016949\n          NO_SP  0.000000  0.000000\n          SP     0.170505  0.005627\n          TAT    0.849603  0.033462",
      "text/html": "<div>\n<style scoped>\n    .dataframe tbody tr th:only-of-type {\n        vertical-align: middle;\n    }\n\n    .dataframe tbody tr th {\n        vertical-align: top;\n    }\n\n    .dataframe thead th {\n        text-align: right;\n    }\n</style>\n<table border=\"1\" class=\"dataframe\">\n  <thead>\n    <tr style=\"text-align: right;\">\n      <th></th>\n      <th></th>\n      <th>mean</th>\n      <th>std</th>\n    </tr>\n    <tr>\n      <th>metric</th>\n      <th>label</th>\n      <th></th>\n      <th></th>\n    </tr>\n  </thead>\n  <tbody>\n    <tr>\n      <th rowspan=\"4\" valign=\"top\">mcc</th>\n      <th>LIPO</th>\n      <td>0.913881</td>\n      <td>0.013487</td>\n    </tr>\n    <tr>\n      <th>NO_SP</th>\n      <td>0.000000</td>\n      <td>0.000000</td>\n    </tr>\n    <tr>\n      <th>SP</th>\n      <td>0.092215</td>\n      <td>0.010593</td>\n    </tr>\n    <tr>\n      <th>TAT</th>\n      <td>0.904392</td>\n      <td>0.020700</td>\n    </tr>\n    <tr>\n      <th rowspan=\"4\" valign=\"top\">precision</th>\n      <th>LIPO</th>\n      <td>0.925207</td>\n      <td>0.016680</td>\n    </tr>\n    <tr>\n      <th>NO_SP</th>\n      <td>0.000000</td>\n      <td>0.000000</td>\n    </tr>\n    <tr>\n      <th>SP</th>\n      <td>0.964784</td>\n      <td>0.007379</td>\n    </tr>\n    <tr>\n      <th>TAT</th>\n      <td>0.967965</td>\n      <td>0.019248</td>\n    </tr>\n    <tr>\n      <th rowspan=\"4\" valign=\"top\">recall</th>\n      <th>LIPO</th>\n      <td>0.915105</td>\n      <td>0.016949</td>\n    </tr>\n    <tr>\n      <th>NO_SP</th>\n      <td>0.000000</td>\n      <td>0.000000</td>\n    </tr>\n    <tr>\n      <th>SP</th>\n      <td>0.170505</td>\n      <td>0.005627</td>\n    </tr>\n    <tr>\n      <th>TAT</th>\n      <td>0.849603</td>\n      <td>0.033462</td>\n    </tr>\n  </tbody>\n</table>\n</div>"
     },
     "execution_count": 34,
     "metadata": {},
     "output_type": "execute_result"
    }
   ],
   "source": [
    "final_metrics.query(\"kingdom == 'overall'\")\\\n",
    "    .groupby([\"metric\", \"label\"])\\\n",
    "    .agg([\"mean\", \"std\"])\\\n",
    "    [\"value\"]"
   ],
   "metadata": {
    "collapsed": false,
    "pycharm": {
     "name": "#%%\n"
    }
   }
  },
  {
   "cell_type": "code",
   "execution_count": 35,
   "outputs": [
    {
     "ename": "KeyError",
     "evalue": "'std'",
     "output_type": "error",
     "traceback": [
      "\u001B[1;31m---------------------------------------------------------------------------\u001B[0m",
      "\u001B[1;31mKeyError\u001B[0m                                  Traceback (most recent call last)",
      "\u001B[1;32m~\\AppData\\Local\\Programs\\Python\\Python39\\lib\\site-packages\\pandas\\core\\indexes\\base.py\u001B[0m in \u001B[0;36mget_loc\u001B[1;34m(self, key, method, tolerance)\u001B[0m\n\u001B[0;32m   3360\u001B[0m             \u001B[1;32mtry\u001B[0m\u001B[1;33m:\u001B[0m\u001B[1;33m\u001B[0m\u001B[1;33m\u001B[0m\u001B[0m\n\u001B[1;32m-> 3361\u001B[1;33m                 \u001B[1;32mreturn\u001B[0m \u001B[0mself\u001B[0m\u001B[1;33m.\u001B[0m\u001B[0m_engine\u001B[0m\u001B[1;33m.\u001B[0m\u001B[0mget_loc\u001B[0m\u001B[1;33m(\u001B[0m\u001B[0mcasted_key\u001B[0m\u001B[1;33m)\u001B[0m\u001B[1;33m\u001B[0m\u001B[1;33m\u001B[0m\u001B[0m\n\u001B[0m\u001B[0;32m   3362\u001B[0m             \u001B[1;32mexcept\u001B[0m \u001B[0mKeyError\u001B[0m \u001B[1;32mas\u001B[0m \u001B[0merr\u001B[0m\u001B[1;33m:\u001B[0m\u001B[1;33m\u001B[0m\u001B[1;33m\u001B[0m\u001B[0m\n",
      "\u001B[1;32m~\\AppData\\Local\\Programs\\Python\\Python39\\lib\\site-packages\\pandas\\_libs\\index.pyx\u001B[0m in \u001B[0;36mpandas._libs.index.IndexEngine.get_loc\u001B[1;34m()\u001B[0m\n",
      "\u001B[1;32m~\\AppData\\Local\\Programs\\Python\\Python39\\lib\\site-packages\\pandas\\_libs\\index.pyx\u001B[0m in \u001B[0;36mpandas._libs.index.IndexEngine.get_loc\u001B[1;34m()\u001B[0m\n",
      "\u001B[1;32mpandas\\_libs\\hashtable_class_helper.pxi\u001B[0m in \u001B[0;36mpandas._libs.hashtable.PyObjectHashTable.get_item\u001B[1;34m()\u001B[0m\n",
      "\u001B[1;32mpandas\\_libs\\hashtable_class_helper.pxi\u001B[0m in \u001B[0;36mpandas._libs.hashtable.PyObjectHashTable.get_item\u001B[1;34m()\u001B[0m\n",
      "\u001B[1;31mKeyError\u001B[0m: 'std'",
      "\nThe above exception was the direct cause of the following exception:\n",
      "\u001B[1;31mKeyError\u001B[0m                                  Traceback (most recent call last)",
      "\u001B[1;32m~\\AppData\\Local\\Temp/ipykernel_9816/845509974.py\u001B[0m in \u001B[0;36m<module>\u001B[1;34m\u001B[0m\n\u001B[1;32m----> 1\u001B[1;33m \u001B[0mfinal_metrics\u001B[0m\u001B[1;33m[\u001B[0m\u001B[1;34m\"ci\"\u001B[0m\u001B[1;33m]\u001B[0m \u001B[1;33m=\u001B[0m \u001B[1;36m1.96\u001B[0m \u001B[1;33m*\u001B[0m \u001B[0mfinal_metrics\u001B[0m\u001B[1;33m[\u001B[0m\u001B[1;34m\"std\"\u001B[0m\u001B[1;33m]\u001B[0m\u001B[1;33m\u001B[0m\u001B[1;33m\u001B[0m\u001B[0m\n\u001B[0m\u001B[0;32m      2\u001B[0m \u001B[1;33m\u001B[0m\u001B[0m\n",
      "\u001B[1;32m~\\AppData\\Local\\Programs\\Python\\Python39\\lib\\site-packages\\pandas\\core\\frame.py\u001B[0m in \u001B[0;36m__getitem__\u001B[1;34m(self, key)\u001B[0m\n\u001B[0;32m   3456\u001B[0m             \u001B[1;32mif\u001B[0m \u001B[0mself\u001B[0m\u001B[1;33m.\u001B[0m\u001B[0mcolumns\u001B[0m\u001B[1;33m.\u001B[0m\u001B[0mnlevels\u001B[0m \u001B[1;33m>\u001B[0m \u001B[1;36m1\u001B[0m\u001B[1;33m:\u001B[0m\u001B[1;33m\u001B[0m\u001B[1;33m\u001B[0m\u001B[0m\n\u001B[0;32m   3457\u001B[0m                 \u001B[1;32mreturn\u001B[0m \u001B[0mself\u001B[0m\u001B[1;33m.\u001B[0m\u001B[0m_getitem_multilevel\u001B[0m\u001B[1;33m(\u001B[0m\u001B[0mkey\u001B[0m\u001B[1;33m)\u001B[0m\u001B[1;33m\u001B[0m\u001B[1;33m\u001B[0m\u001B[0m\n\u001B[1;32m-> 3458\u001B[1;33m             \u001B[0mindexer\u001B[0m \u001B[1;33m=\u001B[0m \u001B[0mself\u001B[0m\u001B[1;33m.\u001B[0m\u001B[0mcolumns\u001B[0m\u001B[1;33m.\u001B[0m\u001B[0mget_loc\u001B[0m\u001B[1;33m(\u001B[0m\u001B[0mkey\u001B[0m\u001B[1;33m)\u001B[0m\u001B[1;33m\u001B[0m\u001B[1;33m\u001B[0m\u001B[0m\n\u001B[0m\u001B[0;32m   3459\u001B[0m             \u001B[1;32mif\u001B[0m \u001B[0mis_integer\u001B[0m\u001B[1;33m(\u001B[0m\u001B[0mindexer\u001B[0m\u001B[1;33m)\u001B[0m\u001B[1;33m:\u001B[0m\u001B[1;33m\u001B[0m\u001B[1;33m\u001B[0m\u001B[0m\n\u001B[0;32m   3460\u001B[0m                 \u001B[0mindexer\u001B[0m \u001B[1;33m=\u001B[0m \u001B[1;33m[\u001B[0m\u001B[0mindexer\u001B[0m\u001B[1;33m]\u001B[0m\u001B[1;33m\u001B[0m\u001B[1;33m\u001B[0m\u001B[0m\n",
      "\u001B[1;32m~\\AppData\\Local\\Programs\\Python\\Python39\\lib\\site-packages\\pandas\\core\\indexes\\base.py\u001B[0m in \u001B[0;36mget_loc\u001B[1;34m(self, key, method, tolerance)\u001B[0m\n\u001B[0;32m   3361\u001B[0m                 \u001B[1;32mreturn\u001B[0m \u001B[0mself\u001B[0m\u001B[1;33m.\u001B[0m\u001B[0m_engine\u001B[0m\u001B[1;33m.\u001B[0m\u001B[0mget_loc\u001B[0m\u001B[1;33m(\u001B[0m\u001B[0mcasted_key\u001B[0m\u001B[1;33m)\u001B[0m\u001B[1;33m\u001B[0m\u001B[1;33m\u001B[0m\u001B[0m\n\u001B[0;32m   3362\u001B[0m             \u001B[1;32mexcept\u001B[0m \u001B[0mKeyError\u001B[0m \u001B[1;32mas\u001B[0m \u001B[0merr\u001B[0m\u001B[1;33m:\u001B[0m\u001B[1;33m\u001B[0m\u001B[1;33m\u001B[0m\u001B[0m\n\u001B[1;32m-> 3363\u001B[1;33m                 \u001B[1;32mraise\u001B[0m \u001B[0mKeyError\u001B[0m\u001B[1;33m(\u001B[0m\u001B[0mkey\u001B[0m\u001B[1;33m)\u001B[0m \u001B[1;32mfrom\u001B[0m \u001B[0merr\u001B[0m\u001B[1;33m\u001B[0m\u001B[1;33m\u001B[0m\u001B[0m\n\u001B[0m\u001B[0;32m   3364\u001B[0m \u001B[1;33m\u001B[0m\u001B[0m\n\u001B[0;32m   3365\u001B[0m         \u001B[1;32mif\u001B[0m \u001B[0mis_scalar\u001B[0m\u001B[1;33m(\u001B[0m\u001B[0mkey\u001B[0m\u001B[1;33m)\u001B[0m \u001B[1;32mand\u001B[0m \u001B[0misna\u001B[0m\u001B[1;33m(\u001B[0m\u001B[0mkey\u001B[0m\u001B[1;33m)\u001B[0m \u001B[1;32mand\u001B[0m \u001B[1;32mnot\u001B[0m \u001B[0mself\u001B[0m\u001B[1;33m.\u001B[0m\u001B[0mhasnans\u001B[0m\u001B[1;33m:\u001B[0m\u001B[1;33m\u001B[0m\u001B[1;33m\u001B[0m\u001B[0m\n",
      "\u001B[1;31mKeyError\u001B[0m: 'std'"
     ]
    }
   ],
   "source": [
    "final_metrics[\"ci\"] = 1.96 * final_metrics[\"std\"]"
   ],
   "metadata": {
    "collapsed": false,
    "pycharm": {
     "name": "#%%\n"
    }
   }
  },
  {
   "cell_type": "code",
   "execution_count": 41,
   "outputs": [
    {
     "data": {
      "text/plain": "                              mean\nkingdom  metric    label          \nARCHAEA  mcc       LIPO   0.799140\n                   NO_SP  0.000000\n                   SP     0.239968\n                   TAT    0.910638\n         precision LIPO   0.834577\n                   NO_SP  0.000000\n                   SP     0.912973\n                   TAT    0.996094\n         recall    LIPO   0.824116\n                   NO_SP  0.000000\n                   SP     0.316475\n                   TAT    0.857910\nEUKARYA  mcc       LIPO   0.000000\n                   NO_SP  0.000000\n                   SP    -0.050026\n                   TAT    0.000000\n         precision LIPO   0.000000\n                   NO_SP  0.000000\n                   SP     0.983707\n                   TAT    0.000000\n         recall    LIPO   0.000000\n                   NO_SP  0.000000\n                   SP     0.146123\n                   TAT    0.000000\nNEGATIVE mcc       LIPO   0.894921\n                   NO_SP  0.000000\n                   SP     0.545451\n                   TAT    0.991736\n         precision LIPO   0.917822\n                   NO_SP  0.000000\n                   SP     0.931140\n                   TAT    1.000000\n         recall    LIPO   0.964624\n                   NO_SP  0.000000\n                   SP     0.482669\n                   TAT    0.985983\nPOSITIVE mcc       LIPO   0.920257\n                   NO_SP  0.000000\n                   SP     0.417948\n                   TAT    0.757534\n         precision LIPO   0.950968\n                   NO_SP  0.000000\n                   SP     0.813876\n                   TAT    0.844668\n         recall    LIPO   0.963389\n                   NO_SP  0.000000\n                   SP     0.412808\n                   TAT    0.734235\noverall  mcc       LIPO   0.913881\n                   NO_SP  0.000000\n                   SP     0.092215\n                   TAT    0.904392\n         precision LIPO   0.925207\n                   NO_SP  0.000000\n                   SP     0.964784\n                   TAT    0.967965\n         recall    LIPO   0.915105\n                   NO_SP  0.000000\n                   SP     0.170505\n                   TAT    0.849603",
      "text/html": "<div>\n<style scoped>\n    .dataframe tbody tr th:only-of-type {\n        vertical-align: middle;\n    }\n\n    .dataframe tbody tr th {\n        vertical-align: top;\n    }\n\n    .dataframe thead th {\n        text-align: right;\n    }\n</style>\n<table border=\"1\" class=\"dataframe\">\n  <thead>\n    <tr style=\"text-align: right;\">\n      <th></th>\n      <th></th>\n      <th></th>\n      <th>mean</th>\n    </tr>\n    <tr>\n      <th>kingdom</th>\n      <th>metric</th>\n      <th>label</th>\n      <th></th>\n    </tr>\n  </thead>\n  <tbody>\n    <tr>\n      <th rowspan=\"12\" valign=\"top\">ARCHAEA</th>\n      <th rowspan=\"4\" valign=\"top\">mcc</th>\n      <th>LIPO</th>\n      <td>0.799140</td>\n    </tr>\n    <tr>\n      <th>NO_SP</th>\n      <td>0.000000</td>\n    </tr>\n    <tr>\n      <th>SP</th>\n      <td>0.239968</td>\n    </tr>\n    <tr>\n      <th>TAT</th>\n      <td>0.910638</td>\n    </tr>\n    <tr>\n      <th rowspan=\"4\" valign=\"top\">precision</th>\n      <th>LIPO</th>\n      <td>0.834577</td>\n    </tr>\n    <tr>\n      <th>NO_SP</th>\n      <td>0.000000</td>\n    </tr>\n    <tr>\n      <th>SP</th>\n      <td>0.912973</td>\n    </tr>\n    <tr>\n      <th>TAT</th>\n      <td>0.996094</td>\n    </tr>\n    <tr>\n      <th rowspan=\"4\" valign=\"top\">recall</th>\n      <th>LIPO</th>\n      <td>0.824116</td>\n    </tr>\n    <tr>\n      <th>NO_SP</th>\n      <td>0.000000</td>\n    </tr>\n    <tr>\n      <th>SP</th>\n      <td>0.316475</td>\n    </tr>\n    <tr>\n      <th>TAT</th>\n      <td>0.857910</td>\n    </tr>\n    <tr>\n      <th rowspan=\"12\" valign=\"top\">EUKARYA</th>\n      <th rowspan=\"4\" valign=\"top\">mcc</th>\n      <th>LIPO</th>\n      <td>0.000000</td>\n    </tr>\n    <tr>\n      <th>NO_SP</th>\n      <td>0.000000</td>\n    </tr>\n    <tr>\n      <th>SP</th>\n      <td>-0.050026</td>\n    </tr>\n    <tr>\n      <th>TAT</th>\n      <td>0.000000</td>\n    </tr>\n    <tr>\n      <th rowspan=\"4\" valign=\"top\">precision</th>\n      <th>LIPO</th>\n      <td>0.000000</td>\n    </tr>\n    <tr>\n      <th>NO_SP</th>\n      <td>0.000000</td>\n    </tr>\n    <tr>\n      <th>SP</th>\n      <td>0.983707</td>\n    </tr>\n    <tr>\n      <th>TAT</th>\n      <td>0.000000</td>\n    </tr>\n    <tr>\n      <th rowspan=\"4\" valign=\"top\">recall</th>\n      <th>LIPO</th>\n      <td>0.000000</td>\n    </tr>\n    <tr>\n      <th>NO_SP</th>\n      <td>0.000000</td>\n    </tr>\n    <tr>\n      <th>SP</th>\n      <td>0.146123</td>\n    </tr>\n    <tr>\n      <th>TAT</th>\n      <td>0.000000</td>\n    </tr>\n    <tr>\n      <th rowspan=\"12\" valign=\"top\">NEGATIVE</th>\n      <th rowspan=\"4\" valign=\"top\">mcc</th>\n      <th>LIPO</th>\n      <td>0.894921</td>\n    </tr>\n    <tr>\n      <th>NO_SP</th>\n      <td>0.000000</td>\n    </tr>\n    <tr>\n      <th>SP</th>\n      <td>0.545451</td>\n    </tr>\n    <tr>\n      <th>TAT</th>\n      <td>0.991736</td>\n    </tr>\n    <tr>\n      <th rowspan=\"4\" valign=\"top\">precision</th>\n      <th>LIPO</th>\n      <td>0.917822</td>\n    </tr>\n    <tr>\n      <th>NO_SP</th>\n      <td>0.000000</td>\n    </tr>\n    <tr>\n      <th>SP</th>\n      <td>0.931140</td>\n    </tr>\n    <tr>\n      <th>TAT</th>\n      <td>1.000000</td>\n    </tr>\n    <tr>\n      <th rowspan=\"4\" valign=\"top\">recall</th>\n      <th>LIPO</th>\n      <td>0.964624</td>\n    </tr>\n    <tr>\n      <th>NO_SP</th>\n      <td>0.000000</td>\n    </tr>\n    <tr>\n      <th>SP</th>\n      <td>0.482669</td>\n    </tr>\n    <tr>\n      <th>TAT</th>\n      <td>0.985983</td>\n    </tr>\n    <tr>\n      <th rowspan=\"12\" valign=\"top\">POSITIVE</th>\n      <th rowspan=\"4\" valign=\"top\">mcc</th>\n      <th>LIPO</th>\n      <td>0.920257</td>\n    </tr>\n    <tr>\n      <th>NO_SP</th>\n      <td>0.000000</td>\n    </tr>\n    <tr>\n      <th>SP</th>\n      <td>0.417948</td>\n    </tr>\n    <tr>\n      <th>TAT</th>\n      <td>0.757534</td>\n    </tr>\n    <tr>\n      <th rowspan=\"4\" valign=\"top\">precision</th>\n      <th>LIPO</th>\n      <td>0.950968</td>\n    </tr>\n    <tr>\n      <th>NO_SP</th>\n      <td>0.000000</td>\n    </tr>\n    <tr>\n      <th>SP</th>\n      <td>0.813876</td>\n    </tr>\n    <tr>\n      <th>TAT</th>\n      <td>0.844668</td>\n    </tr>\n    <tr>\n      <th rowspan=\"4\" valign=\"top\">recall</th>\n      <th>LIPO</th>\n      <td>0.963389</td>\n    </tr>\n    <tr>\n      <th>NO_SP</th>\n      <td>0.000000</td>\n    </tr>\n    <tr>\n      <th>SP</th>\n      <td>0.412808</td>\n    </tr>\n    <tr>\n      <th>TAT</th>\n      <td>0.734235</td>\n    </tr>\n    <tr>\n      <th rowspan=\"12\" valign=\"top\">overall</th>\n      <th rowspan=\"4\" valign=\"top\">mcc</th>\n      <th>LIPO</th>\n      <td>0.913881</td>\n    </tr>\n    <tr>\n      <th>NO_SP</th>\n      <td>0.000000</td>\n    </tr>\n    <tr>\n      <th>SP</th>\n      <td>0.092215</td>\n    </tr>\n    <tr>\n      <th>TAT</th>\n      <td>0.904392</td>\n    </tr>\n    <tr>\n      <th rowspan=\"4\" valign=\"top\">precision</th>\n      <th>LIPO</th>\n      <td>0.925207</td>\n    </tr>\n    <tr>\n      <th>NO_SP</th>\n      <td>0.000000</td>\n    </tr>\n    <tr>\n      <th>SP</th>\n      <td>0.964784</td>\n    </tr>\n    <tr>\n      <th>TAT</th>\n      <td>0.967965</td>\n    </tr>\n    <tr>\n      <th rowspan=\"4\" valign=\"top\">recall</th>\n      <th>LIPO</th>\n      <td>0.915105</td>\n    </tr>\n    <tr>\n      <th>NO_SP</th>\n      <td>0.000000</td>\n    </tr>\n    <tr>\n      <th>SP</th>\n      <td>0.170505</td>\n    </tr>\n    <tr>\n      <th>TAT</th>\n      <td>0.849603</td>\n    </tr>\n  </tbody>\n</table>\n</div>"
     },
     "execution_count": 41,
     "metadata": {},
     "output_type": "execute_result"
    }
   ],
   "source": [
    "final_metrics\\\n",
    "    .groupby([\"kingdom\", \"metric\", \"label\"])\\\n",
    "    .agg([\"mean\"], \"std\")\\\n",
    "    [\"value\"]"
   ],
   "metadata": {
    "collapsed": false,
    "pycharm": {
     "name": "#%%\n"
    }
   }
  },
  {
   "cell_type": "markdown",
   "source": [
    "# Store results"
   ],
   "metadata": {
    "collapsed": false
   }
  },
  {
   "cell_type": "code",
   "execution_count": 118,
   "outputs": [],
   "source": [
    "Serializer.save(final_metrics, \"final_metrics_per_protein\")"
   ],
   "metadata": {
    "collapsed": false,
    "pycharm": {
     "name": "#%%\n"
    }
   }
  }
 ],
 "metadata": {
  "kernelspec": {
   "display_name": "Python 3",
   "language": "python",
   "name": "python3"
  },
  "language_info": {
   "codemirror_mode": {
    "name": "ipython",
    "version": 2
   },
   "file_extension": ".py",
   "mimetype": "text/x-python",
   "name": "python",
   "nbconvert_exporter": "python",
   "pygments_lexer": "ipython2",
   "version": "2.7.6"
  }
 },
 "nbformat": 4,
 "nbformat_minor": 0
}