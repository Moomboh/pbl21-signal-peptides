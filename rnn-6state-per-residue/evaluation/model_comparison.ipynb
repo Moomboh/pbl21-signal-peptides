{
 "cells": [
  {
   "cell_type": "code",
   "execution_count": 2,
   "metadata": {
    "collapsed": true
   },
   "outputs": [],
   "source": [
    "import pandas as pd"
   ]
  },
  {
   "cell_type": "code",
   "execution_count": 10,
   "outputs": [],
   "source": [
    "per_protein = pd.read_csv(\"data/protein_comparison_metrics.tsv\", sep=\"\\t\")\n",
    "per_residue = pd.read_csv(\"data/residue_comparison_metrics.tsv\", sep=\"\\t\")"
   ],
   "metadata": {
    "collapsed": false,
    "pycharm": {
     "name": "#%%\n"
    }
   }
  },
  {
   "cell_type": "code",
   "execution_count": 11,
   "outputs": [
    {
     "data": {
      "text/plain": "       Unnamed: 0       mcc    mcc_sd    mcc_ci  num_params    color\n0           HOHMM  0.586746  0.012768  0.025024         604  #6ba204\n1             ANN  0.686986  0.011975  0.023471       14074  #4169e1\n2             RNN  0.930228  0.006056  0.011870      244256  #760c71\n3  Multimodal DNN  0.950233  0.005238  0.010266      196602  #a37b3c",
      "text/html": "<div>\n<style scoped>\n    .dataframe tbody tr th:only-of-type {\n        vertical-align: middle;\n    }\n\n    .dataframe tbody tr th {\n        vertical-align: top;\n    }\n\n    .dataframe thead th {\n        text-align: right;\n    }\n</style>\n<table border=\"1\" class=\"dataframe\">\n  <thead>\n    <tr style=\"text-align: right;\">\n      <th></th>\n      <th>Unnamed: 0</th>\n      <th>mcc</th>\n      <th>mcc_sd</th>\n      <th>mcc_ci</th>\n      <th>num_params</th>\n      <th>color</th>\n    </tr>\n  </thead>\n  <tbody>\n    <tr>\n      <th>0</th>\n      <td>HOHMM</td>\n      <td>0.586746</td>\n      <td>0.012768</td>\n      <td>0.025024</td>\n      <td>604</td>\n      <td>#6ba204</td>\n    </tr>\n    <tr>\n      <th>1</th>\n      <td>ANN</td>\n      <td>0.686986</td>\n      <td>0.011975</td>\n      <td>0.023471</td>\n      <td>14074</td>\n      <td>#4169e1</td>\n    </tr>\n    <tr>\n      <th>2</th>\n      <td>RNN</td>\n      <td>0.930228</td>\n      <td>0.006056</td>\n      <td>0.011870</td>\n      <td>244256</td>\n      <td>#760c71</td>\n    </tr>\n    <tr>\n      <th>3</th>\n      <td>Multimodal DNN</td>\n      <td>0.950233</td>\n      <td>0.005238</td>\n      <td>0.010266</td>\n      <td>196602</td>\n      <td>#a37b3c</td>\n    </tr>\n  </tbody>\n</table>\n</div>"
     },
     "execution_count": 11,
     "metadata": {},
     "output_type": "execute_result"
    }
   ],
   "source": [
    "per_protein"
   ],
   "metadata": {
    "collapsed": false,
    "pycharm": {
     "name": "#%%\n"
    }
   }
  },
  {
   "cell_type": "code",
   "execution_count": 12,
   "outputs": [
    {
     "data": {
      "text/plain": "       Unnamed: 0       mcc    mcc_sd    mcc_ci  num_params    color\n0           HOHMM  0.620195  0.001455  0.002852         604  #6ba204\n1             RNN  0.913336  0.000776  0.001522      244256  #760c71\n2  Multimodal DNN  0.904613  0.000797  0.001561      196602  #a37b3c",
      "text/html": "<div>\n<style scoped>\n    .dataframe tbody tr th:only-of-type {\n        vertical-align: middle;\n    }\n\n    .dataframe tbody tr th {\n        vertical-align: top;\n    }\n\n    .dataframe thead th {\n        text-align: right;\n    }\n</style>\n<table border=\"1\" class=\"dataframe\">\n  <thead>\n    <tr style=\"text-align: right;\">\n      <th></th>\n      <th>Unnamed: 0</th>\n      <th>mcc</th>\n      <th>mcc_sd</th>\n      <th>mcc_ci</th>\n      <th>num_params</th>\n      <th>color</th>\n    </tr>\n  </thead>\n  <tbody>\n    <tr>\n      <th>0</th>\n      <td>HOHMM</td>\n      <td>0.620195</td>\n      <td>0.001455</td>\n      <td>0.002852</td>\n      <td>604</td>\n      <td>#6ba204</td>\n    </tr>\n    <tr>\n      <th>1</th>\n      <td>RNN</td>\n      <td>0.913336</td>\n      <td>0.000776</td>\n      <td>0.001522</td>\n      <td>244256</td>\n      <td>#760c71</td>\n    </tr>\n    <tr>\n      <th>2</th>\n      <td>Multimodal DNN</td>\n      <td>0.904613</td>\n      <td>0.000797</td>\n      <td>0.001561</td>\n      <td>196602</td>\n      <td>#a37b3c</td>\n    </tr>\n  </tbody>\n</table>\n</div>"
     },
     "execution_count": 12,
     "metadata": {},
     "output_type": "execute_result"
    }
   ],
   "source": [
    "per_residue"
   ],
   "metadata": {
    "collapsed": false,
    "pycharm": {
     "name": "#%%\n"
    }
   }
  }
 ],
 "metadata": {
  "kernelspec": {
   "display_name": "Python 3",
   "language": "python",
   "name": "python3"
  },
  "language_info": {
   "codemirror_mode": {
    "name": "ipython",
    "version": 2
   },
   "file_extension": ".py",
   "mimetype": "text/x-python",
   "name": "python",
   "nbconvert_exporter": "python",
   "pygments_lexer": "ipython2",
   "version": "2.7.6"
  }
 },
 "nbformat": 4,
 "nbformat_minor": 0
}