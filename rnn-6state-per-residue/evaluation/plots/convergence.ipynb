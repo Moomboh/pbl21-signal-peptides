{
 "cells": [
  {
   "cell_type": "code",
   "execution_count": 2,
   "metadata": {
    "collapsed": true
   },
   "outputs": [],
   "source": [
    "import matplotlib.pyplot as plt\n",
    "import pandas as pd\n",
    "import seaborn as sns\n",
    "\n",
    "sns.set_theme()\n",
    "\n",
    "from evaluation.serialization import Serializer"
   ]
  },
  {
   "cell_type": "code",
   "execution_count": 4,
   "outputs": [],
   "source": [
    "cv_training_metrics = Serializer.load(\"cv_training_metrics\")\n",
    "final_training_metrics = Serializer.load(\"final_training_metrics\")\n"
   ],
   "metadata": {
    "collapsed": false,
    "pycharm": {
     "name": "#%%\n"
    }
   }
  },
  {
   "cell_type": "code",
   "execution_count": 10,
   "outputs": [],
   "source": [
    "import matplotlib\n",
    "from colors import final_color, cv_color, baseline_color"
   ],
   "metadata": {
    "collapsed": false,
    "pycharm": {
     "name": "#%%\n"
    }
   }
  },
  {
   "cell_type": "code",
   "execution_count": 1,
   "outputs": [
    {
     "ename": "NameError",
     "evalue": "name 'matplotlib' is not defined",
     "output_type": "error",
     "traceback": [
      "\u001B[1;31m---------------------------------------------------------------------------\u001B[0m",
      "\u001B[1;31mNameError\u001B[0m                                 Traceback (most recent call last)",
      "\u001B[1;32m~\\AppData\\Local\\Temp/ipykernel_16548/590845476.py\u001B[0m in \u001B[0;36m<module>\u001B[1;34m\u001B[0m\n\u001B[0;32m      1\u001B[0m \u001B[0mCONFIDENCE_INTERVAL_ALPHA\u001B[0m\u001B[1;33m=\u001B[0m\u001B[1;36m0.6\u001B[0m\u001B[1;33m\u001B[0m\u001B[1;33m\u001B[0m\u001B[0m\n\u001B[1;32m----> 2\u001B[1;33m \u001B[0mcv_color\u001B[0m \u001B[1;33m=\u001B[0m \u001B[0mmatplotlib\u001B[0m\u001B[1;33m.\u001B[0m\u001B[0mcm\u001B[0m\u001B[1;33m.\u001B[0m\u001B[0mget_cmap\u001B[0m\u001B[1;33m(\u001B[0m\u001B[1;34m\"BuPu\"\u001B[0m\u001B[1;33m)\u001B[0m\u001B[1;33m(\u001B[0m\u001B[1;36m0.6\u001B[0m\u001B[1;33m)\u001B[0m\u001B[1;33m\u001B[0m\u001B[1;33m\u001B[0m\u001B[0m\n\u001B[0m\u001B[0;32m      3\u001B[0m \u001B[1;33m\u001B[0m\u001B[0m\n\u001B[0;32m      4\u001B[0m \u001B[1;31m# Cross-validation average\u001B[0m\u001B[1;33m\u001B[0m\u001B[1;33m\u001B[0m\u001B[0m\n\u001B[0;32m      5\u001B[0m \u001B[0maggregated_cv_data\u001B[0m \u001B[1;33m=\u001B[0m \u001B[0mcv_training_metrics\u001B[0m\u001B[1;33m.\u001B[0m\u001B[0mgroupby\u001B[0m\u001B[1;33m(\u001B[0m\u001B[1;33m[\u001B[0m\u001B[1;34m\"epoch\"\u001B[0m\u001B[1;33m]\u001B[0m\u001B[1;33m)\u001B[0m\u001B[1;33m[\u001B[0m\u001B[1;34m\"val_categorical_accuracy\"\u001B[0m\u001B[1;33m]\u001B[0m\u001B[1;33m.\u001B[0m\u001B[0magg\u001B[0m\u001B[1;33m(\u001B[0m\u001B[1;33m[\u001B[0m\u001B[1;34m\"mean\"\u001B[0m\u001B[1;33m,\u001B[0m \u001B[1;34m\"std\"\u001B[0m\u001B[1;33m]\u001B[0m\u001B[1;33m)\u001B[0m\u001B[1;33m\u001B[0m\u001B[1;33m\u001B[0m\u001B[0m\n",
      "\u001B[1;31mNameError\u001B[0m: name 'matplotlib' is not defined"
     ]
    }
   ],
   "source": [
    "CONFIDENCE_INTERVAL_ALPHA=0.6\n",
    "cv_color = matplotlib.cm.get_cmap(\"BuPu\")(0.6)\n",
    "\n",
    "# Cross-validation average\n",
    "aggregated_cv_data = cv_training_metrics.groupby([\"epoch\"])[\"val_categorical_accuracy\"].agg([\"mean\", \"std\"])\n",
    "plt.plot(\n",
    "    aggregated_cv_data.index,\n",
    "    aggregated_cv_data[\"mean\"],\n",
    "    marker=\".\",\n",
    "    linestyle=\":\",\n",
    "    label=\"Cross-validation average\",\n",
    "    color=cv_color\n",
    ")\n",
    "\n",
    "plt.plot(\n",
    "    final_training_metrics.index,\n",
    "    final_training_metrics[\"categorical_accuracy\"],\n",
    "    marker=\".\",\n",
    "    linestyle=\":\",\n",
    "    label=\"Final model\",\n",
    "    color=final_color\n",
    ")\n",
    "\n",
    "# TODO rolling average for error\n",
    "plt.fill_between(\n",
    "    aggregated_cv_data.index,\n",
    "    aggregated_cv_data[\"mean\"] - 4*aggregated_cv_data[\"std\"],\n",
    "    aggregated_cv_data[\"mean\"] + 4*aggregated_cv_data[\"std\"],\n",
    "    alpha=CONFIDENCE_INTERVAL_ALPHA,\n",
    "    label=\"± σ\",\n",
    "    color=baseline_color\n",
    ")\n",
    "\n",
    "\"\"\"\n",
    "WINDOWSIZE = 5\n",
    "z = 2.58\n",
    "# Non-rolling confidence interval\n",
    "\n",
    "stderr = cv_training_metrics.groupby([\"epoch\"]).std()[:WINDOWSIZE]\n",
    "plt.fill_between(\n",
    "    cv_average_data.index[:WINDOWSIZE],\n",
    "    cv_average_data[\"val_categorical_accuracy\"][:WINDOWSIZE] - z * stderr[\"val_categorical_accuracy\"],\n",
    "    cv_average_data[\"val_categorical_accuracy\"][:WINDOWSIZE] + z * stderr[\"val_categorical_accuracy\"],\n",
    "    alpha=CONFIDENCE_INTERVAL_ALPHA,\n",
    "    color=CONFIDENCE_INTERVAL_COLOR\n",
    ")\n",
    "# Rolling confidence interval\n",
    "rolling_stderr = cv_training_metrics.groupby([\"epoch\"]).std().rolling(WINDOWSIZE).mean()[WINDOWSIZE:]\n",
    "plt.fill_between(\n",
    "    cv_average_data.index[WINDOWSIZE:],\n",
    "    cv_average_data[\"val_categorical_accuracy\"][WINDOWSIZE:] - z * rolling_stderr[\"val_categorical_accuracy\"],\n",
    "    cv_average_data[\"val_categorical_accuracy\"][WINDOWSIZE:] + z * rolling_stderr[\"val_categorical_accuracy\"],\n",
    "    alpha=CONFIDENCE_INTERVAL_ALPHA,\n",
    "    label=\"99% confidence interval\",\n",
    "    color=CONFIDENCE_INTERVAL_COLOR\n",
    ")\n",
    "\"\"\"\n",
    "\n",
    "# Plot config\n",
    "plt.legend()\n",
    "\n",
    "plt.gca().set_xlabel(\"epoch\")\n",
    "plt.gca().set_ylabel(\"categorical accuracy\")\n",
    "\n",
    "plt.gca().set_ylim([0.6, 1])\n",
    "\n",
    "fig = plt.gcf()\n",
    "fig.set_size_inches(10, 5)\n",
    "fig.savefig(\"output/accuracy_by_epoch.png\", dpi=240)\n"
   ],
   "metadata": {
    "collapsed": false,
    "pycharm": {
     "name": "#%%\n"
    }
   }
  }
 ],
 "metadata": {
  "kernelspec": {
   "display_name": "Python 3",
   "language": "python",
   "name": "python3"
  },
  "language_info": {
   "codemirror_mode": {
    "name": "ipython",
    "version": 2
   },
   "file_extension": ".py",
   "mimetype": "text/x-python",
   "name": "python",
   "nbconvert_exporter": "python",
   "pygments_lexer": "ipython2",
   "version": "2.7.6"
  }
 },
 "nbformat": 4,
 "nbformat_minor": 0
}