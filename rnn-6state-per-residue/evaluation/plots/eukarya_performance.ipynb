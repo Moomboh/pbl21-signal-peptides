{
 "cells": [
  {
   "cell_type": "code",
   "execution_count": 9,
   "outputs": [],
   "source": [
    "from typing import Tuple\n",
    "import matplotlib.pyplot as plt\n",
    "import matplotlib\n",
    "import numpy as np\n",
    "import pandas as pd\n",
    "import pickle\n",
    "from tensorflow import keras\n",
    "import seaborn as sns\n",
    "from sklearn.metrics import ConfusionMatrixDisplay, confusion_matrix, multilabel_confusion_matrix\n",
    "from sklearn.metrics import recall_score, precision_score\n",
    "\n",
    "from evaluation.serialization import Serializer\n",
    "from constants import TYPES, annotation_mapping, reverse_annotation_mapping, amino_acid_mapping\n",
    "from utils.encoding import sequenceToCategorical, categoricalToOneHot, categoricalToSequence, oneHotToCategorical\n",
    "from utils.Dataset import Dataset\n",
    "from utils.helpers import getDatasetPath"
   ],
   "metadata": {
    "collapsed": false,
    "pycharm": {
     "name": "#%%\n"
    }
   }
  },
  {
   "cell_type": "code",
   "execution_count": 19,
   "outputs": [],
   "source": [
    "run_timestamp = \"20211113-1438\"\n",
    "base_path = f\"../../results/{run_timestamp}/\"\n",
    "final_model = keras.models.load_model(base_path + f\"models/final_model.h5\")\n",
    "\n",
    "\n",
    "test_data = Dataset(getDatasetPath()).getFolds([0])\n",
    "\n",
    "\n",
    "test_x = np.array([categoricalToOneHot(sequenceToCategorical(seq, amino_acid_mapping), amino_acid_mapping) for seq in test_data[\"sequence\"]])\n",
    "predictions = final_model.predict(test_x)\n",
    "\n",
    "test_data[\"prediction\"] = np.array([categoricalToSequence(oneHotToCategorical(pred), reverse_annotation_mapping) for pred in predictions])"
   ],
   "metadata": {
    "collapsed": false,
    "pycharm": {
     "name": "#%%\n"
    }
   }
  },
  {
   "cell_type": "code",
   "execution_count": 21,
   "outputs": [],
   "source": [
    "def getRelevantData(query: str) -> Tuple[np.ndarray, np.ndarray]:\n",
    "    relevant_data = test_data.query(query)\n",
    "    y_pred = np.array([sequenceToCategorical(seq, annotation_mapping) for seq in relevant_data[\"prediction\"]])\n",
    "    y_true = np.array([sequenceToCategorical(seq, annotation_mapping) for seq in relevant_data[\"annotation\"]])\n",
    "\n",
    "    return (y_pred, y_true)"
   ],
   "metadata": {
    "collapsed": false,
    "pycharm": {
     "name": "#%%\n"
    }
   }
  },
  {
   "cell_type": "code",
   "execution_count": 29,
   "outputs": [
    {
     "name": "stderr",
     "output_type": "stream",
     "text": [
      "C:\\Users\\juliu\\AppData\\Local\\Programs\\Python\\Python39\\lib\\site-packages\\numpy\\lib\\arraysetops.py:576: FutureWarning: elementwise comparison failed; returning scalar instead, but in the future will perform elementwise comparison\n",
      "  mask &= (ar1 != a)\n"
     ]
    },
    {
     "ename": "TypeError",
     "evalue": "ufunc 'isnan' not supported for the input types, and the inputs could not be safely coerced to any supported types according to the casting rule ''safe''",
     "output_type": "error",
     "traceback": [
      "\u001B[1;31m---------------------------------------------------------------------------\u001B[0m",
      "\u001B[1;31mTypeError\u001B[0m                                 Traceback (most recent call last)",
      "\u001B[1;32m~\\AppData\\Local\\Temp/ipykernel_21324/365814727.py\u001B[0m in \u001B[0;36m<module>\u001B[1;34m\u001B[0m\n\u001B[0;32m      1\u001B[0m \u001B[0my_pred\u001B[0m\u001B[1;33m,\u001B[0m \u001B[0my_true\u001B[0m \u001B[1;33m=\u001B[0m \u001B[0mgetRelevantData\u001B[0m\u001B[1;33m(\u001B[0m\u001B[1;34m\"kingdom == 'EUKARYA'\"\u001B[0m\u001B[1;33m)\u001B[0m\u001B[1;33m\u001B[0m\u001B[1;33m\u001B[0m\u001B[0m\n\u001B[1;32m----> 2\u001B[1;33m \u001B[0mprecision_score\u001B[0m\u001B[1;33m(\u001B[0m\u001B[0my_true\u001B[0m\u001B[1;33m.\u001B[0m\u001B[0mflatten\u001B[0m\u001B[1;33m(\u001B[0m\u001B[1;33m)\u001B[0m\u001B[1;33m,\u001B[0m \u001B[0my_pred\u001B[0m\u001B[1;33m.\u001B[0m\u001B[0mflatten\u001B[0m\u001B[1;33m(\u001B[0m\u001B[1;33m)\u001B[0m\u001B[1;33m,\u001B[0m \u001B[0maverage\u001B[0m\u001B[1;33m=\u001B[0m\u001B[1;32mNone\u001B[0m\u001B[1;33m,\u001B[0m \u001B[0mlabels\u001B[0m\u001B[1;33m=\u001B[0m\u001B[1;33m[\u001B[0m\u001B[1;34m'S'\u001B[0m\u001B[1;33m]\u001B[0m\u001B[1;33m)\u001B[0m\u001B[1;33m\u001B[0m\u001B[1;33m\u001B[0m\u001B[0m\n\u001B[0m",
      "\u001B[1;32m~\\AppData\\Local\\Programs\\Python\\Python39\\lib\\site-packages\\sklearn\\metrics\\_classification.py\u001B[0m in \u001B[0;36mprecision_score\u001B[1;34m(y_true, y_pred, labels, pos_label, average, sample_weight, zero_division)\u001B[0m\n\u001B[0;32m   1736\u001B[0m     \u001B[0marray\u001B[0m\u001B[1;33m(\u001B[0m\u001B[1;33m[\u001B[0m\u001B[1;36m0.5\u001B[0m\u001B[1;33m,\u001B[0m \u001B[1;36m1.\u001B[0m \u001B[1;33m,\u001B[0m \u001B[1;36m1.\u001B[0m \u001B[1;33m]\u001B[0m\u001B[1;33m)\u001B[0m\u001B[1;33m\u001B[0m\u001B[1;33m\u001B[0m\u001B[0m\n\u001B[0;32m   1737\u001B[0m     \"\"\"\n\u001B[1;32m-> 1738\u001B[1;33m     p, _, _, _ = precision_recall_fscore_support(\n\u001B[0m\u001B[0;32m   1739\u001B[0m         \u001B[0my_true\u001B[0m\u001B[1;33m,\u001B[0m\u001B[1;33m\u001B[0m\u001B[1;33m\u001B[0m\u001B[0m\n\u001B[0;32m   1740\u001B[0m         \u001B[0my_pred\u001B[0m\u001B[1;33m,\u001B[0m\u001B[1;33m\u001B[0m\u001B[1;33m\u001B[0m\u001B[0m\n",
      "\u001B[1;32m~\\AppData\\Local\\Programs\\Python\\Python39\\lib\\site-packages\\sklearn\\metrics\\_classification.py\u001B[0m in \u001B[0;36mprecision_recall_fscore_support\u001B[1;34m(y_true, y_pred, beta, labels, pos_label, average, warn_for, sample_weight, zero_division)\u001B[0m\n\u001B[0;32m   1536\u001B[0m     \u001B[1;31m# Calculate tp_sum, pred_sum, true_sum ###\u001B[0m\u001B[1;33m\u001B[0m\u001B[1;33m\u001B[0m\u001B[0m\n\u001B[0;32m   1537\u001B[0m     \u001B[0msamplewise\u001B[0m \u001B[1;33m=\u001B[0m \u001B[0maverage\u001B[0m \u001B[1;33m==\u001B[0m \u001B[1;34m\"samples\"\u001B[0m\u001B[1;33m\u001B[0m\u001B[1;33m\u001B[0m\u001B[0m\n\u001B[1;32m-> 1538\u001B[1;33m     MCM = multilabel_confusion_matrix(\n\u001B[0m\u001B[0;32m   1539\u001B[0m         \u001B[0my_true\u001B[0m\u001B[1;33m,\u001B[0m\u001B[1;33m\u001B[0m\u001B[1;33m\u001B[0m\u001B[0m\n\u001B[0;32m   1540\u001B[0m         \u001B[0my_pred\u001B[0m\u001B[1;33m,\u001B[0m\u001B[1;33m\u001B[0m\u001B[1;33m\u001B[0m\u001B[0m\n",
      "\u001B[1;32m~\\AppData\\Local\\Programs\\Python\\Python39\\lib\\site-packages\\sklearn\\metrics\\_classification.py\u001B[0m in \u001B[0;36mmultilabel_confusion_matrix\u001B[1;34m(y_true, y_pred, sample_weight, labels, samplewise)\u001B[0m\n\u001B[0;32m    499\u001B[0m         \u001B[0mle\u001B[0m \u001B[1;33m=\u001B[0m \u001B[0mLabelEncoder\u001B[0m\u001B[1;33m(\u001B[0m\u001B[1;33m)\u001B[0m\u001B[1;33m\u001B[0m\u001B[1;33m\u001B[0m\u001B[0m\n\u001B[0;32m    500\u001B[0m         \u001B[0mle\u001B[0m\u001B[1;33m.\u001B[0m\u001B[0mfit\u001B[0m\u001B[1;33m(\u001B[0m\u001B[0mlabels\u001B[0m\u001B[1;33m)\u001B[0m\u001B[1;33m\u001B[0m\u001B[1;33m\u001B[0m\u001B[0m\n\u001B[1;32m--> 501\u001B[1;33m         \u001B[0my_true\u001B[0m \u001B[1;33m=\u001B[0m \u001B[0mle\u001B[0m\u001B[1;33m.\u001B[0m\u001B[0mtransform\u001B[0m\u001B[1;33m(\u001B[0m\u001B[0my_true\u001B[0m\u001B[1;33m)\u001B[0m\u001B[1;33m\u001B[0m\u001B[1;33m\u001B[0m\u001B[0m\n\u001B[0m\u001B[0;32m    502\u001B[0m         \u001B[0my_pred\u001B[0m \u001B[1;33m=\u001B[0m \u001B[0mle\u001B[0m\u001B[1;33m.\u001B[0m\u001B[0mtransform\u001B[0m\u001B[1;33m(\u001B[0m\u001B[0my_pred\u001B[0m\u001B[1;33m)\u001B[0m\u001B[1;33m\u001B[0m\u001B[1;33m\u001B[0m\u001B[0m\n\u001B[0;32m    503\u001B[0m         \u001B[0msorted_labels\u001B[0m \u001B[1;33m=\u001B[0m \u001B[0mle\u001B[0m\u001B[1;33m.\u001B[0m\u001B[0mclasses_\u001B[0m\u001B[1;33m\u001B[0m\u001B[1;33m\u001B[0m\u001B[0m\n",
      "\u001B[1;32m~\\AppData\\Local\\Programs\\Python\\Python39\\lib\\site-packages\\sklearn\\preprocessing\\_label.py\u001B[0m in \u001B[0;36mtransform\u001B[1;34m(self, y)\u001B[0m\n\u001B[0;32m    136\u001B[0m             \u001B[1;32mreturn\u001B[0m \u001B[0mnp\u001B[0m\u001B[1;33m.\u001B[0m\u001B[0marray\u001B[0m\u001B[1;33m(\u001B[0m\u001B[1;33m[\u001B[0m\u001B[1;33m]\u001B[0m\u001B[1;33m)\u001B[0m\u001B[1;33m\u001B[0m\u001B[1;33m\u001B[0m\u001B[0m\n\u001B[0;32m    137\u001B[0m \u001B[1;33m\u001B[0m\u001B[0m\n\u001B[1;32m--> 138\u001B[1;33m         \u001B[1;32mreturn\u001B[0m \u001B[0m_encode\u001B[0m\u001B[1;33m(\u001B[0m\u001B[0my\u001B[0m\u001B[1;33m,\u001B[0m \u001B[0muniques\u001B[0m\u001B[1;33m=\u001B[0m\u001B[0mself\u001B[0m\u001B[1;33m.\u001B[0m\u001B[0mclasses_\u001B[0m\u001B[1;33m)\u001B[0m\u001B[1;33m\u001B[0m\u001B[1;33m\u001B[0m\u001B[0m\n\u001B[0m\u001B[0;32m    139\u001B[0m \u001B[1;33m\u001B[0m\u001B[0m\n\u001B[0;32m    140\u001B[0m     \u001B[1;32mdef\u001B[0m \u001B[0minverse_transform\u001B[0m\u001B[1;33m(\u001B[0m\u001B[0mself\u001B[0m\u001B[1;33m,\u001B[0m \u001B[0my\u001B[0m\u001B[1;33m)\u001B[0m\u001B[1;33m:\u001B[0m\u001B[1;33m\u001B[0m\u001B[1;33m\u001B[0m\u001B[0m\n",
      "\u001B[1;32m~\\AppData\\Local\\Programs\\Python\\Python39\\lib\\site-packages\\sklearn\\utils\\_encode.py\u001B[0m in \u001B[0;36m_encode\u001B[1;34m(values, uniques, check_unknown)\u001B[0m\n\u001B[0;32m    185\u001B[0m     \u001B[1;32melse\u001B[0m\u001B[1;33m:\u001B[0m\u001B[1;33m\u001B[0m\u001B[1;33m\u001B[0m\u001B[0m\n\u001B[0;32m    186\u001B[0m         \u001B[1;32mif\u001B[0m \u001B[0mcheck_unknown\u001B[0m\u001B[1;33m:\u001B[0m\u001B[1;33m\u001B[0m\u001B[1;33m\u001B[0m\u001B[0m\n\u001B[1;32m--> 187\u001B[1;33m             \u001B[0mdiff\u001B[0m \u001B[1;33m=\u001B[0m \u001B[0m_check_unknown\u001B[0m\u001B[1;33m(\u001B[0m\u001B[0mvalues\u001B[0m\u001B[1;33m,\u001B[0m \u001B[0muniques\u001B[0m\u001B[1;33m)\u001B[0m\u001B[1;33m\u001B[0m\u001B[1;33m\u001B[0m\u001B[0m\n\u001B[0m\u001B[0;32m    188\u001B[0m             \u001B[1;32mif\u001B[0m \u001B[0mdiff\u001B[0m\u001B[1;33m:\u001B[0m\u001B[1;33m\u001B[0m\u001B[1;33m\u001B[0m\u001B[0m\n\u001B[0;32m    189\u001B[0m                 \u001B[1;32mraise\u001B[0m \u001B[0mValueError\u001B[0m\u001B[1;33m(\u001B[0m\u001B[1;34mf\"y contains previously unseen labels: {str(diff)}\"\u001B[0m\u001B[1;33m)\u001B[0m\u001B[1;33m\u001B[0m\u001B[1;33m\u001B[0m\u001B[0m\n",
      "\u001B[1;32m~\\AppData\\Local\\Programs\\Python\\Python39\\lib\\site-packages\\sklearn\\utils\\_encode.py\u001B[0m in \u001B[0;36m_check_unknown\u001B[1;34m(values, known_values, return_mask)\u001B[0m\n\u001B[0;32m    259\u001B[0m \u001B[1;33m\u001B[0m\u001B[0m\n\u001B[0;32m    260\u001B[0m         \u001B[1;31m# check for nans in the known_values\u001B[0m\u001B[1;33m\u001B[0m\u001B[1;33m\u001B[0m\u001B[0m\n\u001B[1;32m--> 261\u001B[1;33m         \u001B[1;32mif\u001B[0m \u001B[0mnp\u001B[0m\u001B[1;33m.\u001B[0m\u001B[0misnan\u001B[0m\u001B[1;33m(\u001B[0m\u001B[0mknown_values\u001B[0m\u001B[1;33m)\u001B[0m\u001B[1;33m.\u001B[0m\u001B[0many\u001B[0m\u001B[1;33m(\u001B[0m\u001B[1;33m)\u001B[0m\u001B[1;33m:\u001B[0m\u001B[1;33m\u001B[0m\u001B[1;33m\u001B[0m\u001B[0m\n\u001B[0m\u001B[0;32m    262\u001B[0m             \u001B[0mdiff_is_nan\u001B[0m \u001B[1;33m=\u001B[0m \u001B[0mnp\u001B[0m\u001B[1;33m.\u001B[0m\u001B[0misnan\u001B[0m\u001B[1;33m(\u001B[0m\u001B[0mdiff\u001B[0m\u001B[1;33m)\u001B[0m\u001B[1;33m\u001B[0m\u001B[1;33m\u001B[0m\u001B[0m\n\u001B[0;32m    263\u001B[0m             \u001B[1;32mif\u001B[0m \u001B[0mdiff_is_nan\u001B[0m\u001B[1;33m.\u001B[0m\u001B[0many\u001B[0m\u001B[1;33m(\u001B[0m\u001B[1;33m)\u001B[0m\u001B[1;33m:\u001B[0m\u001B[1;33m\u001B[0m\u001B[1;33m\u001B[0m\u001B[0m\n",
      "\u001B[1;31mTypeError\u001B[0m: ufunc 'isnan' not supported for the input types, and the inputs could not be safely coerced to any supported types according to the casting rule ''safe''"
     ]
    }
   ],
   "source": [
    "y_pred, y_true = getRelevantData(\"kingdom == 'EUKARYA'\")\n",
    "precision_score(y_true.flatten(), y_pred.flatten(), average=None, labels=['S'])"
   ],
   "metadata": {
    "collapsed": false,
    "pycharm": {
     "name": "#%%\n"
    }
   }
  },
  {
   "cell_type": "code",
   "execution_count": 41,
   "outputs": [
    {
     "name": "stderr",
     "output_type": "stream",
     "text": [
      "C:\\Users\\juliu\\AppData\\Local\\Programs\\Python\\Python39\\lib\\site-packages\\sklearn\\metrics\\_classification.py:1308: UndefinedMetricWarning: Recall is ill-defined and being set to 0.0 due to no true samples. Use `zero_division` parameter to control this behavior.\n",
      "  _warn_prf(average, modifier, msg_start, len(result))\n",
      "C:\\Users\\juliu\\AppData\\Local\\Programs\\Python\\Python39\\lib\\site-packages\\sklearn\\metrics\\_classification.py:1308: UndefinedMetricWarning: Recall is ill-defined and being set to 0.0 due to no true samples. Use `zero_division` parameter to control this behavior.\n",
      "  _warn_prf(average, modifier, msg_start, len(result))\n"
     ]
    },
    {
     "data": {
      "text/plain": "  class  precision    recall\n0     S   0.914744  0.882109\n1     T   0.000000  0.000000\n2     L   0.000000  0.000000\n3     I   0.986039  0.986447\n4     M   0.791710  0.793354\n5     O   0.915153  0.909094",
      "text/html": "<div>\n<style scoped>\n    .dataframe tbody tr th:only-of-type {\n        vertical-align: middle;\n    }\n\n    .dataframe tbody tr th {\n        vertical-align: top;\n    }\n\n    .dataframe thead th {\n        text-align: right;\n    }\n</style>\n<table border=\"1\" class=\"dataframe\">\n  <thead>\n    <tr style=\"text-align: right;\">\n      <th></th>\n      <th>class</th>\n      <th>precision</th>\n      <th>recall</th>\n    </tr>\n  </thead>\n  <tbody>\n    <tr>\n      <th>0</th>\n      <td>S</td>\n      <td>0.914744</td>\n      <td>0.882109</td>\n    </tr>\n    <tr>\n      <th>1</th>\n      <td>T</td>\n      <td>0.000000</td>\n      <td>0.000000</td>\n    </tr>\n    <tr>\n      <th>2</th>\n      <td>L</td>\n      <td>0.000000</td>\n      <td>0.000000</td>\n    </tr>\n    <tr>\n      <th>3</th>\n      <td>I</td>\n      <td>0.986039</td>\n      <td>0.986447</td>\n    </tr>\n    <tr>\n      <th>4</th>\n      <td>M</td>\n      <td>0.791710</td>\n      <td>0.793354</td>\n    </tr>\n    <tr>\n      <th>5</th>\n      <td>O</td>\n      <td>0.915153</td>\n      <td>0.909094</td>\n    </tr>\n  </tbody>\n</table>\n</div>"
     },
     "execution_count": 41,
     "metadata": {},
     "output_type": "execute_result"
    }
   ],
   "source": [
    "y_pred, y_true = getRelevantData(\"kingdom == 'EUKARYA'\")\n",
    "labels = \"STLIMO\"\n",
    "by_label_performance = {\n",
    "    label: {\n",
    "        \"precision\": precision_score(y_true.flatten(), y_pred.flatten(), labels=[labels.index(label)], average=None)[0],\n",
    "        \"recall\": recall_score(y_true.flatten(), y_pred.flatten(), labels=[labels.index(label)], average=None)[0]\n",
    "    } for label in labels\n",
    "}\n",
    "\n",
    "by_label_performance\n",
    "performance = pd.DataFrame(\n",
    "    (label, by_label_performance[label][\"precision\"], by_label_performance[label][\"recall\"])\n",
    "    for label in labels\n",
    ")\n",
    "performance.columns = [\"class\", \"precision\", \"recall\"]\n",
    "performance"
   ],
   "metadata": {
    "collapsed": false,
    "pycharm": {
     "name": "#%%\n"
    }
   }
  },
  {
   "cell_type": "code",
   "execution_count": 3,
   "outputs": [],
   "source": [
    "cv_training_metrics = Serializer.load(\"cv_training_metrics\")\n",
    "cv_final_metrics = Serializer.load(\"cv_metrics\")\n",
    "final_training_metrics = Serializer.load(\"final_training_metrics\")\n",
    "final_metrics = Serializer.load(\"final_metrics\")"
   ],
   "metadata": {
    "collapsed": false,
    "pycharm": {
     "name": "#%%\n"
    }
   }
  },
  {
   "cell_type": "code",
   "execution_count": 9,
   "outputs": [],
   "source": [
    "cv_average_data = cv_final_metrics \\\n",
    "    .query(\"type == 'overall' and kingdom == 'overall' and metric != 'accuracy'\") \\\n",
    "    .groupby([\"metric\", \"type\", \"kingdom\"]) \\\n",
    "    .agg([\"mean\", \"std\"]) \\\n",
    "    .sort_values(by=\"metric\") \\\n",
    "    [\"value\"]"
   ],
   "metadata": {
    "collapsed": false,
    "pycharm": {
     "name": "#%%\n"
    }
   }
  },
  {
   "cell_type": "code",
   "execution_count": 43,
   "outputs": [
    {
     "data": {
      "text/plain": "       metric     type  kingdom     value\n0         mcc      TAT  EUKARYA  0.000000\n5         mcc       SP  EUKARYA  0.867161\n10        mcc     LIPO  EUKARYA  0.000000\n15        mcc    NO_SP  EUKARYA  0.698590\n20        mcc  overall  EUKARYA  0.901245\n25     recall      TAT  EUKARYA       NaN\n30     recall       SP  EUKARYA  0.451760\n35     recall     LIPO  EUKARYA       NaN\n40     recall    NO_SP  EUKARYA  0.392304\n45     recall  overall  EUKARYA  0.595167\n50  precision      TAT  EUKARYA       NaN\n55  precision       SP  EUKARYA  0.337829\n60  precision     LIPO  EUKARYA       NaN\n65  precision    NO_SP  EUKARYA  0.398569\n70  precision  overall  EUKARYA  0.601274\n75   accuracy      TAT  EUKARYA       NaN\n80   accuracy       SP  EUKARYA  0.939193\n85   accuracy     LIPO  EUKARYA       NaN\n90   accuracy    NO_SP  EUKARYA  0.973680\n95   accuracy  overall  EUKARYA  0.968611",
      "text/html": "<div>\n<style scoped>\n    .dataframe tbody tr th:only-of-type {\n        vertical-align: middle;\n    }\n\n    .dataframe tbody tr th {\n        vertical-align: top;\n    }\n\n    .dataframe thead th {\n        text-align: right;\n    }\n</style>\n<table border=\"1\" class=\"dataframe\">\n  <thead>\n    <tr style=\"text-align: right;\">\n      <th></th>\n      <th>metric</th>\n      <th>type</th>\n      <th>kingdom</th>\n      <th>value</th>\n    </tr>\n  </thead>\n  <tbody>\n    <tr>\n      <th>0</th>\n      <td>mcc</td>\n      <td>TAT</td>\n      <td>EUKARYA</td>\n      <td>0.000000</td>\n    </tr>\n    <tr>\n      <th>5</th>\n      <td>mcc</td>\n      <td>SP</td>\n      <td>EUKARYA</td>\n      <td>0.867161</td>\n    </tr>\n    <tr>\n      <th>10</th>\n      <td>mcc</td>\n      <td>LIPO</td>\n      <td>EUKARYA</td>\n      <td>0.000000</td>\n    </tr>\n    <tr>\n      <th>15</th>\n      <td>mcc</td>\n      <td>NO_SP</td>\n      <td>EUKARYA</td>\n      <td>0.698590</td>\n    </tr>\n    <tr>\n      <th>20</th>\n      <td>mcc</td>\n      <td>overall</td>\n      <td>EUKARYA</td>\n      <td>0.901245</td>\n    </tr>\n    <tr>\n      <th>25</th>\n      <td>recall</td>\n      <td>TAT</td>\n      <td>EUKARYA</td>\n      <td>NaN</td>\n    </tr>\n    <tr>\n      <th>30</th>\n      <td>recall</td>\n      <td>SP</td>\n      <td>EUKARYA</td>\n      <td>0.451760</td>\n    </tr>\n    <tr>\n      <th>35</th>\n      <td>recall</td>\n      <td>LIPO</td>\n      <td>EUKARYA</td>\n      <td>NaN</td>\n    </tr>\n    <tr>\n      <th>40</th>\n      <td>recall</td>\n      <td>NO_SP</td>\n      <td>EUKARYA</td>\n      <td>0.392304</td>\n    </tr>\n    <tr>\n      <th>45</th>\n      <td>recall</td>\n      <td>overall</td>\n      <td>EUKARYA</td>\n      <td>0.595167</td>\n    </tr>\n    <tr>\n      <th>50</th>\n      <td>precision</td>\n      <td>TAT</td>\n      <td>EUKARYA</td>\n      <td>NaN</td>\n    </tr>\n    <tr>\n      <th>55</th>\n      <td>precision</td>\n      <td>SP</td>\n      <td>EUKARYA</td>\n      <td>0.337829</td>\n    </tr>\n    <tr>\n      <th>60</th>\n      <td>precision</td>\n      <td>LIPO</td>\n      <td>EUKARYA</td>\n      <td>NaN</td>\n    </tr>\n    <tr>\n      <th>65</th>\n      <td>precision</td>\n      <td>NO_SP</td>\n      <td>EUKARYA</td>\n      <td>0.398569</td>\n    </tr>\n    <tr>\n      <th>70</th>\n      <td>precision</td>\n      <td>overall</td>\n      <td>EUKARYA</td>\n      <td>0.601274</td>\n    </tr>\n    <tr>\n      <th>75</th>\n      <td>accuracy</td>\n      <td>TAT</td>\n      <td>EUKARYA</td>\n      <td>NaN</td>\n    </tr>\n    <tr>\n      <th>80</th>\n      <td>accuracy</td>\n      <td>SP</td>\n      <td>EUKARYA</td>\n      <td>0.939193</td>\n    </tr>\n    <tr>\n      <th>85</th>\n      <td>accuracy</td>\n      <td>LIPO</td>\n      <td>EUKARYA</td>\n      <td>NaN</td>\n    </tr>\n    <tr>\n      <th>90</th>\n      <td>accuracy</td>\n      <td>NO_SP</td>\n      <td>EUKARYA</td>\n      <td>0.973680</td>\n    </tr>\n    <tr>\n      <th>95</th>\n      <td>accuracy</td>\n      <td>overall</td>\n      <td>EUKARYA</td>\n      <td>0.968611</td>\n    </tr>\n  </tbody>\n</table>\n</div>"
     },
     "execution_count": 43,
     "metadata": {},
     "output_type": "execute_result"
    }
   ],
   "source": [
    "final_metrics.query(\"kingdom == 'EUKARYA'\")"
   ],
   "metadata": {
    "collapsed": false,
    "pycharm": {
     "name": "#%%\n"
    }
   }
  },
  {
   "cell_type": "code",
   "execution_count": 11,
   "outputs": [],
   "source": [
    "import matplotlib\n",
    "matplotlib.rcParams.update({\"errorbar.capsize\": 8})\n",
    "\n",
    "from colors import final_color, baseline_color, cv_color"
   ],
   "metadata": {
    "collapsed": false,
    "pycharm": {
     "name": "#%%\n"
    }
   }
  },
  {
   "cell_type": "code",
   "execution_count": 12,
   "outputs": [
    {
     "data": {
      "text/plain": "<Figure size 720x360 with 1 Axes>",
      "image/png": "[encoded data removed]"
     },
     "metadata": {},
     "output_type": "display_data"
    }
   ],
   "source": [
    "fig, ax = plt.subplots()\n",
    "labels = [\"MCC\", \"Precision\", \"Recall\"]\n",
    "width = 0.25\n",
    "r1 = np.arange(len(labels))\n",
    "r2 = r1 + width\n",
    "r3 = r2 + width\n",
    "\n",
    "final_model_values = ax.bar(\n",
    "    r1,\n",
    "    final_metrics.query(\"type == 'overall' and kingdom == 'overall' and metric != 'accuracy'\").sort_values(by=\"metric\")[\"value\"],\n",
    "    width,\n",
    "    color=final_color,\n",
    "    label=\"Final model\"\n",
    ")\n",
    "\n",
    "cv_values = ax.bar(\n",
    "    r2,\n",
    "    cv_average_data[\"mean\"],\n",
    "    width,\n",
    "    yerr = cv_average_data[\"std\"],\n",
    "    color=cv_color,\n",
    "    label=\"CV average\"\n",
    ")\n",
    "\n",
    "baseline_values = ax.bar(\n",
    "    r3,\n",
    "    random_baseline_values,\n",
    "    width,\n",
    "    color=baseline_color,\n",
    "    label=\"Random baseline\"\n",
    ")\n",
    "\n",
    "ax.set_ylabel(\"Score\")\n",
    "ax.set_xticks(r2)\n",
    "ax.set_xticklabels(labels)\n",
    "ax.legend(loc=\"center right\")\n",
    "\n",
    "ax.set_ylim([0.0, 1])\n",
    "\n",
    "ax.bar_label(final_model_values, padding=3, fmt=\"%.3f\")\n",
    "ax.bar_label(cv_values, padding=3, fmt=\"%.3f\")\n",
    "ax.bar_label(baseline_values, padding=3, fmt=\"%.3f\")\n",
    "\n",
    "fig.tight_layout()\n",
    "\n",
    "fig.set_size_inches(10, 5)\n",
    "fig.savefig(\"output/overall_performance.png\", dpi=240)"
   ],
   "metadata": {
    "collapsed": false,
    "pycharm": {
     "name": "#%%\n"
    }
   }
  },
  {
   "cell_type": "code",
   "execution_count": null,
   "outputs": [],
   "source": [],
   "metadata": {
    "collapsed": false,
    "pycharm": {
     "name": "#%%\n"
    }
   }
  }
 ],
 "metadata": {
  "kernelspec": {
   "display_name": "Python 3",
   "language": "python",
   "name": "python3"
  },
  "language_info": {
   "codemirror_mode": {
    "name": "ipython",
    "version": 2
   },
   "file_extension": ".py",
   "mimetype": "text/x-python",
   "name": "python",
   "nbconvert_exporter": "python",
   "pygments_lexer": "ipython2",
   "version": "2.7.6"
  }
 },
 "nbformat": 4,
 "nbformat_minor": 0
}