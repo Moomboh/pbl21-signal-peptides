{
 "cells": [
  {
   "cell_type": "code",
   "execution_count": null,
   "metadata": {
    "collapsed": true
   },
   "outputs": [],
   "source": [
    "import matplotlib.pyplot as plt\n",
    "import seaborn as sns\n",
    "sns.set_theme()\n",
    "\n",
    "from evaluation.serialization import Serializer"
   ]
  },
  {
   "cell_type": "code",
   "execution_count": null,
   "outputs": [],
   "source": [
    "cv_training_metrics = Serializer.load(\"cv_training_metrics\")\n",
    "\n",
    "for k in [1]:\n",
    "    data = cv_training_metrics.query(f\"holdout_fold == {k}\")\n",
    "    plt.plot(data[\"epoch\"], data[\"val_loss\"], marker=\"o\", label=f\"Validation fold {k}\")\n",
    "    plt.legend()\n",
    "\n",
    "    plt.gca().set_xlabel(\"epoch\")\n",
    "    plt.gca().set_ylabel(\"loss\")"
   ],
   "metadata": {
    "collapsed": false,
    "pycharm": {
     "name": "#%%\n"
    }
   }
  }
 ],
 "metadata": {
  "kernelspec": {
   "display_name": "Python 3",
   "language": "python",
   "name": "python3"
  },
  "language_info": {
   "codemirror_mode": {
    "name": "ipython",
    "version": 2
   },
   "file_extension": ".py",
   "mimetype": "text/x-python",
   "name": "python",
   "nbconvert_exporter": "python",
   "pygments_lexer": "ipython2",
   "version": "2.7.6"
  }
 },
 "nbformat": 4,
 "nbformat_minor": 0
}