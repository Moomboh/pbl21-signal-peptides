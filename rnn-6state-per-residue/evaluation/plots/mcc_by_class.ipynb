{
 "cells": [
  {
   "cell_type": "code",
   "execution_count": 4,
   "outputs": [],
   "source": [
    "from typing import Tuple\n",
    "import matplotlib.pyplot as plt\n",
    "import matplotlib\n",
    "import numpy as np\n",
    "import pandas as pd\n",
    "import seaborn as sns\n",
    "\n",
    "from colors import final_color, cv_color\n",
    "from evaluation.serialization import Serializer"
   ],
   "metadata": {
    "collapsed": false,
    "pycharm": {
     "name": "#%%\n"
    }
   }
  },
  {
   "cell_type": "code",
   "execution_count": 23,
   "outputs": [],
   "source": [
    "cv_final_metrics = Serializer.load(\"cv_metrics\")\n",
    "final_metrics = Serializer.load(\"final_metrics\")\n",
    "\n",
    "# Preserve label order\n",
    "final_metrics[\"label\"] = pd.Categorical(final_metrics[\"label\"], [\"overall\", 'S', 'L', 'T', 'I', 'M', 'O'])\n",
    "cv_final_metrics[\"label\"] = pd.Categorical(cv_final_metrics[\"label\"], [\"overall\", 'S', 'L', 'T', 'I', 'M', 'O'])"
   ],
   "metadata": {
    "collapsed": false,
    "pycharm": {
     "name": "#%%\n"
    }
   }
  },
  {
   "cell_type": "code",
   "execution_count": 25,
   "outputs": [],
   "source": [
    "final_data = final_metrics\\\n",
    "    .query(\"kingdom == 'overall'\")\\\n",
    "    .groupby([\"metric\", \"label\"])\\\n",
    "    .agg([\"mean\", \"std\"])\\\n",
    "    [\"value\"]\n",
    "\n",
    "final_data[\"ci\"] = 1.96 * final_data[\"std\"]"
   ],
   "metadata": {
    "collapsed": false,
    "pycharm": {
     "name": "#%%\n"
    }
   }
  },
  {
   "cell_type": "code",
   "execution_count": 26,
   "outputs": [],
   "source": [
    "cv_average_data = cv_final_metrics\\\n",
    "    .query(\"kingdom == 'overall'\")\\\n",
    "    .groupby([\"metric\", \"label\"])\\\n",
    "    .agg([\"mean\", \"std\"])\\\n",
    "    [\"value\"]\n",
    "\n",
    "cv_average_data[\"ci\"] = 1.96 * cv_average_data[\"std\"]"
   ],
   "metadata": {
    "collapsed": false,
    "pycharm": {
     "name": "#%%\n"
    }
   }
  },
  {
   "cell_type": "code",
   "execution_count": 10,
   "outputs": [
    {
     "data": {
      "text/plain": "                  mean       std        ci\nmetric label                              \nmcc    S      0.864219  0.008637  0.016928\n       T      0.881202  0.018597  0.036451\n       L      0.900503  0.010243  0.020077\n       I      0.942713  0.004301  0.008430\n       M      0.772850  0.012801  0.025090\n       O      0.915124  0.004955  0.009712",
      "text/html": "<div>\n<style scoped>\n    .dataframe tbody tr th:only-of-type {\n        vertical-align: middle;\n    }\n\n    .dataframe tbody tr th {\n        vertical-align: top;\n    }\n\n    .dataframe thead th {\n        text-align: right;\n    }\n</style>\n<table border=\"1\" class=\"dataframe\">\n  <thead>\n    <tr style=\"text-align: right;\">\n      <th></th>\n      <th></th>\n      <th>mean</th>\n      <th>std</th>\n      <th>ci</th>\n    </tr>\n    <tr>\n      <th>metric</th>\n      <th>label</th>\n      <th></th>\n      <th></th>\n      <th></th>\n    </tr>\n  </thead>\n  <tbody>\n    <tr>\n      <th rowspan=\"6\" valign=\"top\">mcc</th>\n      <th>S</th>\n      <td>0.864219</td>\n      <td>0.008637</td>\n      <td>0.016928</td>\n    </tr>\n    <tr>\n      <th>T</th>\n      <td>0.881202</td>\n      <td>0.018597</td>\n      <td>0.036451</td>\n    </tr>\n    <tr>\n      <th>L</th>\n      <td>0.900503</td>\n      <td>0.010243</td>\n      <td>0.020077</td>\n    </tr>\n    <tr>\n      <th>I</th>\n      <td>0.942713</td>\n      <td>0.004301</td>\n      <td>0.008430</td>\n    </tr>\n    <tr>\n      <th>M</th>\n      <td>0.772850</td>\n      <td>0.012801</td>\n      <td>0.025090</td>\n    </tr>\n    <tr>\n      <th>O</th>\n      <td>0.915124</td>\n      <td>0.004955</td>\n      <td>0.009712</td>\n    </tr>\n  </tbody>\n</table>\n</div>"
     },
     "execution_count": 10,
     "metadata": {},
     "output_type": "execute_result"
    }
   ],
   "source": [
    "final_data.query(\"metric == 'mcc'\")"
   ],
   "metadata": {
    "collapsed": false,
    "pycharm": {
     "name": "#%%\n"
    }
   }
  },
  {
   "cell_type": "markdown",
   "source": [
    "## Plot"
   ],
   "metadata": {
    "collapsed": false,
    "pycharm": {
     "name": "#%% md\n"
    }
   }
  },
  {
   "cell_type": "code",
   "execution_count": 29,
   "outputs": [
    {
     "data": {
      "text/plain": "<Figure size 648x360 with 1 Axes>",
      "image/png": "[encoded data removed]"
     },
     "metadata": {},
     "output_type": "display_data"
    }
   ],
   "source": [
    "sns.set_theme()\n",
    "matplotlib.rcParams.update({\"errorbar.capsize\": 5})\n",
    "bar_width = 0.35\n",
    "r1 = np.arange(7)\n",
    "r2 = r1 + bar_width\n",
    "fig = plt.figure()\n",
    "final_values = plt.bar(\n",
    "    r1,\n",
    "    final_data.query(\"metric == 'mcc'\")[\"mean\"],\n",
    "    yerr=final_data.query(\"metric == 'mcc'\")[\"ci\"],\n",
    "    color=final_color,\n",
    "    width=bar_width,\n",
    "    label=\"Final model\"\n",
    ")\n",
    "\n",
    "cv_values = plt.bar(\n",
    "    r2,\n",
    "    cv_average_data.query(\"metric == 'mcc'\")[\"mean\"],\n",
    "    yerr=cv_average_data.query(\"metric == 'mcc'\")[\"ci\"],\n",
    "    width=bar_width,\n",
    "    label=\"CV average\",\n",
    "    color=cv_color\n",
    ")\n",
    "\n",
    "plt.gca().set_xlabel(\"Class\", fontsize=13)\n",
    "plt.gca().set_ylabel(\"MCC\", fontsize=13)\n",
    "plt.gca().set_xticks(r1 + 1/2 * bar_width)\n",
    "plt.gca().set_xticklabels([\"overall\", \"Sec/SPI\\n(S)\", \"Sec/SPII\\n(L)\", \"Tat/SPI\\n(T)\", \"Cytoplasm\\n(I)\", \"Transmembrane\\n(M)\", \"Extracellular\\n(O)\"], fontsize=12)\n",
    "plt.gca().bar_label(final_values, padding=2, fmt=\"%.3f\")\n",
    "plt.gca().bar_label(cv_values, padding=2, fmt=\"%.3f\")\n",
    "plt.gca().set_ylim([0.7, 1])\n",
    "\n",
    "plt.legend(loc=\"upper right\", fontsize=12)\n",
    "\n",
    "fig.set_size_inches(9, 5)\n",
    "fig.tight_layout()\n",
    "fig.savefig(\"output/mcc_by_class\", dpi=300)"
   ],
   "metadata": {
    "collapsed": false,
    "pycharm": {
     "name": "#%%\n"
    }
   }
  },
  {
   "cell_type": "markdown",
   "source": [],
   "metadata": {
    "collapsed": false
   }
  }
 ],
 "metadata": {
  "kernelspec": {
   "display_name": "Python 3",
   "language": "python",
   "name": "python3"
  },
  "language_info": {
   "codemirror_mode": {
    "name": "ipython",
    "version": 2
   },
   "file_extension": ".py",
   "mimetype": "text/x-python",
   "name": "python",
   "nbconvert_exporter": "python",
   "pygments_lexer": "ipython2",
   "version": "2.7.6"
  }
 },
 "nbformat": 4,
 "nbformat_minor": 0
}