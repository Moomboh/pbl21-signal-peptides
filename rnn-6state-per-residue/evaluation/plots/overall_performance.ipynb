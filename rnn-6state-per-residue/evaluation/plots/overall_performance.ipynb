{
 "cells": [
  {
   "cell_type": "code",
   "execution_count": 12,
   "outputs": [],
   "source": [
    "import matplotlib.pyplot as plt\n",
    "import matplotlib\n",
    "import numpy as np\n",
    "import pandas as pd\n",
    "import seaborn as sns\n",
    "\n",
    "sns.set_theme()\n",
    "\n",
    "from evaluation.serialization import Serializer"
   ],
   "metadata": {
    "collapsed": false,
    "pycharm": {
     "name": "#%%\n"
    }
   }
  },
  {
   "cell_type": "code",
   "execution_count": 14,
   "outputs": [],
   "source": [
    "cv_training_metrics = Serializer.load(\"cv_training_metrics\")\n",
    "cv_final_metrics = Serializer.load(\"cv_metrics\")\n",
    "final_training_metrics = Serializer.load(\"final_training_metrics\")\n",
    "final_metrics = Serializer.load(\"final_metrics\")"
   ],
   "metadata": {
    "collapsed": false,
    "pycharm": {
     "name": "#%%\n"
    }
   }
  },
  {
   "cell_type": "code",
   "execution_count": 16,
   "outputs": [
    {
     "name": "stderr",
     "output_type": "stream",
     "text": [
      "C:\\Users\\juliu\\AppData\\Local\\Temp/ipykernel_32212/3361111628.py:2: FutureWarning: In a future version of pandas all arguments of DataFrame.drop except for the argument 'labels' will be keyword-only\n",
      "  baseline = baseline[baseline[\"target\"] == 'residue_6state'].drop(\"target\", 1)\n"
     ]
    },
    {
     "data": {
      "text/plain": "     kingdom   type  accuracy             precision                recall\n50   ARCHAEA      I  0.530296    0.3769230770659341    0.3769230770659341\n51   ARCHAEA      L  0.931349   0.03559219430916662   0.03559219430916662\n52   ARCHAEA      M  0.844886   0.08473748270290256   0.08473748270290256\n53   ARCHAEA      O  0.546813   0.34700854789032043   0.34700854789032043\n54   ARCHAEA      S  0.821173    0.0992674019943365    0.0992674019943365\n55   ARCHAEA      T  0.893435  0.056471298892928026  0.056471298892928026\n56   ARCHAEA  _all_  0.761325   0.16666666714259804   0.16666666714259804\n57   EUKARYA      I  0.697438    0.8141956204578944    0.8141956204578944\n58   EUKARYA      L  1.000000                  None                  None\n59   EUKARYA      M  0.959043  0.020915947701931264  0.020915947701931264\n60   EUKARYA      O  0.792147   0.11780438044833308   0.11780438044833308\n61   EUKARYA      S  0.910266   0.04708403776514873   0.04708403776514873\n62   EUKARYA      T  1.000000                  None                  None\n63   EUKARYA  _all_  0.893149                  None                  None\n64  NEGATIVE      I  0.789625   0.11945791418152361   0.11945791418152361\n65  NEGATIVE      L  0.774525   0.12951013647712029   0.12951013647712029\n66  NEGATIVE      M  0.906703   0.04905508357248798   0.04905508357248798\n67  NEGATIVE      O  0.504842    0.5492042772274331    0.5492042772274331\n68  NEGATIVE      S  0.856043   0.07807409783687423   0.07807409783687423\n69  NEGATIVE      T  0.861763   0.07469849292144373   0.07469849292144373\n70  NEGATIVE  _all_  0.782250    0.1666666670361472    0.1666666670361472\n71  POSITIVE      I  0.712583   0.17397624226199665   0.17397624226199665\n72  POSITIVE      L  0.743471    0.1510940944004614    0.1510940944004614\n73  POSITIVE      M  0.926606   0.03815255012587888   0.03815255012587888\n74  POSITIVE      O  0.500147    0.4914348235118153    0.4914348235118153\n75  POSITIVE      S  0.835693   0.09030947495739981   0.09030947495739981\n76  POSITIVE      T  0.895992   0.05503283013484516   0.05503283013484516\n77  POSITIVE  _all_  0.769082    0.1666666692320662    0.1666666692320662\n78     _all_      I  0.582553    0.7031660370048105    0.7031660370048105\n79     _all_      L  0.957760  0.021585883022442416  0.021585883022442416\n80     _all_      M  0.950203  0.025551220125406116  0.025551220125406116\n81     _all_      O  0.698192   0.18520455055983423   0.18520455055983423\n82     _all_      S  0.899510  0.053060138390531364  0.053060138390531364\n83     _all_      T  0.977397  0.011432199781966402  0.011432199781966402\n84     _all_  _all_  0.844269   0.16666667148083184   0.16666667148083184",
      "text/html": "<div>\n<style scoped>\n    .dataframe tbody tr th:only-of-type {\n        vertical-align: middle;\n    }\n\n    .dataframe tbody tr th {\n        vertical-align: top;\n    }\n\n    .dataframe thead th {\n        text-align: right;\n    }\n</style>\n<table border=\"1\" class=\"dataframe\">\n  <thead>\n    <tr style=\"text-align: right;\">\n      <th></th>\n      <th>kingdom</th>\n      <th>type</th>\n      <th>accuracy</th>\n      <th>precision</th>\n      <th>recall</th>\n    </tr>\n  </thead>\n  <tbody>\n    <tr>\n      <th>50</th>\n      <td>ARCHAEA</td>\n      <td>I</td>\n      <td>0.530296</td>\n      <td>0.3769230770659341</td>\n      <td>0.3769230770659341</td>\n    </tr>\n    <tr>\n      <th>51</th>\n      <td>ARCHAEA</td>\n      <td>L</td>\n      <td>0.931349</td>\n      <td>0.03559219430916662</td>\n      <td>0.03559219430916662</td>\n    </tr>\n    <tr>\n      <th>52</th>\n      <td>ARCHAEA</td>\n      <td>M</td>\n      <td>0.844886</td>\n      <td>0.08473748270290256</td>\n      <td>0.08473748270290256</td>\n    </tr>\n    <tr>\n      <th>53</th>\n      <td>ARCHAEA</td>\n      <td>O</td>\n      <td>0.546813</td>\n      <td>0.34700854789032043</td>\n      <td>0.34700854789032043</td>\n    </tr>\n    <tr>\n      <th>54</th>\n      <td>ARCHAEA</td>\n      <td>S</td>\n      <td>0.821173</td>\n      <td>0.0992674019943365</td>\n      <td>0.0992674019943365</td>\n    </tr>\n    <tr>\n      <th>55</th>\n      <td>ARCHAEA</td>\n      <td>T</td>\n      <td>0.893435</td>\n      <td>0.056471298892928026</td>\n      <td>0.056471298892928026</td>\n    </tr>\n    <tr>\n      <th>56</th>\n      <td>ARCHAEA</td>\n      <td>_all_</td>\n      <td>0.761325</td>\n      <td>0.16666666714259804</td>\n      <td>0.16666666714259804</td>\n    </tr>\n    <tr>\n      <th>57</th>\n      <td>EUKARYA</td>\n      <td>I</td>\n      <td>0.697438</td>\n      <td>0.8141956204578944</td>\n      <td>0.8141956204578944</td>\n    </tr>\n    <tr>\n      <th>58</th>\n      <td>EUKARYA</td>\n      <td>L</td>\n      <td>1.000000</td>\n      <td>None</td>\n      <td>None</td>\n    </tr>\n    <tr>\n      <th>59</th>\n      <td>EUKARYA</td>\n      <td>M</td>\n      <td>0.959043</td>\n      <td>0.020915947701931264</td>\n      <td>0.020915947701931264</td>\n    </tr>\n    <tr>\n      <th>60</th>\n      <td>EUKARYA</td>\n      <td>O</td>\n      <td>0.792147</td>\n      <td>0.11780438044833308</td>\n      <td>0.11780438044833308</td>\n    </tr>\n    <tr>\n      <th>61</th>\n      <td>EUKARYA</td>\n      <td>S</td>\n      <td>0.910266</td>\n      <td>0.04708403776514873</td>\n      <td>0.04708403776514873</td>\n    </tr>\n    <tr>\n      <th>62</th>\n      <td>EUKARYA</td>\n      <td>T</td>\n      <td>1.000000</td>\n      <td>None</td>\n      <td>None</td>\n    </tr>\n    <tr>\n      <th>63</th>\n      <td>EUKARYA</td>\n      <td>_all_</td>\n      <td>0.893149</td>\n      <td>None</td>\n      <td>None</td>\n    </tr>\n    <tr>\n      <th>64</th>\n      <td>NEGATIVE</td>\n      <td>I</td>\n      <td>0.789625</td>\n      <td>0.11945791418152361</td>\n      <td>0.11945791418152361</td>\n    </tr>\n    <tr>\n      <th>65</th>\n      <td>NEGATIVE</td>\n      <td>L</td>\n      <td>0.774525</td>\n      <td>0.12951013647712029</td>\n      <td>0.12951013647712029</td>\n    </tr>\n    <tr>\n      <th>66</th>\n      <td>NEGATIVE</td>\n      <td>M</td>\n      <td>0.906703</td>\n      <td>0.04905508357248798</td>\n      <td>0.04905508357248798</td>\n    </tr>\n    <tr>\n      <th>67</th>\n      <td>NEGATIVE</td>\n      <td>O</td>\n      <td>0.504842</td>\n      <td>0.5492042772274331</td>\n      <td>0.5492042772274331</td>\n    </tr>\n    <tr>\n      <th>68</th>\n      <td>NEGATIVE</td>\n      <td>S</td>\n      <td>0.856043</td>\n      <td>0.07807409783687423</td>\n      <td>0.07807409783687423</td>\n    </tr>\n    <tr>\n      <th>69</th>\n      <td>NEGATIVE</td>\n      <td>T</td>\n      <td>0.861763</td>\n      <td>0.07469849292144373</td>\n      <td>0.07469849292144373</td>\n    </tr>\n    <tr>\n      <th>70</th>\n      <td>NEGATIVE</td>\n      <td>_all_</td>\n      <td>0.782250</td>\n      <td>0.1666666670361472</td>\n      <td>0.1666666670361472</td>\n    </tr>\n    <tr>\n      <th>71</th>\n      <td>POSITIVE</td>\n      <td>I</td>\n      <td>0.712583</td>\n      <td>0.17397624226199665</td>\n      <td>0.17397624226199665</td>\n    </tr>\n    <tr>\n      <th>72</th>\n      <td>POSITIVE</td>\n      <td>L</td>\n      <td>0.743471</td>\n      <td>0.1510940944004614</td>\n      <td>0.1510940944004614</td>\n    </tr>\n    <tr>\n      <th>73</th>\n      <td>POSITIVE</td>\n      <td>M</td>\n      <td>0.926606</td>\n      <td>0.03815255012587888</td>\n      <td>0.03815255012587888</td>\n    </tr>\n    <tr>\n      <th>74</th>\n      <td>POSITIVE</td>\n      <td>O</td>\n      <td>0.500147</td>\n      <td>0.4914348235118153</td>\n      <td>0.4914348235118153</td>\n    </tr>\n    <tr>\n      <th>75</th>\n      <td>POSITIVE</td>\n      <td>S</td>\n      <td>0.835693</td>\n      <td>0.09030947495739981</td>\n      <td>0.09030947495739981</td>\n    </tr>\n    <tr>\n      <th>76</th>\n      <td>POSITIVE</td>\n      <td>T</td>\n      <td>0.895992</td>\n      <td>0.05503283013484516</td>\n      <td>0.05503283013484516</td>\n    </tr>\n    <tr>\n      <th>77</th>\n      <td>POSITIVE</td>\n      <td>_all_</td>\n      <td>0.769082</td>\n      <td>0.1666666692320662</td>\n      <td>0.1666666692320662</td>\n    </tr>\n    <tr>\n      <th>78</th>\n      <td>_all_</td>\n      <td>I</td>\n      <td>0.582553</td>\n      <td>0.7031660370048105</td>\n      <td>0.7031660370048105</td>\n    </tr>\n    <tr>\n      <th>79</th>\n      <td>_all_</td>\n      <td>L</td>\n      <td>0.957760</td>\n      <td>0.021585883022442416</td>\n      <td>0.021585883022442416</td>\n    </tr>\n    <tr>\n      <th>80</th>\n      <td>_all_</td>\n      <td>M</td>\n      <td>0.950203</td>\n      <td>0.025551220125406116</td>\n      <td>0.025551220125406116</td>\n    </tr>\n    <tr>\n      <th>81</th>\n      <td>_all_</td>\n      <td>O</td>\n      <td>0.698192</td>\n      <td>0.18520455055983423</td>\n      <td>0.18520455055983423</td>\n    </tr>\n    <tr>\n      <th>82</th>\n      <td>_all_</td>\n      <td>S</td>\n      <td>0.899510</td>\n      <td>0.053060138390531364</td>\n      <td>0.053060138390531364</td>\n    </tr>\n    <tr>\n      <th>83</th>\n      <td>_all_</td>\n      <td>T</td>\n      <td>0.977397</td>\n      <td>0.011432199781966402</td>\n      <td>0.011432199781966402</td>\n    </tr>\n    <tr>\n      <th>84</th>\n      <td>_all_</td>\n      <td>_all_</td>\n      <td>0.844269</td>\n      <td>0.16666667148083184</td>\n      <td>0.16666667148083184</td>\n    </tr>\n  </tbody>\n</table>\n</div>"
     },
     "execution_count": 16,
     "metadata": {},
     "output_type": "execute_result"
    }
   ],
   "source": [
    "baseline = pd.read_csv(\"../data/random_baseline.tsv\", sep=\"\\t\")\n",
    "baseline = baseline[baseline[\"target\"] == 'residue_6state'].drop(\"target\", 1)\n",
    "baseline"
   ],
   "metadata": {
    "collapsed": false,
    "pycharm": {
     "name": "#%%\n"
    }
   }
  },
  {
   "cell_type": "code",
   "execution_count": 18,
   "outputs": [],
   "source": [
    "random_baseline_values = baseline.query(\"kingdom == '_all_' and type == '_all_'\")[[\"precision\", \"recall\"]].values.astype(\"float\")\n",
    "random_baseline_values = np.insert(random_baseline_values, 0, 0.)"
   ],
   "metadata": {
    "collapsed": false,
    "pycharm": {
     "name": "#%%\n"
    }
   }
  },
  {
   "cell_type": "code",
   "execution_count": 20,
   "outputs": [],
   "source": [
    "relevant_data = final_metrics.query(\"label == 'overall' and kingdom == 'overall'\")\\\n",
    "    .groupby(\"metric\")\\\n",
    "    .agg([\"mean\", \"std\"])\\\n",
    "    [\"value\"]\n",
    "\n",
    "relevant_data[\"ci\"] = 1.96 * relevant_data[\"std\"]"
   ],
   "metadata": {
    "collapsed": false,
    "pycharm": {
     "name": "#%%\n"
    }
   }
  },
  {
   "cell_type": "code",
   "execution_count": 21,
   "outputs": [
    {
     "data": {
      "text/plain": "               mean       std        ci\nmetric                                 \nmcc        0.913000  0.004374  0.008573\nprecision  0.888264  0.006659  0.013052\nrecall     0.895098  0.005409  0.010601",
      "text/html": "<div>\n<style scoped>\n    .dataframe tbody tr th:only-of-type {\n        vertical-align: middle;\n    }\n\n    .dataframe tbody tr th {\n        vertical-align: top;\n    }\n\n    .dataframe thead th {\n        text-align: right;\n    }\n</style>\n<table border=\"1\" class=\"dataframe\">\n  <thead>\n    <tr style=\"text-align: right;\">\n      <th></th>\n      <th>mean</th>\n      <th>std</th>\n      <th>ci</th>\n    </tr>\n    <tr>\n      <th>metric</th>\n      <th></th>\n      <th></th>\n      <th></th>\n    </tr>\n  </thead>\n  <tbody>\n    <tr>\n      <th>mcc</th>\n      <td>0.913000</td>\n      <td>0.004374</td>\n      <td>0.008573</td>\n    </tr>\n    <tr>\n      <th>precision</th>\n      <td>0.888264</td>\n      <td>0.006659</td>\n      <td>0.013052</td>\n    </tr>\n    <tr>\n      <th>recall</th>\n      <td>0.895098</td>\n      <td>0.005409</td>\n      <td>0.010601</td>\n    </tr>\n  </tbody>\n</table>\n</div>"
     },
     "execution_count": 21,
     "metadata": {},
     "output_type": "execute_result"
    }
   ],
   "source": [
    "relevant_data"
   ],
   "metadata": {
    "collapsed": false,
    "pycharm": {
     "name": "#%%\n"
    }
   }
  },
  {
   "cell_type": "code",
   "execution_count": 23,
   "outputs": [],
   "source": [
    "cv_average_data = cv_final_metrics\\\n",
    "    .query(\"label == 'overall' and kingdom == 'overall'\")\\\n",
    "    .groupby([\"metric\"])\\\n",
    "    .agg([\"mean\", \"std\"])\\\n",
    "    [\"value\"]"
   ],
   "metadata": {
    "collapsed": false,
    "pycharm": {
     "name": "#%%\n"
    }
   }
  },
  {
   "cell_type": "code",
   "execution_count": 24,
   "outputs": [],
   "source": [
    "cv_average_data[\"ci\"] = 1.96 * cv_average_data[\"std\"] / 2"
   ],
   "metadata": {
    "collapsed": false,
    "pycharm": {
     "name": "#%%\n"
    }
   }
  },
  {
   "cell_type": "code",
   "execution_count": 25,
   "outputs": [
    {
     "data": {
      "text/plain": "               mean       std        ci\nmetric                                 \nmcc        0.904189  0.004991  0.004891\nprecision  0.872611  0.008496  0.008326\nrecall     0.860286  0.014670  0.014376",
      "text/html": "<div>\n<style scoped>\n    .dataframe tbody tr th:only-of-type {\n        vertical-align: middle;\n    }\n\n    .dataframe tbody tr th {\n        vertical-align: top;\n    }\n\n    .dataframe thead th {\n        text-align: right;\n    }\n</style>\n<table border=\"1\" class=\"dataframe\">\n  <thead>\n    <tr style=\"text-align: right;\">\n      <th></th>\n      <th>mean</th>\n      <th>std</th>\n      <th>ci</th>\n    </tr>\n    <tr>\n      <th>metric</th>\n      <th></th>\n      <th></th>\n      <th></th>\n    </tr>\n  </thead>\n  <tbody>\n    <tr>\n      <th>mcc</th>\n      <td>0.904189</td>\n      <td>0.004991</td>\n      <td>0.004891</td>\n    </tr>\n    <tr>\n      <th>precision</th>\n      <td>0.872611</td>\n      <td>0.008496</td>\n      <td>0.008326</td>\n    </tr>\n    <tr>\n      <th>recall</th>\n      <td>0.860286</td>\n      <td>0.014670</td>\n      <td>0.014376</td>\n    </tr>\n  </tbody>\n</table>\n</div>"
     },
     "execution_count": 25,
     "metadata": {},
     "output_type": "execute_result"
    }
   ],
   "source": [
    "cv_average_data"
   ],
   "metadata": {
    "collapsed": false,
    "pycharm": {
     "name": "#%%\n"
    }
   }
  },
  {
   "cell_type": "code",
   "execution_count": 17,
   "outputs": [],
   "source": [
    "import matplotlib\n",
    "matplotlib.rcParams.update({\"errorbar.capsize\": 8})\n",
    "from colors import final_color, baseline_color, cv_color"
   ],
   "metadata": {
    "collapsed": false,
    "pycharm": {
     "name": "#%%\n"
    }
   }
  },
  {
   "cell_type": "code",
   "execution_count": 18,
   "outputs": [
    {
     "data": {
      "text/plain": "<Figure size 720x360 with 1 Axes>",
      "image/png": "[encoded data removed]"
     },
     "metadata": {},
     "output_type": "display_data"
    }
   ],
   "source": [
    "fig, ax = plt.subplots()\n",
    "labels = [\"MCC\", \"Precision\", \"Recall\"]\n",
    "width = 0.33\n",
    "r1 = np.arange(len(labels))\n",
    "r2 = r1 + width\n",
    "#r3 = r2 + width\n",
    "\n",
    "final_model_values = ax.bar(\n",
    "    r1,\n",
    "    relevant_data[\"mean\"],\n",
    "    width,\n",
    "    yerr = relevant_data[\"ci\"],\n",
    "    color=final_color,\n",
    "    label=\"Final model\"\n",
    ")\n",
    "\n",
    "cv_values = ax.bar(\n",
    "    r2,\n",
    "    cv_average_data[\"mean\"],\n",
    "    width,\n",
    "    yerr = cv_average_data[\"ci\"],\n",
    "    color=cv_color,\n",
    "    label=\"CV average\"\n",
    ")\n",
    "\n",
    "\"\"\"\n",
    "baseline_values = ax.bar(\n",
    "    r3,\n",
    "    random_baseline_values,\n",
    "    width,\n",
    "    color=baseline_color,\n",
    "    label=\"Random baseline\"\n",
    ")\n",
    "\"\"\"\n",
    "\n",
    "ax.set_ylabel(\"Score\")\n",
    "ax.set_xticks(r1 + 0.5*width)\n",
    "ax.set_xticklabels(labels)\n",
    "ax.legend(loc=\"upper right\")\n",
    "\n",
    "ax.set_ylim([0.8, 1])\n",
    "\n",
    "ax.bar_label(final_model_values, padding=3, fmt=\"%.3f\")\n",
    "ax.bar_label(cv_values, padding=3, fmt=\"%.3f\")\n",
    "#ax.bar_label(baseline_values, padding=3, fmt=\"%.3f\")\n",
    "\n",
    "fig.tight_layout()\n",
    "\n",
    "fig.set_size_inches(10, 5)\n",
    "fig.savefig(\"output/overall_performance.png\", dpi=300)"
   ],
   "metadata": {
    "collapsed": false,
    "pycharm": {
     "name": "#%%\n"
    }
   }
  },
  {
   "cell_type": "code",
   "execution_count": 20,
   "outputs": [
    {
     "data": {
      "text/plain": "               mean       std        ci\nmetric                                 \nmcc        0.913000  0.004374  0.008573\nprecision  0.888264  0.006659  0.013052\nrecall     0.895098  0.005409  0.010601",
      "text/html": "<div>\n<style scoped>\n    .dataframe tbody tr th:only-of-type {\n        vertical-align: middle;\n    }\n\n    .dataframe tbody tr th {\n        vertical-align: top;\n    }\n\n    .dataframe thead th {\n        text-align: right;\n    }\n</style>\n<table border=\"1\" class=\"dataframe\">\n  <thead>\n    <tr style=\"text-align: right;\">\n      <th></th>\n      <th>mean</th>\n      <th>std</th>\n      <th>ci</th>\n    </tr>\n    <tr>\n      <th>metric</th>\n      <th></th>\n      <th></th>\n      <th></th>\n    </tr>\n  </thead>\n  <tbody>\n    <tr>\n      <th>mcc</th>\n      <td>0.913000</td>\n      <td>0.004374</td>\n      <td>0.008573</td>\n    </tr>\n    <tr>\n      <th>precision</th>\n      <td>0.888264</td>\n      <td>0.006659</td>\n      <td>0.013052</td>\n    </tr>\n    <tr>\n      <th>recall</th>\n      <td>0.895098</td>\n      <td>0.005409</td>\n      <td>0.010601</td>\n    </tr>\n  </tbody>\n</table>\n</div>"
     },
     "execution_count": 20,
     "metadata": {},
     "output_type": "execute_result"
    }
   ],
   "source": [
    "relevant_data"
   ],
   "metadata": {
    "collapsed": false,
    "pycharm": {
     "name": "#%%\n"
    }
   }
  },
  {
   "cell_type": "code",
   "execution_count": 21,
   "outputs": [
    {
     "data": {
      "text/plain": "               mean       std        ci\nmetric                                 \nmcc        0.904189  0.004991  0.004891\nprecision  0.872611  0.008496  0.008326\nrecall     0.860286  0.014670  0.014376",
      "text/html": "<div>\n<style scoped>\n    .dataframe tbody tr th:only-of-type {\n        vertical-align: middle;\n    }\n\n    .dataframe tbody tr th {\n        vertical-align: top;\n    }\n\n    .dataframe thead th {\n        text-align: right;\n    }\n</style>\n<table border=\"1\" class=\"dataframe\">\n  <thead>\n    <tr style=\"text-align: right;\">\n      <th></th>\n      <th>mean</th>\n      <th>std</th>\n      <th>ci</th>\n    </tr>\n    <tr>\n      <th>metric</th>\n      <th></th>\n      <th></th>\n      <th></th>\n    </tr>\n  </thead>\n  <tbody>\n    <tr>\n      <th>mcc</th>\n      <td>0.904189</td>\n      <td>0.004991</td>\n      <td>0.004891</td>\n    </tr>\n    <tr>\n      <th>precision</th>\n      <td>0.872611</td>\n      <td>0.008496</td>\n      <td>0.008326</td>\n    </tr>\n    <tr>\n      <th>recall</th>\n      <td>0.860286</td>\n      <td>0.014670</td>\n      <td>0.014376</td>\n    </tr>\n  </tbody>\n</table>\n</div>"
     },
     "execution_count": 21,
     "metadata": {},
     "output_type": "execute_result"
    }
   ],
   "source": [
    "cv_average_data"
   ],
   "metadata": {
    "collapsed": false,
    "pycharm": {
     "name": "#%%\n"
    }
   }
  }
 ],
 "metadata": {
  "kernelspec": {
   "display_name": "Python 3",
   "language": "python",
   "name": "python3"
  },
  "language_info": {
   "codemirror_mode": {
    "name": "ipython",
    "version": 2
   },
   "file_extension": ".py",
   "mimetype": "text/x-python",
   "name": "python",
   "nbconvert_exporter": "python",
   "pygments_lexer": "ipython2",
   "version": "2.7.6"
  }
 },
 "nbformat": 4,
 "nbformat_minor": 0
}