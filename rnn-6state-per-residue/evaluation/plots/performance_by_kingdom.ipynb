{
 "cells": [
  {
   "cell_type": "code",
   "execution_count": 2,
   "outputs": [],
   "source": [
    "import matplotlib.pyplot as plt\n",
    "import matplotlib.ticker\n",
    "import numpy as np\n",
    "import pandas as pd\n",
    "import pickle\n",
    "import seaborn as sns\n",
    "\n",
    "sns.set_theme()\n",
    "\n",
    "from evaluation.serialization import Serializer\n",
    "from constants import KINGDOMS"
   ],
   "metadata": {
    "collapsed": false,
    "pycharm": {
     "name": "#%%\n"
    }
   }
  },
  {
   "cell_type": "code",
   "execution_count": 4,
   "outputs": [],
   "source": [
    "cv_training_metrics = Serializer.load(\"cv_training_metrics\")\n",
    "cv_final_metrics = Serializer.load(\"cv_metrics\")\n",
    "final_training_metrics = Serializer.load(\"final_training_metrics\")\n",
    "final_metrics = Serializer.load(\"final_metrics\")"
   ],
   "metadata": {
    "collapsed": false,
    "pycharm": {
     "name": "#%%\n"
    }
   }
  },
  {
   "cell_type": "code",
   "execution_count": 6,
   "outputs": [],
   "source": [
    "with open(\"../data/kingdom_distribution.pickle\", \"rb\") as f:\n",
    "    proportions = pickle.load(f)"
   ],
   "metadata": {
    "collapsed": false,
    "pycharm": {
     "name": "#%%\n"
    }
   }
  },
  {
   "cell_type": "code",
   "execution_count": 8,
   "outputs": [],
   "source": [
    "relevant_data = final_metrics\\\n",
    "    .query(\"kingdom != 'overall' and label == 'overall'\")\\\n",
    "    .groupby([\"metric\", \"label\", \"kingdom\"])\\\n",
    "    .agg([\"mean\", \"std\"])\\\n",
    "    .sort_values(by=\"label\")\\\n",
    "    [\"value\"]\n",
    "\n",
    "relevant_data[\"ci\"] = 1.96 * relevant_data[\"std\"]"
   ],
   "metadata": {
    "collapsed": false,
    "pycharm": {
     "name": "#%%\n"
    }
   }
  },
  {
   "cell_type": "code",
   "execution_count": 10,
   "outputs": [],
   "source": [
    "cv_data = cv_final_metrics\\\n",
    "    .query(\"kingdom != 'overall' and label == 'overall' and metric != 'accuracy'\")\\\n",
    "    .groupby([\"metric\", \"label\", \"kingdom\"])\\\n",
    "    .agg([\"mean\", \"std\"])\\\n",
    "    .sort_values(by=\"metric\")\\\n",
    "    [\"value\"]\n",
    "\n",
    "cv_data[\"ci\"] = 1.96 * cv_data[\"std\"]"
   ],
   "metadata": {
    "collapsed": false,
    "pycharm": {
     "name": "#%%\n"
    }
   }
  },
  {
   "cell_type": "code",
   "execution_count": 12,
   "outputs": [
    {
     "data": {
      "text/plain": "                               mean       std        ci\nmetric    label   kingdom                              \nmcc       overall ARCHAEA  0.871662  0.026809  0.052545\nprecision overall ARCHAEA  0.866673  0.042156  0.082626\nrecall    overall ARCHAEA  0.853563  0.038346  0.075157",
      "text/html": "<div>\n<style scoped>\n    .dataframe tbody tr th:only-of-type {\n        vertical-align: middle;\n    }\n\n    .dataframe tbody tr th {\n        vertical-align: top;\n    }\n\n    .dataframe thead th {\n        text-align: right;\n    }\n</style>\n<table border=\"1\" class=\"dataframe\">\n  <thead>\n    <tr style=\"text-align: right;\">\n      <th></th>\n      <th></th>\n      <th></th>\n      <th>mean</th>\n      <th>std</th>\n      <th>ci</th>\n    </tr>\n    <tr>\n      <th>metric</th>\n      <th>label</th>\n      <th>kingdom</th>\n      <th></th>\n      <th></th>\n      <th></th>\n    </tr>\n  </thead>\n  <tbody>\n    <tr>\n      <th>mcc</th>\n      <th>overall</th>\n      <th>ARCHAEA</th>\n      <td>0.871662</td>\n      <td>0.026809</td>\n      <td>0.052545</td>\n    </tr>\n    <tr>\n      <th>precision</th>\n      <th>overall</th>\n      <th>ARCHAEA</th>\n      <td>0.866673</td>\n      <td>0.042156</td>\n      <td>0.082626</td>\n    </tr>\n    <tr>\n      <th>recall</th>\n      <th>overall</th>\n      <th>ARCHAEA</th>\n      <td>0.853563</td>\n      <td>0.038346</td>\n      <td>0.075157</td>\n    </tr>\n  </tbody>\n</table>\n</div>"
     },
     "execution_count": 12,
     "metadata": {},
     "output_type": "execute_result"
    }
   ],
   "source": [
    "relevant_data.query(f\"kingdom == 'ARCHAEA'\")\n"
   ],
   "metadata": {
    "collapsed": false,
    "pycharm": {
     "name": "#%%\n"
    }
   }
  },
  {
   "cell_type": "code",
   "execution_count": 11,
   "outputs": [
    {
     "data": {
      "text/plain": "                             mean       std        ci\nmetric label   kingdom                               \nmcc    overall ARCHAEA   0.871662  0.026809  0.052545\n               EUKARYA   0.900886  0.006853  0.013432\n               NEGATIVE  0.880880  0.011438  0.022418\n               POSITIVE  0.856922  0.021242  0.041634",
      "text/html": "<div>\n<style scoped>\n    .dataframe tbody tr th:only-of-type {\n        vertical-align: middle;\n    }\n\n    .dataframe tbody tr th {\n        vertical-align: top;\n    }\n\n    .dataframe thead th {\n        text-align: right;\n    }\n</style>\n<table border=\"1\" class=\"dataframe\">\n  <thead>\n    <tr style=\"text-align: right;\">\n      <th></th>\n      <th></th>\n      <th></th>\n      <th>mean</th>\n      <th>std</th>\n      <th>ci</th>\n    </tr>\n    <tr>\n      <th>metric</th>\n      <th>label</th>\n      <th>kingdom</th>\n      <th></th>\n      <th></th>\n      <th></th>\n    </tr>\n  </thead>\n  <tbody>\n    <tr>\n      <th rowspan=\"4\" valign=\"top\">mcc</th>\n      <th rowspan=\"4\" valign=\"top\">overall</th>\n      <th>ARCHAEA</th>\n      <td>0.871662</td>\n      <td>0.026809</td>\n      <td>0.052545</td>\n    </tr>\n    <tr>\n      <th>EUKARYA</th>\n      <td>0.900886</td>\n      <td>0.006853</td>\n      <td>0.013432</td>\n    </tr>\n    <tr>\n      <th>NEGATIVE</th>\n      <td>0.880880</td>\n      <td>0.011438</td>\n      <td>0.022418</td>\n    </tr>\n    <tr>\n      <th>POSITIVE</th>\n      <td>0.856922</td>\n      <td>0.021242</td>\n      <td>0.041634</td>\n    </tr>\n  </tbody>\n</table>\n</div>"
     },
     "execution_count": 11,
     "metadata": {},
     "output_type": "execute_result"
    }
   ],
   "source": [
    "relevant_data.query(\"metric == 'mcc'\")"
   ],
   "metadata": {
    "collapsed": false,
    "pycharm": {
     "name": "#%%\n"
    }
   }
  },
  {
   "cell_type": "markdown",
   "source": [
    "# Test Set + CV + random baseline"
   ],
   "metadata": {
    "collapsed": false
   }
  },
  {
   "cell_type": "markdown",
   "source": [
    "## Fix baseline values"
   ],
   "metadata": {
    "collapsed": false,
    "pycharm": {
     "name": "#%% md\n"
    }
   }
  },
  {
   "cell_type": "code",
   "execution_count": 119,
   "outputs": [
    {
     "name": "stderr",
     "output_type": "stream",
     "text": [
      "C:\\Users\\juliu\\AppData\\Local\\Temp/ipykernel_19300/2293192437.py:2: FutureWarning: In a future version of pandas all arguments of DataFrame.drop except for the argument 'labels' will be keyword-only\n",
      "  baseline = baseline[baseline[\"target\"] == 'residue_6state'].drop(\"target\", 1).drop(\"accuracy\", 1)\n"
     ]
    },
    {
     "data": {
      "text/plain": "    kingdom type  mcc  precision    recall\n57  EUKARYA    I  0.0   0.814196  0.814196\n58  EUKARYA    L  0.0        NaN       NaN\n59  EUKARYA    M  0.0   0.020916  0.020916\n60  EUKARYA    O  0.0   0.117804  0.117804\n61  EUKARYA    S  0.0   0.047084  0.047084\n62  EUKARYA    T  0.0        NaN       NaN",
      "text/html": "<div>\n<style scoped>\n    .dataframe tbody tr th:only-of-type {\n        vertical-align: middle;\n    }\n\n    .dataframe tbody tr th {\n        vertical-align: top;\n    }\n\n    .dataframe thead th {\n        text-align: right;\n    }\n</style>\n<table border=\"1\" class=\"dataframe\">\n  <thead>\n    <tr style=\"text-align: right;\">\n      <th></th>\n      <th>kingdom</th>\n      <th>type</th>\n      <th>mcc</th>\n      <th>precision</th>\n      <th>recall</th>\n    </tr>\n  </thead>\n  <tbody>\n    <tr>\n      <th>57</th>\n      <td>EUKARYA</td>\n      <td>I</td>\n      <td>0.0</td>\n      <td>0.814196</td>\n      <td>0.814196</td>\n    </tr>\n    <tr>\n      <th>58</th>\n      <td>EUKARYA</td>\n      <td>L</td>\n      <td>0.0</td>\n      <td>NaN</td>\n      <td>NaN</td>\n    </tr>\n    <tr>\n      <th>59</th>\n      <td>EUKARYA</td>\n      <td>M</td>\n      <td>0.0</td>\n      <td>0.020916</td>\n      <td>0.020916</td>\n    </tr>\n    <tr>\n      <th>60</th>\n      <td>EUKARYA</td>\n      <td>O</td>\n      <td>0.0</td>\n      <td>0.117804</td>\n      <td>0.117804</td>\n    </tr>\n    <tr>\n      <th>61</th>\n      <td>EUKARYA</td>\n      <td>S</td>\n      <td>0.0</td>\n      <td>0.047084</td>\n      <td>0.047084</td>\n    </tr>\n    <tr>\n      <th>62</th>\n      <td>EUKARYA</td>\n      <td>T</td>\n      <td>0.0</td>\n      <td>NaN</td>\n      <td>NaN</td>\n    </tr>\n  </tbody>\n</table>\n</div>"
     },
     "execution_count": 119,
     "metadata": {},
     "output_type": "execute_result"
    }
   ],
   "source": [
    "baseline = pd.read_csv(\"../data/random_baseline.tsv\", sep=\"\\t\")\n",
    "baseline = baseline[baseline[\"target\"] == 'residue_6state'].drop(\"target\", 1).drop(\"accuracy\", 1)\n",
    "\n",
    "# Insert MCC column with 0.0 values\n",
    "baseline.insert(2, \"mcc\", 0.)\n",
    "\n",
    "# Convert existing value columns to numeric values\n",
    "baseline[baseline == \"None\"] = np.NaN\n",
    "for col in [\"precision\", \"recall\"]:\n",
    "    baseline[col] = pd.to_numeric(baseline[col])"
   ],
   "metadata": {
    "collapsed": false,
    "pycharm": {
     "name": "#%%\n"
    }
   }
  },
  {
   "cell_type": "code",
   "execution_count": 23,
   "outputs": [],
   "source": [
    "import matplotlib\n",
    "matplotlib.rcParams.update({\"errorbar.capsize\": 5})\n",
    "from colors import final_color, cv_color, baseline_color"
   ],
   "metadata": {
    "collapsed": false,
    "pycharm": {
     "name": "#%%\n"
    }
   }
  },
  {
   "cell_type": "code",
   "execution_count": 28,
   "outputs": [
    {
     "data": {
      "text/plain": "<Figure size 720x504 with 4 Axes>",
      "image/png": "[encoded data removed]"
     },
     "metadata": {},
     "output_type": "display_data"
    }
   ],
   "source": [
    "bar_width = 0.3\n",
    "metrics = [\"mcc\", \"precision\", \"recall\"]\n",
    "labels = [\"MCC\", \"Precision\", \"Recall\"]\n",
    "r1 = np.arange(len(metrics))\n",
    "r2 = r1 + bar_width\n",
    "\n",
    "fig = plt.figure()\n",
    "gs = fig.add_gridspec(2, 2)\n",
    "((ax1, ax2), (ax3, ax4)) = gs.subplots(sharex=\"col\", sharey=\"row\")\n",
    "for ax, kingdom in zip([ax1, ax2, ax3, ax4], KINGDOMS):\n",
    "    ax.set_title(f\"{kingdom} - {proportions[kingdom]:.2%}\")\n",
    "    final_values = ax.bar(\n",
    "        r1,\n",
    "        relevant_data.query(f\"kingdom == '{kingdom}'\")[\"mean\"],\n",
    "        yerr=relevant_data.query(f\"kingdom == '{kingdom}'\")[\"ci\"],\n",
    "        width=bar_width,\n",
    "        color=final_color,\n",
    "        label=\"Final model\"\n",
    "    )\n",
    "\n",
    "    cv_values = ax.bar(\n",
    "        r2,\n",
    "        cv_data.query(f\"kingdom == '{kingdom}'\")[\"mean\"],\n",
    "        yerr=cv_data.query(f\"kingdom == '{kingdom}'\")[\"ci\"],\n",
    "        width=bar_width,\n",
    "        color=cv_color,\n",
    "        label=\"CV average\"\n",
    "    )\n",
    "\n",
    "    ax.set_ylabel(\"Score\")\n",
    "    ax.set_xticks(r1 + bar_width/2)\n",
    "    ax.set_xticklabels(labels)\n",
    "    ax.set_ylim([0.0, 1.03])\n",
    "    ax.label_outer()\n",
    "\n",
    "    ax.bar_label(final_values, padding=2, fmt=\"%.2f\")\n",
    "    ax.bar_label(cv_values, padding=2, fmt=\"%.2f\")\n",
    "\n",
    "plt.legend(loc=\"lower right\")\n",
    "fig.tight_layout()\n",
    "fig.set_size_inches(10, 7)\n",
    "fig.savefig(\"output/performance_by_kingdom_vs_cv.png\", dpi=240)\n"
   ],
   "metadata": {
    "collapsed": false,
    "pycharm": {
     "name": "#%%\n"
    }
   }
  }
 ],
 "metadata": {
  "kernelspec": {
   "display_name": "Python 3",
   "language": "python",
   "name": "python3"
  },
  "language_info": {
   "codemirror_mode": {
    "name": "ipython",
    "version": 2
   },
   "file_extension": ".py",
   "mimetype": "text/x-python",
   "name": "python",
   "nbconvert_exporter": "python",
   "pygments_lexer": "ipython2",
   "version": "2.7.6"
  }
 },
 "nbformat": 4,
 "nbformat_minor": 0
}