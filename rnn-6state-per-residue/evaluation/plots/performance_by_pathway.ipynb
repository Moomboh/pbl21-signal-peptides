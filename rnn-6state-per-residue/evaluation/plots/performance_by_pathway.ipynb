{
 "cells": [
  {
   "cell_type": "code",
   "execution_count": 10,
   "outputs": [],
   "source": [
    "import matplotlib.pyplot as plt\n",
    "import matplotlib.ticker\n",
    "import numpy as np\n",
    "import pandas as pd\n",
    "import pickle\n",
    "import seaborn as sns\n",
    "\n",
    "sns.set_theme()\n",
    "\n",
    "from evaluation.serialization import Serializer\n",
    "from constants import TYPES"
   ],
   "metadata": {
    "collapsed": false,
    "pycharm": {
     "name": "#%%\n"
    }
   }
  },
  {
   "cell_type": "code",
   "execution_count": 12,
   "outputs": [],
   "source": [
    "cv_training_metrics = Serializer.load(\"cv_training_metrics\")\n",
    "cv_final_metrics = Serializer.load(\"cv_metrics\")\n",
    "final_training_metrics = Serializer.load(\"final_training_metrics\")\n",
    "final_metrics = Serializer.load(\"final_metrics\")"
   ],
   "metadata": {
    "collapsed": false,
    "pycharm": {
     "name": "#%%\n"
    }
   }
  },
  {
   "cell_type": "code",
   "execution_count": 14,
   "outputs": [],
   "source": [
    "with open(\"../data/pathway_distribution.pickle\", \"rb\") as f:\n",
    "    proportions = pickle.load(f)"
   ],
   "metadata": {
    "collapsed": false,
    "pycharm": {
     "name": "#%%\n"
    }
   }
  },
  {
   "cell_type": "code",
   "execution_count": 50,
   "metadata": {
    "collapsed": true
   },
   "outputs": [],
   "source": [
    "relevant_data = final_metrics\\\n",
    "    .query(\"kingdom == 'overall' and label != 'overall'\")\\\n",
    "    .groupby([\"metric\", \"label\", \"kingdom\"])\\\n",
    "    .agg([\"mean\", \"std\"])\\\n",
    "    .sort_values(by=\"label\")\\\n",
    "    [\"value\"]\n",
    "\n",
    "relevant_data[\"ci\"] = 1.96 * relevant_data[\"std\"]"
   ]
  },
  {
   "cell_type": "code",
   "execution_count": 49,
   "outputs": [],
   "source": [
    "cv_data = cv_final_metrics\\\n",
    "    .query(\"kingdom == 'overall' and label != 'overall' and metric != 'accuracy'\")\\\n",
    "    .groupby([\"metric\", \"label\", \"kingdom\"])\\\n",
    "    .agg([\"mean\", \"std\"])\\\n",
    "    .sort_values(by=\"metric\")\\\n",
    "    [\"value\"]\n",
    "\n",
    "cv_data[\"ci\"] = 1.96 * relevant_data[\"std\"]"
   ],
   "metadata": {
    "collapsed": false,
    "pycharm": {
     "name": "#%%\n"
    }
   }
  },
  {
   "cell_type": "markdown",
   "source": [
    "# Test Set"
   ],
   "metadata": {
    "collapsed": false,
    "pycharm": {
     "name": "#%% md\n"
    }
   }
  },
  {
   "cell_type": "code",
   "execution_count": 13,
   "outputs": [
    {
     "data": {
      "text/plain": "<Figure size 576x360 with 1 Axes>",
      "image/png": "[encoded data removed]"
     },
     "metadata": {},
     "output_type": "display_data"
    }
   ],
   "source": [
    "fig, ax = plt.subplots()\n",
    "labels = sorted([type for type in TYPES])\n",
    "r1 = np.arange(len(labels))\n",
    "width = 0.25\n",
    "r2 = r1 + width\n",
    "r3 = r2 + width\n",
    "\n",
    "mcc_values = ax.bar(\n",
    "    r1,\n",
    "    relevant_data.query(\"metric == 'mcc'\")[\"value\"],\n",
    "    width,\n",
    "    label=\"MCC\"\n",
    ")\n",
    "\n",
    "precision_values = ax.bar(\n",
    "    r2,\n",
    "    relevant_data.query(\"metric == 'precision'\")[\"value\"],\n",
    "    width,\n",
    "    label=\"Precision\"\n",
    ")\n",
    "\n",
    "recall_values = ax.bar(\n",
    "    r3,\n",
    "    relevant_data.query(\"metric == 'recall'\")[\"value\"],\n",
    "    width,\n",
    "    label=\"Recall\"\n",
    ")\n",
    "\n",
    "ax.set_ylabel(\"Score\")\n",
    "ax.set_xticks(r2)\n",
    "ax.set_xticklabels(labels)\n",
    "ax.legend(loc=\"lower right\")\n",
    "\n",
    "ax.set_ylim([0.5, 1])\n",
    "\n",
    "ax.bar_label(mcc_values, padding=2, fmt=\"%.2f\")\n",
    "ax.bar_label(precision_values, padding=2, fmt=\"%.2f\")\n",
    "ax.bar_label(recall_values, padding=2, fmt=\"%.2f\")\n",
    "\n",
    "fig.tight_layout()\n",
    "\n",
    "fig.set_size_inches(8, 5)\n",
    "fig.savefig(\"output/performance_by_pathway.png\", dpi=240)"
   ],
   "metadata": {
    "collapsed": false,
    "pycharm": {
     "name": "#%%\n"
    }
   }
  },
  {
   "cell_type": "markdown",
   "source": [
    "# Test set and CV"
   ],
   "metadata": {
    "collapsed": false,
    "pycharm": {
     "name": "#%% md\n"
    }
   }
  },
  {
   "cell_type": "code",
   "execution_count": 39,
   "outputs": [],
   "source": [
    "import matplotlib\n",
    "matplotlib.rcParams.update({\"errorbar.capsize\": 5})\n",
    "from colors import final_color, cv_color"
   ],
   "metadata": {
    "collapsed": false,
    "pycharm": {
     "name": "#%%\n"
    }
   }
  },
  {
   "cell_type": "code",
   "execution_count": 52,
   "outputs": [
    {
     "ename": "ValueError",
     "evalue": "shape mismatch: objects cannot be broadcast to a single shape",
     "output_type": "error",
     "traceback": [
      "\u001B[1;31m---------------------------------------------------------------------------\u001B[0m",
      "\u001B[1;31mValueError\u001B[0m                                Traceback (most recent call last)",
      "\u001B[1;32m~\\AppData\\Local\\Temp/ipykernel_23140/1689255484.py\u001B[0m in \u001B[0;36m<module>\u001B[1;34m\u001B[0m\n\u001B[0;32m     13\u001B[0m     \u001B[0mrelevant_final_data\u001B[0m \u001B[1;33m=\u001B[0m \u001B[0mfinal_data\u001B[0m\u001B[1;33m.\u001B[0m\u001B[0mquery\u001B[0m\u001B[1;33m(\u001B[0m\u001B[1;34mf\"label == '{type}'\"\u001B[0m\u001B[1;33m)\u001B[0m\u001B[1;33m\u001B[0m\u001B[1;33m\u001B[0m\u001B[0m\n\u001B[0;32m     14\u001B[0m     \u001B[0max\u001B[0m\u001B[1;33m.\u001B[0m\u001B[0mset_title\u001B[0m\u001B[1;33m(\u001B[0m\u001B[1;34mf\"{type} - {proportions[type]:.2%}\"\u001B[0m\u001B[1;33m)\u001B[0m\u001B[1;33m\u001B[0m\u001B[1;33m\u001B[0m\u001B[0m\n\u001B[1;32m---> 15\u001B[1;33m     final_values = ax.bar(\n\u001B[0m\u001B[0;32m     16\u001B[0m         \u001B[0mr1\u001B[0m\u001B[1;33m,\u001B[0m\u001B[1;33m\u001B[0m\u001B[1;33m\u001B[0m\u001B[0m\n\u001B[0;32m     17\u001B[0m         \u001B[0mfinal_data\u001B[0m\u001B[1;33m[\u001B[0m\u001B[1;34m\"mean\"\u001B[0m\u001B[1;33m]\u001B[0m\u001B[1;33m,\u001B[0m\u001B[1;33m\u001B[0m\u001B[1;33m\u001B[0m\u001B[0m\n",
      "\u001B[1;32m~\\AppData\\Local\\Programs\\Python\\Python39\\lib\\site-packages\\matplotlib\\__init__.py\u001B[0m in \u001B[0;36minner\u001B[1;34m(ax, data, *args, **kwargs)\u001B[0m\n\u001B[0;32m   1359\u001B[0m     \u001B[1;32mdef\u001B[0m \u001B[0minner\u001B[0m\u001B[1;33m(\u001B[0m\u001B[0max\u001B[0m\u001B[1;33m,\u001B[0m \u001B[1;33m*\u001B[0m\u001B[0margs\u001B[0m\u001B[1;33m,\u001B[0m \u001B[0mdata\u001B[0m\u001B[1;33m=\u001B[0m\u001B[1;32mNone\u001B[0m\u001B[1;33m,\u001B[0m \u001B[1;33m**\u001B[0m\u001B[0mkwargs\u001B[0m\u001B[1;33m)\u001B[0m\u001B[1;33m:\u001B[0m\u001B[1;33m\u001B[0m\u001B[1;33m\u001B[0m\u001B[0m\n\u001B[0;32m   1360\u001B[0m         \u001B[1;32mif\u001B[0m \u001B[0mdata\u001B[0m \u001B[1;32mis\u001B[0m \u001B[1;32mNone\u001B[0m\u001B[1;33m:\u001B[0m\u001B[1;33m\u001B[0m\u001B[1;33m\u001B[0m\u001B[0m\n\u001B[1;32m-> 1361\u001B[1;33m             \u001B[1;32mreturn\u001B[0m \u001B[0mfunc\u001B[0m\u001B[1;33m(\u001B[0m\u001B[0max\u001B[0m\u001B[1;33m,\u001B[0m \u001B[1;33m*\u001B[0m\u001B[0mmap\u001B[0m\u001B[1;33m(\u001B[0m\u001B[0msanitize_sequence\u001B[0m\u001B[1;33m,\u001B[0m \u001B[0margs\u001B[0m\u001B[1;33m)\u001B[0m\u001B[1;33m,\u001B[0m \u001B[1;33m**\u001B[0m\u001B[0mkwargs\u001B[0m\u001B[1;33m)\u001B[0m\u001B[1;33m\u001B[0m\u001B[1;33m\u001B[0m\u001B[0m\n\u001B[0m\u001B[0;32m   1362\u001B[0m \u001B[1;33m\u001B[0m\u001B[0m\n\u001B[0;32m   1363\u001B[0m         \u001B[0mbound\u001B[0m \u001B[1;33m=\u001B[0m \u001B[0mnew_sig\u001B[0m\u001B[1;33m.\u001B[0m\u001B[0mbind\u001B[0m\u001B[1;33m(\u001B[0m\u001B[0max\u001B[0m\u001B[1;33m,\u001B[0m \u001B[1;33m*\u001B[0m\u001B[0margs\u001B[0m\u001B[1;33m,\u001B[0m \u001B[1;33m**\u001B[0m\u001B[0mkwargs\u001B[0m\u001B[1;33m)\u001B[0m\u001B[1;33m\u001B[0m\u001B[1;33m\u001B[0m\u001B[0m\n",
      "\u001B[1;32m~\\AppData\\Local\\Programs\\Python\\Python39\\lib\\site-packages\\matplotlib\\axes\\_axes.py\u001B[0m in \u001B[0;36mbar\u001B[1;34m(self, x, height, width, bottom, align, **kwargs)\u001B[0m\n\u001B[0;32m   2302\u001B[0m                 \u001B[0myerr\u001B[0m \u001B[1;33m=\u001B[0m \u001B[0mself\u001B[0m\u001B[1;33m.\u001B[0m\u001B[0m_convert_dx\u001B[0m\u001B[1;33m(\u001B[0m\u001B[0myerr\u001B[0m\u001B[1;33m,\u001B[0m \u001B[0my0\u001B[0m\u001B[1;33m,\u001B[0m \u001B[0my\u001B[0m\u001B[1;33m,\u001B[0m \u001B[0mself\u001B[0m\u001B[1;33m.\u001B[0m\u001B[0mconvert_yunits\u001B[0m\u001B[1;33m)\u001B[0m\u001B[1;33m\u001B[0m\u001B[1;33m\u001B[0m\u001B[0m\n\u001B[0;32m   2303\u001B[0m \u001B[1;33m\u001B[0m\u001B[0m\n\u001B[1;32m-> 2304\u001B[1;33m         x, height, width, y, linewidth, hatch = np.broadcast_arrays(\n\u001B[0m\u001B[0;32m   2305\u001B[0m             \u001B[1;31m# Make args iterable too.\u001B[0m\u001B[1;33m\u001B[0m\u001B[1;33m\u001B[0m\u001B[0m\n\u001B[0;32m   2306\u001B[0m             np.atleast_1d(x), height, width, y, linewidth, hatch)\n",
      "\u001B[1;32m<__array_function__ internals>\u001B[0m in \u001B[0;36mbroadcast_arrays\u001B[1;34m(*args, **kwargs)\u001B[0m\n",
      "\u001B[1;32m~\\AppData\\Local\\Programs\\Python\\Python39\\lib\\site-packages\\numpy\\lib\\stride_tricks.py\u001B[0m in \u001B[0;36mbroadcast_arrays\u001B[1;34m(subok, *args)\u001B[0m\n\u001B[0;32m    256\u001B[0m     \u001B[0margs\u001B[0m \u001B[1;33m=\u001B[0m \u001B[1;33m[\u001B[0m\u001B[0mnp\u001B[0m\u001B[1;33m.\u001B[0m\u001B[0marray\u001B[0m\u001B[1;33m(\u001B[0m\u001B[0m_m\u001B[0m\u001B[1;33m,\u001B[0m \u001B[0mcopy\u001B[0m\u001B[1;33m=\u001B[0m\u001B[1;32mFalse\u001B[0m\u001B[1;33m,\u001B[0m \u001B[0msubok\u001B[0m\u001B[1;33m=\u001B[0m\u001B[0msubok\u001B[0m\u001B[1;33m)\u001B[0m \u001B[1;32mfor\u001B[0m \u001B[0m_m\u001B[0m \u001B[1;32min\u001B[0m \u001B[0margs\u001B[0m\u001B[1;33m]\u001B[0m\u001B[1;33m\u001B[0m\u001B[1;33m\u001B[0m\u001B[0m\n\u001B[0;32m    257\u001B[0m \u001B[1;33m\u001B[0m\u001B[0m\n\u001B[1;32m--> 258\u001B[1;33m     \u001B[0mshape\u001B[0m \u001B[1;33m=\u001B[0m \u001B[0m_broadcast_shape\u001B[0m\u001B[1;33m(\u001B[0m\u001B[1;33m*\u001B[0m\u001B[0margs\u001B[0m\u001B[1;33m)\u001B[0m\u001B[1;33m\u001B[0m\u001B[1;33m\u001B[0m\u001B[0m\n\u001B[0m\u001B[0;32m    259\u001B[0m \u001B[1;33m\u001B[0m\u001B[0m\n\u001B[0;32m    260\u001B[0m     \u001B[1;32mif\u001B[0m \u001B[0mall\u001B[0m\u001B[1;33m(\u001B[0m\u001B[0marray\u001B[0m\u001B[1;33m.\u001B[0m\u001B[0mshape\u001B[0m \u001B[1;33m==\u001B[0m \u001B[0mshape\u001B[0m \u001B[1;32mfor\u001B[0m \u001B[0marray\u001B[0m \u001B[1;32min\u001B[0m \u001B[0margs\u001B[0m\u001B[1;33m)\u001B[0m\u001B[1;33m:\u001B[0m\u001B[1;33m\u001B[0m\u001B[1;33m\u001B[0m\u001B[0m\n",
      "\u001B[1;32m~\\AppData\\Local\\Programs\\Python\\Python39\\lib\\site-packages\\numpy\\lib\\stride_tricks.py\u001B[0m in \u001B[0;36m_broadcast_shape\u001B[1;34m(*args)\u001B[0m\n\u001B[0;32m    187\u001B[0m     \u001B[1;31m# use the old-iterator because np.nditer does not handle size 0 arrays\u001B[0m\u001B[1;33m\u001B[0m\u001B[1;33m\u001B[0m\u001B[0m\n\u001B[0;32m    188\u001B[0m     \u001B[1;31m# consistently\u001B[0m\u001B[1;33m\u001B[0m\u001B[1;33m\u001B[0m\u001B[0m\n\u001B[1;32m--> 189\u001B[1;33m     \u001B[0mb\u001B[0m \u001B[1;33m=\u001B[0m \u001B[0mnp\u001B[0m\u001B[1;33m.\u001B[0m\u001B[0mbroadcast\u001B[0m\u001B[1;33m(\u001B[0m\u001B[1;33m*\u001B[0m\u001B[0margs\u001B[0m\u001B[1;33m[\u001B[0m\u001B[1;33m:\u001B[0m\u001B[1;36m32\u001B[0m\u001B[1;33m]\u001B[0m\u001B[1;33m)\u001B[0m\u001B[1;33m\u001B[0m\u001B[1;33m\u001B[0m\u001B[0m\n\u001B[0m\u001B[0;32m    190\u001B[0m     \u001B[1;31m# unfortunately, it cannot handle 32 or more arguments directly\u001B[0m\u001B[1;33m\u001B[0m\u001B[1;33m\u001B[0m\u001B[0m\n\u001B[0;32m    191\u001B[0m     \u001B[1;32mfor\u001B[0m \u001B[0mpos\u001B[0m \u001B[1;32min\u001B[0m \u001B[0mrange\u001B[0m\u001B[1;33m(\u001B[0m\u001B[1;36m32\u001B[0m\u001B[1;33m,\u001B[0m \u001B[0mlen\u001B[0m\u001B[1;33m(\u001B[0m\u001B[0margs\u001B[0m\u001B[1;33m)\u001B[0m\u001B[1;33m,\u001B[0m \u001B[1;36m31\u001B[0m\u001B[1;33m)\u001B[0m\u001B[1;33m:\u001B[0m\u001B[1;33m\u001B[0m\u001B[1;33m\u001B[0m\u001B[0m\n",
      "\u001B[1;31mValueError\u001B[0m: shape mismatch: objects cannot be broadcast to a single shape"
     ]
    },
    {
     "data": {
      "text/plain": "<Figure size 432x288 with 4 Axes>",
      "image/png": "[encoded data removed]"
     },
     "metadata": {},
     "output_type": "display_data"
    }
   ],
   "source": [
    "bar_width = 0.3\n",
    "final_data = relevant_data.query(\"metric != 'accuracy'\").sort_values(by=\"metric\")\n",
    "metrics = [\"mcc\", \"precision\", \"recall\"]\n",
    "labels = [\"MCC\", \"Precision\", \"Recall\"]\n",
    "r1 = np.arange(len(metrics))\n",
    "r2 = r1 + bar_width\n",
    "\n",
    "fig = plt.figure()\n",
    "gs = fig.add_gridspec(2, 2)\n",
    "((ax1, ax2), (ax3, ax4)) = gs.subplots(sharex=\"col\", sharey=\"row\")\n",
    "for ax, type in zip([ax1, ax2, ax3, ax4], TYPES):\n",
    "    relevant_cv_data = cv_data.query(f\"label == '{type}'\")\n",
    "    relevant_final_data = final_data.query(f\"label == '{type}'\")\n",
    "    ax.set_title(f\"{type} - {proportions[type]:.2%}\")\n",
    "    final_values = ax.bar(\n",
    "        r1,\n",
    "        final_data[\"mean\"],\n",
    "        yerr=relevant_data[\"ci\"],\n",
    "        width=bar_width,\n",
    "        color=final_color,\n",
    "        label=\"Final model\"\n",
    "    )\n",
    "\n",
    "    cv_values = ax.bar(\n",
    "        r2,\n",
    "        relevant_cv_data[\"mean\"],\n",
    "        yerr=relevant_cv_data[\"ci\"],\n",
    "        width=bar_width,\n",
    "        color=cv_color,\n",
    "        label=\"CV average\"\n",
    "    )\n",
    "    ax.set_ylabel(\"Score\")\n",
    "    ax.set_xticks(r1 + bar_width/2)\n",
    "    ax.set_xticklabels(labels)\n",
    "    ax.set_ylim([0.0, 1.03])\n",
    "    ax.label_outer()\n",
    "\n",
    "    ax.bar_label(final_values, padding=2, fmt=\"%.2f\")\n",
    "    ax.bar_label(cv_values, padding=2, fmt=\"%.2f\")\n",
    "\n",
    "plt.legend(loc=\"lower right\")\n",
    "fig.tight_layout()\n",
    "fig.set_size_inches(10, 7)\n",
    "fig.savefig(\"output/performance_by_pathway_vs_cv.png\", dpi=240)"
   ],
   "metadata": {
    "collapsed": false,
    "pycharm": {
     "name": "#%%\n"
    }
   }
  },
  {
   "cell_type": "code",
   "execution_count": 53,
   "outputs": [
    {
     "data": {
      "text/plain": "                          mean       std        ci\nmetric label kingdom                              \nmcc    M     overall  0.777919  0.014236  0.027903\n       S     overall  0.866310  0.005425  0.010632\n       T     overall  0.884537  0.017199  0.033710\n       L     overall  0.905925  0.009342  0.018310\n       O     overall  0.914518  0.003570  0.006997\n       I     overall  0.942209  0.003649  0.007152",
      "text/html": "<div>\n<style scoped>\n    .dataframe tbody tr th:only-of-type {\n        vertical-align: middle;\n    }\n\n    .dataframe tbody tr th {\n        vertical-align: top;\n    }\n\n    .dataframe thead th {\n        text-align: right;\n    }\n</style>\n<table border=\"1\" class=\"dataframe\">\n  <thead>\n    <tr style=\"text-align: right;\">\n      <th></th>\n      <th></th>\n      <th></th>\n      <th>mean</th>\n      <th>std</th>\n      <th>ci</th>\n    </tr>\n    <tr>\n      <th>metric</th>\n      <th>label</th>\n      <th>kingdom</th>\n      <th></th>\n      <th></th>\n      <th></th>\n    </tr>\n  </thead>\n  <tbody>\n    <tr>\n      <th rowspan=\"6\" valign=\"top\">mcc</th>\n      <th>M</th>\n      <th>overall</th>\n      <td>0.777919</td>\n      <td>0.014236</td>\n      <td>0.027903</td>\n    </tr>\n    <tr>\n      <th>S</th>\n      <th>overall</th>\n      <td>0.866310</td>\n      <td>0.005425</td>\n      <td>0.010632</td>\n    </tr>\n    <tr>\n      <th>T</th>\n      <th>overall</th>\n      <td>0.884537</td>\n      <td>0.017199</td>\n      <td>0.033710</td>\n    </tr>\n    <tr>\n      <th>L</th>\n      <th>overall</th>\n      <td>0.905925</td>\n      <td>0.009342</td>\n      <td>0.018310</td>\n    </tr>\n    <tr>\n      <th>O</th>\n      <th>overall</th>\n      <td>0.914518</td>\n      <td>0.003570</td>\n      <td>0.006997</td>\n    </tr>\n    <tr>\n      <th>I</th>\n      <th>overall</th>\n      <td>0.942209</td>\n      <td>0.003649</td>\n      <td>0.007152</td>\n    </tr>\n  </tbody>\n</table>\n</div>"
     },
     "execution_count": 53,
     "metadata": {},
     "output_type": "execute_result"
    }
   ],
   "source": [
    "final_data.query(\"metric == 'mcc'\").sort_values(by=\"mean\")"
   ],
   "metadata": {
    "collapsed": false,
    "pycharm": {
     "name": "#%%\n"
    }
   }
  }
 ],
 "metadata": {
  "kernelspec": {
   "display_name": "Python 3",
   "language": "python",
   "name": "python3"
  },
  "language_info": {
   "codemirror_mode": {
    "name": "ipython",
    "version": 2
   },
   "file_extension": ".py",
   "mimetype": "text/x-python",
   "name": "python",
   "nbconvert_exporter": "python",
   "pygments_lexer": "ipython2",
   "version": "2.7.6"
  }
 },
 "nbformat": 4,
 "nbformat_minor": 0
}