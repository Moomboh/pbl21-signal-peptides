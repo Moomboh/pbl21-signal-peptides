{
 "cells": [
  {
   "cell_type": "code",
   "execution_count": 2,
   "metadata": {
    "collapsed": true
   },
   "outputs": [],
   "source": [
    "from utils import Dataset\n",
    "from utils.helpers import getDatasetPath\n",
    "from constants import TYPES, KINGDOMS\n",
    "import pickle"
   ]
  },
  {
   "cell_type": "code",
   "execution_count": 4,
   "outputs": [],
   "source": [
    "all_data = Dataset(getDatasetPath()).getFolds([0, 1, 2, 3, 4])"
   ],
   "metadata": {
    "collapsed": false,
    "pycharm": {
     "name": "#%%\n"
    }
   }
  },
  {
   "cell_type": "code",
   "execution_count": 28,
   "outputs": [
    {
     "data": {
      "text/plain": "                count  fraction\ntype  kingdom                  \nTAT   ARCHAEA      27  0.001313\nLIPO  ARCHAEA      28  0.001361\nSP    ARCHAEA      60  0.002917\nTAT   POSITIVE     95  0.004618\nNO_SP ARCHAEA     119  0.005785\nSP    POSITIVE    184  0.008945\nNO_SP POSITIVE    188  0.009139\nTAT   NEGATIVE    334  0.016236\nNO_SP NEGATIVE    422  0.020514\nLIPO  POSITIVE    447  0.021730\nSP    NEGATIVE    508  0.024695\nLIPO  NEGATIVE   1034  0.050265\nSP    EUKARYA    2512  0.122114\nNO_SP EUKARYA   14613  0.710369",
      "text/html": "<div>\n<style scoped>\n    .dataframe tbody tr th:only-of-type {\n        vertical-align: middle;\n    }\n\n    .dataframe tbody tr th {\n        vertical-align: top;\n    }\n\n    .dataframe thead th {\n        text-align: right;\n    }\n</style>\n<table border=\"1\" class=\"dataframe\">\n  <thead>\n    <tr style=\"text-align: right;\">\n      <th></th>\n      <th></th>\n      <th>count</th>\n      <th>fraction</th>\n    </tr>\n    <tr>\n      <th>type</th>\n      <th>kingdom</th>\n      <th></th>\n      <th></th>\n    </tr>\n  </thead>\n  <tbody>\n    <tr>\n      <th>TAT</th>\n      <th>ARCHAEA</th>\n      <td>27</td>\n      <td>0.001313</td>\n    </tr>\n    <tr>\n      <th>LIPO</th>\n      <th>ARCHAEA</th>\n      <td>28</td>\n      <td>0.001361</td>\n    </tr>\n    <tr>\n      <th>SP</th>\n      <th>ARCHAEA</th>\n      <td>60</td>\n      <td>0.002917</td>\n    </tr>\n    <tr>\n      <th>TAT</th>\n      <th>POSITIVE</th>\n      <td>95</td>\n      <td>0.004618</td>\n    </tr>\n    <tr>\n      <th>NO_SP</th>\n      <th>ARCHAEA</th>\n      <td>119</td>\n      <td>0.005785</td>\n    </tr>\n    <tr>\n      <th>SP</th>\n      <th>POSITIVE</th>\n      <td>184</td>\n      <td>0.008945</td>\n    </tr>\n    <tr>\n      <th>NO_SP</th>\n      <th>POSITIVE</th>\n      <td>188</td>\n      <td>0.009139</td>\n    </tr>\n    <tr>\n      <th>TAT</th>\n      <th>NEGATIVE</th>\n      <td>334</td>\n      <td>0.016236</td>\n    </tr>\n    <tr>\n      <th>NO_SP</th>\n      <th>NEGATIVE</th>\n      <td>422</td>\n      <td>0.020514</td>\n    </tr>\n    <tr>\n      <th>LIPO</th>\n      <th>POSITIVE</th>\n      <td>447</td>\n      <td>0.021730</td>\n    </tr>\n    <tr>\n      <th>SP</th>\n      <th>NEGATIVE</th>\n      <td>508</td>\n      <td>0.024695</td>\n    </tr>\n    <tr>\n      <th>LIPO</th>\n      <th>NEGATIVE</th>\n      <td>1034</td>\n      <td>0.050265</td>\n    </tr>\n    <tr>\n      <th>SP</th>\n      <th>EUKARYA</th>\n      <td>2512</td>\n      <td>0.122114</td>\n    </tr>\n    <tr>\n      <th>NO_SP</th>\n      <th>EUKARYA</th>\n      <td>14613</td>\n      <td>0.710369</td>\n    </tr>\n  </tbody>\n</table>\n</div>"
     },
     "execution_count": 28,
     "metadata": {},
     "output_type": "execute_result"
    }
   ],
   "source": [
    "counts = all_data.groupby([\"type\", \"kingdom\"]).agg(\"count\")\n",
    "counts[\"count\"] = counts[\"sequence\"]\n",
    "counts[\"fraction\"] = counts[\"sequence\"].map(lambda x: x/n)\n",
    "counts = counts[[\"count\", \"fraction\"]]\n",
    "counts.sort_values(by=\"count\")"
   ],
   "metadata": {
    "collapsed": false,
    "pycharm": {
     "name": "#%%\n"
    }
   }
  },
  {
   "cell_type": "code",
   "execution_count": 6,
   "outputs": [],
   "source": [
    "all_annotations = \"\".join([ann for ann in all_data[\"annotation\"]])\n",
    "test_annotations = \"\".join([ann for ann in all_data.query(\"partition == 0\")[\"annotation\"]])"
   ],
   "metadata": {
    "collapsed": false,
    "pycharm": {
     "name": "#%%\n"
    }
   }
  },
  {
   "cell_type": "code",
   "execution_count": 21,
   "outputs": [
    {
     "data": {
      "text/plain": "(20571, 2)"
     },
     "execution_count": 21,
     "metadata": {},
     "output_type": "execute_result"
    }
   ],
   "source": [
    "n = all_data.shape[0]"
   ],
   "metadata": {
    "collapsed": false,
    "pycharm": {
     "name": "#%%\n"
    }
   }
  },
  {
   "cell_type": "code",
   "execution_count": 10,
   "outputs": [],
   "source": [
    "type_proportions = {\n",
    "    type: all_data.query(f\"type == '{type}'\").shape[0] / n\n",
    "    for type in TYPES\n",
    "}\n",
    "\n",
    "kingdom_proportions = {\n",
    "    kingdom: all_data.query(f\"kingdom == '{kingdom}'\").shape[0] / n\n",
    "    for kingdom in KINGDOMS\n",
    "}\n",
    "\n",
    "label_proportions = {\n",
    "    label: test_annotations.count(label) / len(test_annotations)\n",
    "    for label in [c for c in \"STLIMO\"]\n",
    "}"
   ],
   "metadata": {
    "collapsed": false,
    "pycharm": {
     "name": "#%%\n"
    }
   }
  },
  {
   "cell_type": "code",
   "execution_count": 11,
   "outputs": [],
   "source": [
    "for filename, dict in zip([\"pathway_distribution\", \"kingdom_distribution\", \"label_distribution\"], [type_proportions, kingdom_proportions, label_proportions]):\n",
    "    with open(f\"../{filename}.pickle\", \"wb+\") as f:\n",
    "        pickle.dump(dict, f)"
   ],
   "metadata": {
    "collapsed": false,
    "pycharm": {
     "name": "#%%\n"
    }
   }
  },
  {
   "cell_type": "code",
   "execution_count": 12,
   "outputs": [
    {
     "data": {
      "text/plain": "{'SP': {'EUKARYA': 0.7696078431372549,\n  'ARCHAEA': 0.01838235294117647,\n  'POSITIVE': 0.056372549019607844,\n  'NEGATIVE': 0.1556372549019608},\n 'NO_SP': {'EUKARYA': 0.9524833789597185,\n  'ARCHAEA': 0.007756485464737322,\n  'POSITIVE': 0.012253943423282492,\n  'NEGATIVE': 0.027506192152261764},\n 'TAT': {'EUKARYA': 0.0,\n  'ARCHAEA': 0.05921052631578947,\n  'POSITIVE': 0.20833333333333334,\n  'NEGATIVE': 0.7324561403508771},\n 'LIPO': {'EUKARYA': 0.0,\n  'ARCHAEA': 0.01855533465871438,\n  'POSITIVE': 0.2962226640159046,\n  'NEGATIVE': 0.685222001325381}}"
     },
     "execution_count": 12,
     "metadata": {},
     "output_type": "execute_result"
    }
   ],
   "source": [
    "kingdom_by_type = {\n",
    "    type: {\n",
    "        kingdom: all_data.query(f\"type == '{type}' and kingdom == '{kingdom}'\").shape[0] / all_data.query(f\"type == '{type}'\").shape[0]\n",
    "        for kingdom in KINGDOMS\n",
    "    } for type in TYPES\n",
    "}\n",
    "kingdom_by_type"
   ],
   "metadata": {
    "collapsed": false,
    "pycharm": {
     "name": "#%%\n"
    }
   }
  },
  {
   "cell_type": "code",
   "execution_count": 13,
   "outputs": [
    {
     "data": {
      "text/plain": "{'EUKARYA': {'SP': 0.14668613138686132,\n  'NO_SP': 0.8533138686131387,\n  'TAT': 0.0,\n  'LIPO': 0.0},\n 'ARCHAEA': {'SP': 0.2564102564102564,\n  'NO_SP': 0.5085470085470085,\n  'TAT': 0.11538461538461539,\n  'LIPO': 0.11965811965811966},\n 'POSITIVE': {'SP': 0.2013129102844639,\n  'NO_SP': 0.20568927789934355,\n  'TAT': 0.10393873085339168,\n  'LIPO': 0.4890590809628009},\n 'NEGATIVE': {'SP': 0.22106179286335945,\n  'NO_SP': 0.1836379460400348,\n  'TAT': 0.1453437771975631,\n  'LIPO': 0.44995648389904264}}"
     },
     "execution_count": 13,
     "metadata": {},
     "output_type": "execute_result"
    }
   ],
   "source": [
    "type_by_kingdom = {\n",
    "    kingdom: {\n",
    "        type : all_data.query(f\"type == '{type}' and kingdom == '{kingdom}'\").shape[0] / all_data.query(f\"kingdom == '{kingdom}'\").shape[0]\n",
    "        for type in TYPES\n",
    "    }  for kingdom in KINGDOMS\n",
    "}\n",
    "\n",
    "type_by_kingdom"
   ],
   "metadata": {
    "collapsed": false,
    "pycharm": {
     "name": "#%%\n"
    }
   }
  }
 ],
 "metadata": {
  "kernelspec": {
   "display_name": "Python 3",
   "language": "python",
   "name": "python3"
  },
  "language_info": {
   "codemirror_mode": {
    "name": "ipython",
    "version": 2
   },
   "file_extension": ".py",
   "mimetype": "text/x-python",
   "name": "python",
   "nbconvert_exporter": "python",
   "pygments_lexer": "ipython2",
   "version": "2.7.6"
  }
 },
 "nbformat": 4,
 "nbformat_minor": 0
}