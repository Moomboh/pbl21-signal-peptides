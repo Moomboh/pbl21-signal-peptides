{
 "cells": [
  {
   "cell_type": "code",
   "execution_count": 88,
   "outputs": [],
   "source": [
    "from typing import Tuple, List\n",
    "import matplotlib.pyplot as plt\n",
    "import matplotlib\n",
    "import numpy as np\n",
    "import pandas as pd\n",
    "import pickle\n",
    "from tensorflow import keras\n",
    "import seaborn as sns\n",
    "from sklearn.metrics import ConfusionMatrixDisplay, confusion_matrix, multilabel_confusion_matrix\n",
    "\n",
    "from evaluation.serialization import Serializer\n",
    "from constants import TYPES, annotation_mapping, reverse_annotation_mapping, amino_acid_mapping\n",
    "from utils.encoding import sequenceToCategorical, categoricalToOneHot, categoricalToSequence, oneHotToCategorical\n",
    "from utils.Dataset import Dataset\n",
    "from utils.helpers import getDatasetPath"
   ],
   "metadata": {
    "collapsed": false,
    "pycharm": {
     "name": "#%%\n"
    }
   }
  },
  {
   "cell_type": "code",
   "execution_count": 3,
   "outputs": [],
   "source": [
    "run_timestamp = \"20211113-1438\"\n",
    "base_path = f\"../../results/{run_timestamp}/\"\n",
    "final_model = keras.models.load_model(base_path + f\"models/final_model.h5\")\n",
    "\n",
    "test_data = Dataset(getDatasetPath()).getFolds([0])\n",
    "\n",
    "test_x = np.array([categoricalToOneHot(sequenceToCategorical(seq, amino_acid_mapping), amino_acid_mapping) for seq in test_data[\"sequence\"]])\n",
    "predictions = final_model.predict(test_x)\n",
    "\n",
    "test_data[\"prediction\"] = np.array([categoricalToSequence(oneHotToCategorical(pred), reverse_annotation_mapping) for pred in predictions])"
   ],
   "metadata": {
    "collapsed": false,
    "pycharm": {
     "name": "#%%\n"
    }
   }
  },
  {
   "cell_type": "code",
   "execution_count": 4,
   "outputs": [],
   "source": [
    "def getRelevantData(query: str) -> Tuple[np.ndarray, np.ndarray]:\n",
    "    relevant_data = test_data.query(query)\n",
    "    y_pred = np.array([sequenceToCategorical(seq, annotation_mapping) for seq in relevant_data[\"prediction\"]])\n",
    "    y_true = np.array([sequenceToCategorical(seq, annotation_mapping) for seq in relevant_data[\"annotation\"]])\n",
    "\n",
    "    return (y_pred, y_true)"
   ],
   "metadata": {
    "collapsed": false,
    "pycharm": {
     "name": "#%%\n"
    }
   }
  },
  {
   "cell_type": "code",
   "execution_count": 57,
   "outputs": [
    {
     "data": {
      "text/plain": "<Figure size 1080x864 with 1 Axes>",
      "image/png": "[encoded data removed]"
     },
     "metadata": {
      "needs_background": "light"
     },
     "output_type": "display_data"
    }
   ],
   "source": [
    "(y_pred, y_true) = getRelevantData(\"index == index\")\n",
    "fig, ax = plt.subplots(figsize=(15,12))\n",
    "\n",
    "annotation_labels = [c for c in \"STLIMO\"]\n",
    "whole_cm = pd.DataFrame(\n",
    "    confusion_matrix(y_true.flatten(), y_pred.flatten()),\n",
    "    index = annotation_labels,\n",
    "    columns = annotation_labels\n",
    ")"
   ],
   "metadata": {
    "collapsed": false,
    "pycharm": {
     "name": "#%%\n"
    }
   }
  },
  {
   "cell_type": "code",
   "execution_count": 92,
   "outputs": [],
   "source": [
    "def generateBinaryConfusionMatrix(\n",
    "        class1: List[str], class2: List[str],\n",
    "        labels: List[str],\n",
    "        title: str,filename: str) -> None:\n",
    "\n",
    "    data = np.array([\n",
    "        [whole_cm.loc[class1, class1].sum().sum(), whole_cm.loc[class1, class2].sum().sum()],\n",
    "        [whole_cm.loc[class2, class1].sum().sum(), whole_cm.loc[class2, class2].sum().sum()]\n",
    "    ])\n",
    "\n",
    "    df = pd.DataFrame(data, index=labels, columns=labels)\n",
    "\n",
    "    plotConfusionMatrix(df, title, filename)\n"
   ],
   "metadata": {
    "collapsed": false,
    "pycharm": {
     "name": "#%%\n"
    }
   }
  },
  {
   "cell_type": "code",
   "execution_count": 93,
   "outputs": [],
   "source": [
    "def plotConfusionMatrix(confusion_matrix: np.ndarray, title: str, filename: str) -> None:\n",
    "    # Create dataframe with relative values\n",
    "    cm = confusion_matrix.copy()\n",
    "    cm_ratio = cm.applymap(lambda x: x / cm.sum().sum())\n",
    "\n",
    "    fig, ax = plt.subplots(figsize=(12,12))\n",
    "\n",
    "    # Absolute values\n",
    "    sns.heatmap(\n",
    "        cm,\n",
    "        annot=True, fmt=\"d\",\n",
    "        annot_kws={\"va\": \"bottom\"},\n",
    "        linewidths=2,\n",
    "        norm=matplotlib.colors.LogNorm(),\n",
    "        cmap=\"BuPu\",\n",
    "        ax=ax\n",
    "    )\n",
    "\n",
    "    # Percentage values on top\n",
    "    sns.heatmap(\n",
    "        cm_ratio,\n",
    "        linewidths=2,\n",
    "        annot=True,\n",
    "        annot_kws={\"va\": \"top\"},\n",
    "        fmt=\".2%\",\n",
    "        norm=matplotlib.colors.LogNorm(),\n",
    "        cmap=\"BuPu\",\n",
    "        cbar=False,\n",
    "        ax=ax\n",
    "    )\n",
    "\n",
    "    ax.set_title(title)\n",
    "    ax.set_xlabel(\"Predicted label\")\n",
    "    ax.set_ylabel(\"True label\")\n",
    "    ax.set_yticklabels(ax.get_yticklabels(), rotation=0)\n",
    "    fig.set_size_inches(4, 3)\n",
    "    fig.tight_layout()\n",
    "    fig.savefig(f\"output/{filename}.png\", dpi=240)"
   ],
   "metadata": {
    "collapsed": false,
    "pycharm": {
     "name": "#%%\n"
    }
   }
  },
  {
   "cell_type": "markdown",
   "source": [
    "### SPs vs. non-SPs"
   ],
   "metadata": {
    "collapsed": false
   }
  },
  {
   "cell_type": "code",
   "execution_count": null,
   "outputs": [],
   "source": [
    "sp_labels = ['S', 'T', 'L']\n",
    "non_sp_labels = ['I', 'M', 'O']\n",
    "generateBinaryConfusionMatrix(sp_labels, non_sp_labels, [\"SP\", \"no SP\"], \"SP vs. non-SP\", \"confusion_matrix_sp_vs_non_sp\")"
   ],
   "metadata": {
    "collapsed": false,
    "pycharm": {
     "name": "#%%\n"
    }
   }
  },
  {
   "cell_type": "markdown",
   "source": [
    "### Tat vs. Sec/SPI&II"
   ],
   "metadata": {
    "collapsed": false
   }
  },
  {
   "cell_type": "code",
   "execution_count": null,
   "outputs": [],
   "source": [
    "generateBinaryConfusionMatrix([\"T\"], [\"S\", \"L\"], [\"Tat\", \"Sec/SPI&II\"], \"Tat vs. Sec/SPI&II\", \"confusion_matrix_tat_vs_sec\")"
   ],
   "metadata": {
    "collapsed": false,
    "pycharm": {
     "name": "#%%\n"
    }
   }
  },
  {
   "cell_type": "markdown",
   "source": [
    "### Sec/SPI vs. Sec/SPII"
   ],
   "metadata": {
    "collapsed": false,
    "pycharm": {
     "name": "#%% md\n"
    }
   }
  },
  {
   "cell_type": "code",
   "execution_count": 96,
   "outputs": [
    {
     "data": {
      "text/plain": "<Figure size 288x216 with 2 Axes>",
      "image/png": "[encoded data removed]"
     },
     "metadata": {
      "needs_background": "light"
     },
     "output_type": "display_data"
    }
   ],
   "source": [
    "generateBinaryConfusionMatrix([\"S\"], [\"L\"], [\"Sec/SPI\", \"Sec/SPII\"], \"Sec/SPI vs. Sec/SPII\", \"confusion_matrix_secsp1_vs_secsp2\")"
   ],
   "metadata": {
    "collapsed": false,
    "pycharm": {
     "name": "#%%\n"
    }
   }
  },
  {
   "cell_type": "markdown",
   "source": [
    "### Transmembrane vs. Cytoplasm&Extracellular"
   ],
   "metadata": {
    "collapsed": false,
    "pycharm": {
     "name": "#%% md\n"
    }
   }
  },
  {
   "cell_type": "code",
   "execution_count": 97,
   "outputs": [
    {
     "data": {
      "text/plain": "<Figure size 288x216 with 2 Axes>",
      "image/png": "[encoded data removed]"
     },
     "metadata": {
      "needs_background": "light"
     },
     "output_type": "display_data"
    }
   ],
   "source": [
    "generateBinaryConfusionMatrix(\n",
    "    [\"M\"], [\"I\", \"O\"],\n",
    "    [\"M\", \"I+O\"],\n",
    "    \"Transmembrane vs. Cytoplasm/Extracellular\",\n",
    "    \"confusion_matrix_transmembrane_vs_cytoplasm_and_extracellular\"\n",
    ")"
   ],
   "metadata": {
    "collapsed": false,
    "pycharm": {
     "name": "#%%\n"
    }
   }
  },
  {
   "cell_type": "markdown",
   "source": [
    "### Cytoplasm vs. Extracellular"
   ],
   "metadata": {
    "collapsed": false,
    "pycharm": {
     "name": "#%% md\n"
    }
   }
  },
  {
   "cell_type": "code",
   "execution_count": 99,
   "outputs": [
    {
     "data": {
      "text/plain": "<Figure size 288x216 with 2 Axes>",
      "image/png": "[encoded data removed]"
     },
     "metadata": {
      "needs_background": "light"
     },
     "output_type": "display_data"
    }
   ],
   "source": [
    "generateBinaryConfusionMatrix(\n",
    "    [\"I\"], [\"O\"],\n",
    "    [\"I\", \"O\"],\n",
    "    \"Cytoplasm vs. Extracellular\",\n",
    "    \"confusion_matrix_cytoplasm_vs_extracellular\"\n",
    ")\n"
   ],
   "metadata": {
    "collapsed": false,
    "pycharm": {
     "name": "#%%\n"
    }
   }
  }
 ],
 "metadata": {
  "kernelspec": {
   "display_name": "Python 3",
   "language": "python",
   "name": "python3"
  },
  "language_info": {
   "codemirror_mode": {
    "name": "ipython",
    "version": 2
   },
   "file_extension": ".py",
   "mimetype": "text/x-python",
   "name": "python",
   "nbconvert_exporter": "python",
   "pygments_lexer": "ipython2",
   "version": "2.7.6"
  }
 },
 "nbformat": 4,
 "nbformat_minor": 0
}