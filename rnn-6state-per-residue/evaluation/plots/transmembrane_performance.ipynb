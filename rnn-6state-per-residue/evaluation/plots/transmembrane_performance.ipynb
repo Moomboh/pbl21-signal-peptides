{
 "cells": [
  {
   "cell_type": "code",
   "execution_count": null,
   "metadata": {
    "collapsed": true
   },
   "outputs": [],
   "source": []
  },
  {
   "cell_type": "code",
   "execution_count": 2,
   "outputs": [],
   "source": [
    "from typing import Tuple\n",
    "import matplotlib.pyplot as plt\n",
    "import matplotlib\n",
    "import numpy as np\n",
    "import pandas as pd\n",
    "import pickle\n",
    "import seaborn as sns\n",
    "\n",
    "from colors import final_color, cv_color\n",
    "from constants import KINGDOMS\n",
    "from evaluation.serialization import Serializer"
   ],
   "metadata": {
    "collapsed": false,
    "pycharm": {
     "name": "#%%\n"
    }
   }
  },
  {
   "cell_type": "code",
   "execution_count": 5,
   "outputs": [],
   "source": [
    "cv_final_metrics = Serializer.load(\"cv_metrics\").query(\"label != 'overall'\")\n",
    "final_metrics = Serializer.load(\"final_metrics\").query(\"label != 'overall'\").query(\"label != 'overall'\")\n",
    "\n",
    "# Preserve label order\n",
    "final_metrics[\"label\"] = pd.Categorical(final_metrics[\"label\"], [c for c in \"STLIMO\"])\n",
    "cv_final_metrics[\"label\"] = pd.Categorical(cv_final_metrics[\"label\"], [c for c in \"STLIMO\"])"
   ],
   "metadata": {
    "collapsed": false,
    "pycharm": {
     "name": "#%%\n"
    }
   }
  },
  {
   "cell_type": "code",
   "execution_count": 10,
   "outputs": [],
   "source": [
    "final_data = final_metrics\\\n",
    "    .query(\"kingdom == 'overall' and label != 'overall'\")\\\n",
    "    .groupby([\"metric\", \"kingdom\", \"label\"])\\\n",
    "    .agg([\"mean\", \"std\"])\\\n",
    "    [\"value\"]"
   ],
   "metadata": {
    "collapsed": false,
    "pycharm": {
     "name": "#%%\n"
    }
   }
  },
  {
   "cell_type": "code",
   "execution_count": 11,
   "outputs": [],
   "source": [
    "cv_average_data = cv_final_metrics\\\n",
    "    .query(\"kingdom == 'overall' and label != 'overall'\")\\\n",
    "    .groupby([\"metric\", \"kingdom\", \"label\"])\\\n",
    "    .agg([\"mean\", \"std\"])\\\n",
    "    [\"value\"]"
   ],
   "metadata": {
    "collapsed": false,
    "pycharm": {
     "name": "#%%\n"
    }
   }
  },
  {
   "cell_type": "code",
   "execution_count": 20,
   "outputs": [
    {
     "data": {
      "text/plain": "metric     kingdom  label\nmcc        overall  M        0.759335\nprecision  overall  M        0.759609\nrecall     overall  M        0.771728\nName: mean, dtype: float64"
     },
     "execution_count": 20,
     "metadata": {},
     "output_type": "execute_result"
    }
   ],
   "source": [
    "cv_average_data.query(f\"label == 'M'\")[\"mean\"]"
   ],
   "metadata": {
    "collapsed": false,
    "pycharm": {
     "name": "#%%\n"
    }
   }
  },
  {
   "cell_type": "code",
   "execution_count": 38,
   "outputs": [
    {
     "data": {
      "text/plain": "<Figure size 288x216 with 1 Axes>",
      "image/png": "[encoded data removed]"
     },
     "metadata": {},
     "output_type": "display_data"
    }
   ],
   "source": [
    "sns.set_theme()\n",
    "matplotlib.rcParams.update({\"errorbar.capsize\": 5})\n",
    "\n",
    "bar_width = 0.3\n",
    "metrics = [\"mcc\", \"precision\", \"recall\"]\n",
    "labels = [\"MCC\", \"Precision\", \"Recall\"]\n",
    "r1 = np.arange(len(metrics))\n",
    "r2 = r1 + bar_width\n",
    "\n",
    "final_values = plt.bar(\n",
    "    r1,\n",
    "    final_data.query(f\"label == 'M'\")[\"mean\"],\n",
    "    yerr=final_data.query(f\"label == 'M'\")[\"std\"],\n",
    "    width=bar_width,\n",
    "    color=final_color,\n",
    "    label=\"Final model\"\n",
    ")\n",
    "\n",
    "cv_values = plt.bar(\n",
    "    r2,\n",
    "    cv_average_data.query(f\"label == 'M'\")[\"mean\"],\n",
    "    yerr=cv_average_data.query(f\"label == 'M'\")[\"std\"],\n",
    "    width=bar_width,\n",
    "    color=cv_color,\n",
    "    label=\"CV average\"\n",
    ")\n",
    "\n",
    "plt.gca().set_ylabel(\"Score\")\n",
    "plt.gca().set_xticks(r1 + bar_width/2)\n",
    "plt.gca().set_xticklabels(labels)\n",
    "plt.gca().set_ylim([0.0, 1.09])\n",
    "plt.suptitle(\"Performance for label 'M' (transmembrane)\")\n",
    "\n",
    "plt.bar_label(final_values, padding=2, fmt=\"%.2f\")\n",
    "plt.bar_label(cv_values, padding=2, fmt=\"%.2f\")\n",
    "\n",
    "plt.legend(loc=\"lower right\")\n",
    "plt.tight_layout()\n",
    "plt.gcf().set_size_inches(4, 3)\n",
    "plt.gcf().savefig(\"output/transmembrane_performance.png\", dpi=240)"
   ],
   "metadata": {
    "collapsed": false,
    "pycharm": {
     "name": "#%%\n"
    }
   }
  }
 ],
 "metadata": {
  "kernelspec": {
   "display_name": "Python 3",
   "language": "python",
   "name": "python3"
  },
  "language_info": {
   "codemirror_mode": {
    "name": "ipython",
    "version": 2
   },
   "file_extension": ".py",
   "mimetype": "text/x-python",
   "name": "python",
   "nbconvert_exporter": "python",
   "pygments_lexer": "ipython2",
   "version": "2.7.6"
  }
 },
 "nbformat": 4,
 "nbformat_minor": 0
}