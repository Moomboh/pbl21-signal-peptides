{
 "cells": [
  {
   "cell_type": "code",
   "execution_count": 3,
   "outputs": [],
   "source": [
    "from typing import Tuple\n",
    "import matplotlib.pyplot as plt\n",
    "import matplotlib\n",
    "import numpy as np\n",
    "import pandas as pd\n",
    "import pickle\n",
    "from tensorflow import keras\n",
    "import seaborn as sns\n",
    "from sklearn.metrics import ConfusionMatrixDisplay, confusion_matrix, multilabel_confusion_matrix\n",
    "\n",
    "from evaluation.serialization import Serializer\n",
    "from constants import TYPES, annotation_mapping, reverse_annotation_mapping, amino_acid_mapping\n",
    "from utils.encoding import sequenceToCategorical, categoricalToOneHot, categoricalToSequence, oneHotToCategorical\n",
    "from utils.Dataset import Dataset\n",
    "from utils.helpers import getDatasetPath"
   ],
   "metadata": {
    "collapsed": false,
    "pycharm": {
     "name": "#%%\n"
    }
   }
  },
  {
   "cell_type": "code",
   "execution_count": 5,
   "outputs": [],
   "source": [
    "run_timestamp = \"20211113-1438\"\n",
    "base_path = f\"../results/{run_timestamp}/\"\n",
    "final_model = keras.models.load_model(base_path + f\"models/final_model.h5\")\n",
    "\n",
    "\n",
    "test_data = Dataset(getDatasetPath()).getFolds([0])\n",
    "\n",
    "\n",
    "test_x = np.array([categoricalToOneHot(sequenceToCategorical(seq, amino_acid_mapping), amino_acid_mapping) for seq in test_data[\"sequence\"]])\n",
    "predictions = final_model.predict(test_x)\n",
    "\n",
    "test_data[\"prediction\"] = np.array([categoricalToSequence(oneHotToCategorical(pred), reverse_annotation_mapping) for pred in predictions])"
   ],
   "metadata": {
    "collapsed": false,
    "pycharm": {
     "name": "#%%\n"
    }
   }
  },
  {
   "cell_type": "code",
   "execution_count": 6,
   "outputs": [],
   "source": [
    "def getRelevantData(query: str) -> Tuple[np.ndarray, np.ndarray]:\n",
    "    relevant_data = test_data.query(query)\n",
    "    y_pred = np.array([sequenceToCategorical(seq, annotation_mapping) for seq in relevant_data[\"prediction\"]])\n",
    "    y_true = np.array([sequenceToCategorical(seq, annotation_mapping) for seq in relevant_data[\"annotation\"]])\n",
    "\n",
    "    return (y_pred, y_true)"
   ],
   "metadata": {
    "collapsed": false,
    "pycharm": {
     "name": "#%%\n"
    }
   }
  },
  {
   "cell_type": "code",
   "execution_count": 7,
   "outputs": [],
   "source": [
    "cv_training_metrics = Serializer.load(\"cv_training_metrics\")\n",
    "cv_final_metrics = Serializer.load(\"cv_metrics\")\n",
    "final_training_metrics = Serializer.load(\"final_training_metrics\")\n",
    "final_metrics = Serializer.load(\"final_metrics\")"
   ],
   "metadata": {
    "collapsed": false,
    "pycharm": {
     "name": "#%%\n"
    }
   }
  },
  {
   "cell_type": "code",
   "execution_count": 111,
   "outputs": [],
   "source": [
    "(y_pred, y_true) = getRelevantData(\"index == index\")\n",
    "\n",
    "annotation_labels = [c for c in \"STLIMO\"]\n",
    "cm = pd.DataFrame(\n",
    "    confusion_matrix(y_true.flatten(), y_pred.flatten()),\n",
    "    index = annotation_labels,\n",
    "    columns = annotation_labels\n",
    ")"
   ],
   "metadata": {
    "collapsed": false,
    "pycharm": {
     "name": "#%%\n"
    }
   }
  },
  {
   "cell_type": "code",
   "execution_count": 125,
   "outputs": [],
   "source": [
    "# Compute metrics per class\n",
    "n = cm.values.sum()\n",
    "tp = np.diag(cm)\n",
    "fp = np.array([np.sum(cm[label]) - cm[label][label] for label in annotation_labels])\n",
    "fn = np.array([np.sum(cm[:][label]) - cm[label][label] for label in annotation_labels])\n",
    "tn = np.array([cm.drop(label, axis=0).drop(label, axis=1).values.sum() for label in annotation_labels])"
   ],
   "metadata": {
    "collapsed": false,
    "pycharm": {
     "name": "#%%\n"
    }
   }
  },
  {
   "cell_type": "code",
   "execution_count": 132,
   "outputs": [
    {
     "data": {
      "text/plain": "S    13110\nT       52\nL      337\nI      448\nM      236\nO      558\nName: S, dtype: int64"
     },
     "execution_count": 132,
     "metadata": {},
     "output_type": "execute_result"
    }
   ],
   "source": [
    "cm[\"S\"]"
   ],
   "metadata": {
    "collapsed": false,
    "pycharm": {
     "name": "#%%\n"
    }
   }
  },
  {
   "cell_type": "code",
   "execution_count": 129,
   "outputs": [
    {
     "data": {
      "text/plain": "True"
     },
     "execution_count": 129,
     "metadata": {},
     "output_type": "execute_result"
    }
   ],
   "source": [
    "for i, label in enumerate(annotation_labels):\n",
    "    print(label)\n",
    "    prec = (fp[i])\n",
    "    print(\"Precision: \" + prec)\n",
    "    print(\"Recall: \" + rec)"
   ],
   "metadata": {
    "collapsed": false,
    "pycharm": {
     "name": "#%%\n"
    }
   }
  },
  {
   "cell_type": "code",
   "execution_count": 113,
   "outputs": [
    {
     "name": "stdout",
     "output_type": "stream",
     "text": [
      "275735\n",
      "11545\n",
      "11545\n",
      "1424855\n",
      "287280\n"
     ]
    }
   ],
   "source": [
    "prec = (tp.sum() + fp.sum()) / n\n",
    "print(tp.sum())\n",
    "print(fp.sum())\n",
    "print(fn.sum())\n",
    "print(tn.sum())\n",
    "print(n)"
   ],
   "metadata": {
    "collapsed": false,
    "pycharm": {
     "name": "#%%\n"
    }
   }
  },
  {
   "cell_type": "code",
   "execution_count": null,
   "outputs": [],
   "source": [
    "# Add sum columns\n",
    "cm.loc[\"Total\", :] = cm.sum(axis=0)\n",
    "cm.loc[:, \"Total\"] = cm.sum(axis=1)\n",
    "cm = cm.astype(int)"
   ],
   "metadata": {
    "collapsed": false,
    "pycharm": {
     "name": "#%%\n"
    }
   }
  },
  {
   "cell_type": "code",
   "execution_count": 45,
   "outputs": [
    {
     "data": {
      "text/plain": "           S     T     L       I     M      O   Total\nS      13110   210   412     471   360    784   15347\nT         52  3014    33      91     0    101    3291\nL        337    57  5442      31     0     96    5963\nI        448   145    42  199473   619   2022  202749\nM        236     0    64     648  5634    680    7262\nO        558   106    89    2282   571  49062   52668\nTotal  14741  3532  6082  202996  7184  52745  287280",
      "text/html": "<div>\n<style scoped>\n    .dataframe tbody tr th:only-of-type {\n        vertical-align: middle;\n    }\n\n    .dataframe tbody tr th {\n        vertical-align: top;\n    }\n\n    .dataframe thead th {\n        text-align: right;\n    }\n</style>\n<table border=\"1\" class=\"dataframe\">\n  <thead>\n    <tr style=\"text-align: right;\">\n      <th></th>\n      <th>S</th>\n      <th>T</th>\n      <th>L</th>\n      <th>I</th>\n      <th>M</th>\n      <th>O</th>\n      <th>Total</th>\n    </tr>\n  </thead>\n  <tbody>\n    <tr>\n      <th>S</th>\n      <td>13110</td>\n      <td>210</td>\n      <td>412</td>\n      <td>471</td>\n      <td>360</td>\n      <td>784</td>\n      <td>15347</td>\n    </tr>\n    <tr>\n      <th>T</th>\n      <td>52</td>\n      <td>3014</td>\n      <td>33</td>\n      <td>91</td>\n      <td>0</td>\n      <td>101</td>\n      <td>3291</td>\n    </tr>\n    <tr>\n      <th>L</th>\n      <td>337</td>\n      <td>57</td>\n      <td>5442</td>\n      <td>31</td>\n      <td>0</td>\n      <td>96</td>\n      <td>5963</td>\n    </tr>\n    <tr>\n      <th>I</th>\n      <td>448</td>\n      <td>145</td>\n      <td>42</td>\n      <td>199473</td>\n      <td>619</td>\n      <td>2022</td>\n      <td>202749</td>\n    </tr>\n    <tr>\n      <th>M</th>\n      <td>236</td>\n      <td>0</td>\n      <td>64</td>\n      <td>648</td>\n      <td>5634</td>\n      <td>680</td>\n      <td>7262</td>\n    </tr>\n    <tr>\n      <th>O</th>\n      <td>558</td>\n      <td>106</td>\n      <td>89</td>\n      <td>2282</td>\n      <td>571</td>\n      <td>49062</td>\n      <td>52668</td>\n    </tr>\n    <tr>\n      <th>Total</th>\n      <td>14741</td>\n      <td>3532</td>\n      <td>6082</td>\n      <td>202996</td>\n      <td>7184</td>\n      <td>52745</td>\n      <td>287280</td>\n    </tr>\n  </tbody>\n</table>\n</div>"
     },
     "execution_count": 45,
     "metadata": {},
     "output_type": "execute_result"
    }
   ],
   "source": [
    "cm"
   ],
   "metadata": {
    "collapsed": false,
    "pycharm": {
     "name": "#%%\n"
    }
   }
  }
 ],
 "metadata": {
  "kernelspec": {
   "display_name": "Python 3",
   "language": "python",
   "name": "python3"
  },
  "language_info": {
   "codemirror_mode": {
    "name": "ipython",
    "version": 2
   },
   "file_extension": ".py",
   "mimetype": "text/x-python",
   "name": "python",
   "nbconvert_exporter": "python",
   "pygments_lexer": "ipython2",
   "version": "2.7.6"
  }
 },
 "nbformat": 4,
 "nbformat_minor": 0
}